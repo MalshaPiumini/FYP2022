{
  "nbformat": 4,
  "nbformat_minor": 0,
  "metadata": {
    "colab": {
      "name": "FYP-2022March-mcsDataset.ipynb",
      "provenance": [],
      "authorship_tag": "ABX9TyPxngO7HcirsOAxQXOE1Git",
      "include_colab_link": true
    },
    "kernelspec": {
      "name": "python3",
      "display_name": "Python 3"
    },
    "language_info": {
      "name": "python"
    }
  },
  "cells": [
    {
      "cell_type": "markdown",
      "metadata": {
        "id": "view-in-github",
        "colab_type": "text"
      },
      "source": [
        "<a href=\"https://colab.research.google.com/github/MalshaPiumini/FYP2022/blob/test-01/FYP_2022March_mcsDataset.ipynb\" target=\"_parent\"><img src=\"https://colab.research.google.com/assets/colab-badge.svg\" alt=\"Open In Colab\"/></a>"
      ]
    },
    {
      "cell_type": "markdown",
      "source": [
        "# **I M P O R T S**"
      ],
      "metadata": {
        "id": "YA_iNfNgH7Er"
      }
    },
    {
      "cell_type": "code",
      "execution_count": 94,
      "metadata": {
        "id": "LyiMWy6w1Tue",
        "colab": {
          "base_uri": "https://localhost:8080/"
        },
        "outputId": "f4fe6f95-dea3-4ceb-cff1-26e1730e88ed"
      },
      "outputs": [
        {
          "output_type": "stream",
          "name": "stdout",
          "text": [
            "Drive already mounted at /content/drive; to attempt to forcibly remount, call drive.mount(\"/content/drive\", force_remount=True).\n"
          ]
        }
      ],
      "source": [
        "from google.colab import drive\n",
        "drive.mount('/content/drive')"
      ]
    },
    {
      "cell_type": "code",
      "source": [
        "!pip install unidecode\n",
        "!pip install emoji --upgrade"
      ],
      "metadata": {
        "id": "ErxdK5-j1dJT",
        "colab": {
          "base_uri": "https://localhost:8080/"
        },
        "outputId": "c733c080-f3a2-4741-a5ca-f03c64dafcc0"
      },
      "execution_count": 95,
      "outputs": [
        {
          "output_type": "stream",
          "name": "stdout",
          "text": [
            "Requirement already satisfied: unidecode in /usr/local/lib/python3.7/dist-packages (1.3.3)\n",
            "Requirement already satisfied: emoji in /usr/local/lib/python3.7/dist-packages (1.6.3)\n"
          ]
        }
      ]
    },
    {
      "cell_type": "code",
      "source": [
        "# Importing Libraries\n",
        "import pandas as pd\n",
        "from bs4 import BeautifulSoup\n",
        "from unidecode import unidecode\n",
        "import numpy as np\n",
        "import random\n",
        "import re\n",
        "import psycopg2 as ps\n",
        "import string\n",
        "import emoji\n",
        "import joblib"
      ],
      "metadata": {
        "id": "6z0-bFQe5O5Q"
      },
      "execution_count": 96,
      "outputs": []
    },
    {
      "cell_type": "code",
      "source": [
        "#Testing emoji Library\n",
        "print(emoji.emojize('Python es :pulgar_hacia_arriba:', language='es'))"
      ],
      "metadata": {
        "id": "dbna0VZSMgTh",
        "colab": {
          "base_uri": "https://localhost:8080/"
        },
        "outputId": "c5cdd9c4-579c-4266-8702-ae531812805e"
      },
      "execution_count": 97,
      "outputs": [
        {
          "output_type": "stream",
          "name": "stdout",
          "text": [
            "Python es 👍\n"
          ]
        }
      ]
    },
    {
      "cell_type": "code",
      "source": [
        ""
      ],
      "metadata": {
        "id": "LX4z0fPulJt6"
      },
      "execution_count": 97,
      "outputs": []
    },
    {
      "cell_type": "markdown",
      "source": [
        "# **O P E N__D A T A S E T ✌**\n",
        "\n",
        "\n"
      ],
      "metadata": {
        "id": "U5FwrQbh5Tyh"
      }
    },
    {
      "cell_type": "code",
      "source": [
        "# hateSpeechData = pd.read_csv(\"/content/drive/MyDrive/Colab Notebooks/FYP Implementations/PSPD-Dataset-2022 - Sheet1.csv\" )\n",
        "hateSpeechData = pd.read_csv(\"/content/drive/MyDrive/Colab Notebooks/FYP Implementations/PSPD-Dataset-2022 - balanced.csv\" )"
      ],
      "metadata": {
        "id": "SFkphHZk5XAt"
      },
      "execution_count": 98,
      "outputs": []
    },
    {
      "cell_type": "code",
      "source": [
        "#Setting the column width\n",
        "pd.set_option('display.max_colwidth', 100)\n",
        "\n",
        "#Setting the column names\n",
        "# hateSpeechData.columns = ['Text','Feeling', 'Emotion','Label']\n",
        "\n",
        "hateSpeechData.columns = ['Comments','Label']\n",
        "\n",
        "#Printing first 5 rows\n",
        "hateSpeechData.head()"
      ],
      "metadata": {
        "colab": {
          "base_uri": "https://localhost:8080/",
          "height": 0
        },
        "id": "LviJh0Qp1_3b",
        "outputId": "d320b077-1c25-41cf-91f4-2a05afec66fc"
      },
      "execution_count": 99,
      "outputs": [
        {
          "output_type": "execute_result",
          "data": {
            "text/html": [
              "\n",
              "  <div id=\"df-9e42a9ae-9131-4f43-8732-4a03f77ea39a\">\n",
              "    <div class=\"colab-df-container\">\n",
              "      <div>\n",
              "<style scoped>\n",
              "    .dataframe tbody tr th:only-of-type {\n",
              "        vertical-align: middle;\n",
              "    }\n",
              "\n",
              "    .dataframe tbody tr th {\n",
              "        vertical-align: top;\n",
              "    }\n",
              "\n",
              "    .dataframe thead th {\n",
              "        text-align: right;\n",
              "    }\n",
              "</style>\n",
              "<table border=\"1\" class=\"dataframe\">\n",
              "  <thead>\n",
              "    <tr style=\"text-align: right;\">\n",
              "      <th></th>\n",
              "      <th>Comments</th>\n",
              "      <th>Label</th>\n",
              "    </tr>\n",
              "  </thead>\n",
              "  <tbody>\n",
              "    <tr>\n",
              "      <th>0</th>\n",
              "      <td>mun kata aran kiyana katha balapanko nikn puke talk danna epa hutto ekath kalawak 🖕</td>\n",
              "      <td>Hate</td>\n",
              "    </tr>\n",
              "    <tr>\n",
              "      <th>1</th>\n",
              "      <td>ammata hukapu gon huththige putha samajeta adarshawath deyak karapan 😣</td>\n",
              "      <td>Hate</td>\n",
              "    </tr>\n",
              "    <tr>\n",
              "      <th>2</th>\n",
              "      <td>pakaya ballek wage marila inna ekak dapan</td>\n",
              "      <td>Hate</td>\n",
              "    </tr>\n",
              "    <tr>\n",
              "      <th>3</th>\n",
              "      <td>eeya hutto idakin kolukara haththa 😅 blaakka</td>\n",
              "      <td>Hate</td>\n",
              "    </tr>\n",
              "    <tr>\n",
              "      <th>4</th>\n",
              "      <td>mona hutte sinduda me thu witharak</td>\n",
              "      <td>Hate</td>\n",
              "    </tr>\n",
              "  </tbody>\n",
              "</table>\n",
              "</div>\n",
              "      <button class=\"colab-df-convert\" onclick=\"convertToInteractive('df-9e42a9ae-9131-4f43-8732-4a03f77ea39a')\"\n",
              "              title=\"Convert this dataframe to an interactive table.\"\n",
              "              style=\"display:none;\">\n",
              "        \n",
              "  <svg xmlns=\"http://www.w3.org/2000/svg\" height=\"24px\"viewBox=\"0 0 24 24\"\n",
              "       width=\"24px\">\n",
              "    <path d=\"M0 0h24v24H0V0z\" fill=\"none\"/>\n",
              "    <path d=\"M18.56 5.44l.94 2.06.94-2.06 2.06-.94-2.06-.94-.94-2.06-.94 2.06-2.06.94zm-11 1L8.5 8.5l.94-2.06 2.06-.94-2.06-.94L8.5 2.5l-.94 2.06-2.06.94zm10 10l.94 2.06.94-2.06 2.06-.94-2.06-.94-.94-2.06-.94 2.06-2.06.94z\"/><path d=\"M17.41 7.96l-1.37-1.37c-.4-.4-.92-.59-1.43-.59-.52 0-1.04.2-1.43.59L10.3 9.45l-7.72 7.72c-.78.78-.78 2.05 0 2.83L4 21.41c.39.39.9.59 1.41.59.51 0 1.02-.2 1.41-.59l7.78-7.78 2.81-2.81c.8-.78.8-2.07 0-2.86zM5.41 20L4 18.59l7.72-7.72 1.47 1.35L5.41 20z\"/>\n",
              "  </svg>\n",
              "      </button>\n",
              "      \n",
              "  <style>\n",
              "    .colab-df-container {\n",
              "      display:flex;\n",
              "      flex-wrap:wrap;\n",
              "      gap: 12px;\n",
              "    }\n",
              "\n",
              "    .colab-df-convert {\n",
              "      background-color: #E8F0FE;\n",
              "      border: none;\n",
              "      border-radius: 50%;\n",
              "      cursor: pointer;\n",
              "      display: none;\n",
              "      fill: #1967D2;\n",
              "      height: 32px;\n",
              "      padding: 0 0 0 0;\n",
              "      width: 32px;\n",
              "    }\n",
              "\n",
              "    .colab-df-convert:hover {\n",
              "      background-color: #E2EBFA;\n",
              "      box-shadow: 0px 1px 2px rgba(60, 64, 67, 0.3), 0px 1px 3px 1px rgba(60, 64, 67, 0.15);\n",
              "      fill: #174EA6;\n",
              "    }\n",
              "\n",
              "    [theme=dark] .colab-df-convert {\n",
              "      background-color: #3B4455;\n",
              "      fill: #D2E3FC;\n",
              "    }\n",
              "\n",
              "    [theme=dark] .colab-df-convert:hover {\n",
              "      background-color: #434B5C;\n",
              "      box-shadow: 0px 1px 3px 1px rgba(0, 0, 0, 0.15);\n",
              "      filter: drop-shadow(0px 1px 2px rgba(0, 0, 0, 0.3));\n",
              "      fill: #FFFFFF;\n",
              "    }\n",
              "  </style>\n",
              "\n",
              "      <script>\n",
              "        const buttonEl =\n",
              "          document.querySelector('#df-9e42a9ae-9131-4f43-8732-4a03f77ea39a button.colab-df-convert');\n",
              "        buttonEl.style.display =\n",
              "          google.colab.kernel.accessAllowed ? 'block' : 'none';\n",
              "\n",
              "        async function convertToInteractive(key) {\n",
              "          const element = document.querySelector('#df-9e42a9ae-9131-4f43-8732-4a03f77ea39a');\n",
              "          const dataTable =\n",
              "            await google.colab.kernel.invokeFunction('convertToInteractive',\n",
              "                                                     [key], {});\n",
              "          if (!dataTable) return;\n",
              "\n",
              "          const docLinkHtml = 'Like what you see? Visit the ' +\n",
              "            '<a target=\"_blank\" href=https://colab.research.google.com/notebooks/data_table.ipynb>data table notebook</a>'\n",
              "            + ' to learn more about interactive tables.';\n",
              "          element.innerHTML = '';\n",
              "          dataTable['output_type'] = 'display_data';\n",
              "          await google.colab.output.renderOutput(dataTable, element);\n",
              "          const docLink = document.createElement('div');\n",
              "          docLink.innerHTML = docLinkHtml;\n",
              "          element.appendChild(docLink);\n",
              "        }\n",
              "      </script>\n",
              "    </div>\n",
              "  </div>\n",
              "  "
            ],
            "text/plain": [
              "                                                                              Comments  \\\n",
              "0  mun kata aran kiyana katha balapanko nikn puke talk danna epa hutto ekath kalawak 🖕   \n",
              "1               ammata hukapu gon huththige putha samajeta adarshawath deyak karapan 😣   \n",
              "2                                            pakaya ballek wage marila inna ekak dapan   \n",
              "3                                         eeya hutto idakin kolukara haththa 😅 blaakka   \n",
              "4                                                   mona hutte sinduda me thu witharak   \n",
              "\n",
              "  Label  \n",
              "0  Hate  \n",
              "1  Hate  \n",
              "2  Hate  \n",
              "3  Hate  \n",
              "4  Hate  "
            ]
          },
          "metadata": {},
          "execution_count": 99
        }
      ]
    },
    {
      "cell_type": "code",
      "source": [
        "# check the shape of training and testing dataset\n",
        "print(hateSpeechData.shape)"
      ],
      "metadata": {
        "id": "A6YKMOnd596q",
        "colab": {
          "base_uri": "https://localhost:8080/"
        },
        "outputId": "5d5a01af-2fd5-4490-b5e7-17c6163a14e3"
      },
      "execution_count": 100,
      "outputs": [
        {
          "output_type": "stream",
          "name": "stdout",
          "text": [
            "(4979, 2)\n"
          ]
        }
      ]
    },
    {
      "cell_type": "code",
      "source": [
        "# Check null or NaN values are present in the training data and testing data\n",
        "print(hateSpeechData.isnull().values.any())"
      ],
      "metadata": {
        "id": "k7W_rVjh6NZv",
        "colab": {
          "base_uri": "https://localhost:8080/"
        },
        "outputId": "04de0278-57f2-459a-f5d2-78fcf2f631c5"
      },
      "execution_count": 101,
      "outputs": [
        {
          "output_type": "stream",
          "name": "stdout",
          "text": [
            "True\n"
          ]
        }
      ]
    },
    {
      "cell_type": "code",
      "source": [
        "# Removing NaN or null rows\n",
        "hateSpeechData = hateSpeechData.dropna(axis=\"rows\", how=\"any\")\n",
        "print(hateSpeechData.isnull().values.any())"
      ],
      "metadata": {
        "id": "d9hxz93pHnfS",
        "colab": {
          "base_uri": "https://localhost:8080/"
        },
        "outputId": "9434139c-7b52-4cbd-f220-578890d0aa47"
      },
      "execution_count": 102,
      "outputs": [
        {
          "output_type": "stream",
          "name": "stdout",
          "text": [
            "False\n"
          ]
        }
      ]
    },
    {
      "cell_type": "code",
      "source": [
        "print(hateSpeechData.shape)"
      ],
      "metadata": {
        "id": "FrUnbQAlHnW9",
        "colab": {
          "base_uri": "https://localhost:8080/"
        },
        "outputId": "75552d90-c5f6-479b-fa51-410b12c5343d"
      },
      "execution_count": 103,
      "outputs": [
        {
          "output_type": "stream",
          "name": "stdout",
          "text": [
            "(1854, 2)\n"
          ]
        }
      ]
    },
    {
      "cell_type": "code",
      "source": [
        "#Converting all the data to lower case\n",
        "hateSpeechData['Label'] = hateSpeechData['Label'].str.lower()\n",
        "hateSpeechData.head()"
      ],
      "metadata": {
        "id": "wep5fYCZKiww",
        "colab": {
          "base_uri": "https://localhost:8080/",
          "height": 0
        },
        "outputId": "69e73607-da48-46bc-b185-62f5cd938a47"
      },
      "execution_count": 104,
      "outputs": [
        {
          "output_type": "execute_result",
          "data": {
            "text/html": [
              "\n",
              "  <div id=\"df-1c56ad49-2d4e-4805-a669-61ac76009aa6\">\n",
              "    <div class=\"colab-df-container\">\n",
              "      <div>\n",
              "<style scoped>\n",
              "    .dataframe tbody tr th:only-of-type {\n",
              "        vertical-align: middle;\n",
              "    }\n",
              "\n",
              "    .dataframe tbody tr th {\n",
              "        vertical-align: top;\n",
              "    }\n",
              "\n",
              "    .dataframe thead th {\n",
              "        text-align: right;\n",
              "    }\n",
              "</style>\n",
              "<table border=\"1\" class=\"dataframe\">\n",
              "  <thead>\n",
              "    <tr style=\"text-align: right;\">\n",
              "      <th></th>\n",
              "      <th>Comments</th>\n",
              "      <th>Label</th>\n",
              "    </tr>\n",
              "  </thead>\n",
              "  <tbody>\n",
              "    <tr>\n",
              "      <th>0</th>\n",
              "      <td>mun kata aran kiyana katha balapanko nikn puke talk danna epa hutto ekath kalawak 🖕</td>\n",
              "      <td>hate</td>\n",
              "    </tr>\n",
              "    <tr>\n",
              "      <th>1</th>\n",
              "      <td>ammata hukapu gon huththige putha samajeta adarshawath deyak karapan 😣</td>\n",
              "      <td>hate</td>\n",
              "    </tr>\n",
              "    <tr>\n",
              "      <th>2</th>\n",
              "      <td>pakaya ballek wage marila inna ekak dapan</td>\n",
              "      <td>hate</td>\n",
              "    </tr>\n",
              "    <tr>\n",
              "      <th>3</th>\n",
              "      <td>eeya hutto idakin kolukara haththa 😅 blaakka</td>\n",
              "      <td>hate</td>\n",
              "    </tr>\n",
              "    <tr>\n",
              "      <th>4</th>\n",
              "      <td>mona hutte sinduda me thu witharak</td>\n",
              "      <td>hate</td>\n",
              "    </tr>\n",
              "  </tbody>\n",
              "</table>\n",
              "</div>\n",
              "      <button class=\"colab-df-convert\" onclick=\"convertToInteractive('df-1c56ad49-2d4e-4805-a669-61ac76009aa6')\"\n",
              "              title=\"Convert this dataframe to an interactive table.\"\n",
              "              style=\"display:none;\">\n",
              "        \n",
              "  <svg xmlns=\"http://www.w3.org/2000/svg\" height=\"24px\"viewBox=\"0 0 24 24\"\n",
              "       width=\"24px\">\n",
              "    <path d=\"M0 0h24v24H0V0z\" fill=\"none\"/>\n",
              "    <path d=\"M18.56 5.44l.94 2.06.94-2.06 2.06-.94-2.06-.94-.94-2.06-.94 2.06-2.06.94zm-11 1L8.5 8.5l.94-2.06 2.06-.94-2.06-.94L8.5 2.5l-.94 2.06-2.06.94zm10 10l.94 2.06.94-2.06 2.06-.94-2.06-.94-.94-2.06-.94 2.06-2.06.94z\"/><path d=\"M17.41 7.96l-1.37-1.37c-.4-.4-.92-.59-1.43-.59-.52 0-1.04.2-1.43.59L10.3 9.45l-7.72 7.72c-.78.78-.78 2.05 0 2.83L4 21.41c.39.39.9.59 1.41.59.51 0 1.02-.2 1.41-.59l7.78-7.78 2.81-2.81c.8-.78.8-2.07 0-2.86zM5.41 20L4 18.59l7.72-7.72 1.47 1.35L5.41 20z\"/>\n",
              "  </svg>\n",
              "      </button>\n",
              "      \n",
              "  <style>\n",
              "    .colab-df-container {\n",
              "      display:flex;\n",
              "      flex-wrap:wrap;\n",
              "      gap: 12px;\n",
              "    }\n",
              "\n",
              "    .colab-df-convert {\n",
              "      background-color: #E8F0FE;\n",
              "      border: none;\n",
              "      border-radius: 50%;\n",
              "      cursor: pointer;\n",
              "      display: none;\n",
              "      fill: #1967D2;\n",
              "      height: 32px;\n",
              "      padding: 0 0 0 0;\n",
              "      width: 32px;\n",
              "    }\n",
              "\n",
              "    .colab-df-convert:hover {\n",
              "      background-color: #E2EBFA;\n",
              "      box-shadow: 0px 1px 2px rgba(60, 64, 67, 0.3), 0px 1px 3px 1px rgba(60, 64, 67, 0.15);\n",
              "      fill: #174EA6;\n",
              "    }\n",
              "\n",
              "    [theme=dark] .colab-df-convert {\n",
              "      background-color: #3B4455;\n",
              "      fill: #D2E3FC;\n",
              "    }\n",
              "\n",
              "    [theme=dark] .colab-df-convert:hover {\n",
              "      background-color: #434B5C;\n",
              "      box-shadow: 0px 1px 3px 1px rgba(0, 0, 0, 0.15);\n",
              "      filter: drop-shadow(0px 1px 2px rgba(0, 0, 0, 0.3));\n",
              "      fill: #FFFFFF;\n",
              "    }\n",
              "  </style>\n",
              "\n",
              "      <script>\n",
              "        const buttonEl =\n",
              "          document.querySelector('#df-1c56ad49-2d4e-4805-a669-61ac76009aa6 button.colab-df-convert');\n",
              "        buttonEl.style.display =\n",
              "          google.colab.kernel.accessAllowed ? 'block' : 'none';\n",
              "\n",
              "        async function convertToInteractive(key) {\n",
              "          const element = document.querySelector('#df-1c56ad49-2d4e-4805-a669-61ac76009aa6');\n",
              "          const dataTable =\n",
              "            await google.colab.kernel.invokeFunction('convertToInteractive',\n",
              "                                                     [key], {});\n",
              "          if (!dataTable) return;\n",
              "\n",
              "          const docLinkHtml = 'Like what you see? Visit the ' +\n",
              "            '<a target=\"_blank\" href=https://colab.research.google.com/notebooks/data_table.ipynb>data table notebook</a>'\n",
              "            + ' to learn more about interactive tables.';\n",
              "          element.innerHTML = '';\n",
              "          dataTable['output_type'] = 'display_data';\n",
              "          await google.colab.output.renderOutput(dataTable, element);\n",
              "          const docLink = document.createElement('div');\n",
              "          docLink.innerHTML = docLinkHtml;\n",
              "          element.appendChild(docLink);\n",
              "        }\n",
              "      </script>\n",
              "    </div>\n",
              "  </div>\n",
              "  "
            ],
            "text/plain": [
              "                                                                              Comments  \\\n",
              "0  mun kata aran kiyana katha balapanko nikn puke talk danna epa hutto ekath kalawak 🖕   \n",
              "1               ammata hukapu gon huththige putha samajeta adarshawath deyak karapan 😣   \n",
              "2                                            pakaya ballek wage marila inna ekak dapan   \n",
              "3                                         eeya hutto idakin kolukara haththa 😅 blaakka   \n",
              "4                                                   mona hutte sinduda me thu witharak   \n",
              "\n",
              "  Label  \n",
              "0  hate  \n",
              "1  hate  \n",
              "2  hate  \n",
              "3  hate  \n",
              "4  hate  "
            ]
          },
          "metadata": {},
          "execution_count": 104
        }
      ]
    },
    {
      "cell_type": "code",
      "source": [
        "# Convert Labels to numeric\n",
        "def convertLabels(inputDf):\n",
        "  for i in range(len(inputDf)):\n",
        "    inputDf = inputDf.replace('hate', '1')\n",
        "    inputDf = inputDf.replace('neutral', '0')\n",
        "  return inputDf \n",
        "\n",
        "hateSpeechData['Label']=hateSpeechData['Label'].apply(lambda x : convertLabels(x))\n",
        "hateSpeechData.head(10)"
      ],
      "metadata": {
        "id": "KraZWH6mKo_a",
        "colab": {
          "base_uri": "https://localhost:8080/",
          "height": 0
        },
        "outputId": "ad7f69d3-3e5e-40f4-e451-95bc52862237"
      },
      "execution_count": 105,
      "outputs": [
        {
          "output_type": "execute_result",
          "data": {
            "text/html": [
              "\n",
              "  <div id=\"df-8d87873f-ce86-462f-8390-7842f64badda\">\n",
              "    <div class=\"colab-df-container\">\n",
              "      <div>\n",
              "<style scoped>\n",
              "    .dataframe tbody tr th:only-of-type {\n",
              "        vertical-align: middle;\n",
              "    }\n",
              "\n",
              "    .dataframe tbody tr th {\n",
              "        vertical-align: top;\n",
              "    }\n",
              "\n",
              "    .dataframe thead th {\n",
              "        text-align: right;\n",
              "    }\n",
              "</style>\n",
              "<table border=\"1\" class=\"dataframe\">\n",
              "  <thead>\n",
              "    <tr style=\"text-align: right;\">\n",
              "      <th></th>\n",
              "      <th>Comments</th>\n",
              "      <th>Label</th>\n",
              "    </tr>\n",
              "  </thead>\n",
              "  <tbody>\n",
              "    <tr>\n",
              "      <th>0</th>\n",
              "      <td>mun kata aran kiyana katha balapanko nikn puke talk danna epa hutto ekath kalawak 🖕</td>\n",
              "      <td>1</td>\n",
              "    </tr>\n",
              "    <tr>\n",
              "      <th>1</th>\n",
              "      <td>ammata hukapu gon huththige putha samajeta adarshawath deyak karapan 😣</td>\n",
              "      <td>1</td>\n",
              "    </tr>\n",
              "    <tr>\n",
              "      <th>2</th>\n",
              "      <td>pakaya ballek wage marila inna ekak dapan</td>\n",
              "      <td>1</td>\n",
              "    </tr>\n",
              "    <tr>\n",
              "      <th>3</th>\n",
              "      <td>eeya hutto idakin kolukara haththa 😅 blaakka</td>\n",
              "      <td>1</td>\n",
              "    </tr>\n",
              "    <tr>\n",
              "      <th>4</th>\n",
              "      <td>mona hutte sinduda me thu witharak</td>\n",
              "      <td>1</td>\n",
              "    </tr>\n",
              "    <tr>\n",
              "      <th>5</th>\n",
              "      <td>wada na  hutto balana gaman</td>\n",
              "      <td>1</td>\n",
              "    </tr>\n",
              "    <tr>\n",
              "      <th>6</th>\n",
              "      <td>nilame thoge putha wenna athi thoge laga inne thopita henema gahapiya kalakanni thirisan paula</td>\n",
              "      <td>1</td>\n",
              "    </tr>\n",
              "    <tr>\n",
              "      <th>7</th>\n",
              "      <td>camara ussan ena madya ballange athapaya kadiya yuthui</td>\n",
              "      <td>1</td>\n",
              "    </tr>\n",
              "    <tr>\n",
              "      <th>8</th>\n",
              "      <td>hena gahapan pake lawke</td>\n",
              "      <td>1</td>\n",
              "    </tr>\n",
              "    <tr>\n",
              "      <th>9</th>\n",
              "      <td>kari demellu kana palenna gaahanna one muslim ballo</td>\n",
              "      <td>1</td>\n",
              "    </tr>\n",
              "  </tbody>\n",
              "</table>\n",
              "</div>\n",
              "      <button class=\"colab-df-convert\" onclick=\"convertToInteractive('df-8d87873f-ce86-462f-8390-7842f64badda')\"\n",
              "              title=\"Convert this dataframe to an interactive table.\"\n",
              "              style=\"display:none;\">\n",
              "        \n",
              "  <svg xmlns=\"http://www.w3.org/2000/svg\" height=\"24px\"viewBox=\"0 0 24 24\"\n",
              "       width=\"24px\">\n",
              "    <path d=\"M0 0h24v24H0V0z\" fill=\"none\"/>\n",
              "    <path d=\"M18.56 5.44l.94 2.06.94-2.06 2.06-.94-2.06-.94-.94-2.06-.94 2.06-2.06.94zm-11 1L8.5 8.5l.94-2.06 2.06-.94-2.06-.94L8.5 2.5l-.94 2.06-2.06.94zm10 10l.94 2.06.94-2.06 2.06-.94-2.06-.94-.94-2.06-.94 2.06-2.06.94z\"/><path d=\"M17.41 7.96l-1.37-1.37c-.4-.4-.92-.59-1.43-.59-.52 0-1.04.2-1.43.59L10.3 9.45l-7.72 7.72c-.78.78-.78 2.05 0 2.83L4 21.41c.39.39.9.59 1.41.59.51 0 1.02-.2 1.41-.59l7.78-7.78 2.81-2.81c.8-.78.8-2.07 0-2.86zM5.41 20L4 18.59l7.72-7.72 1.47 1.35L5.41 20z\"/>\n",
              "  </svg>\n",
              "      </button>\n",
              "      \n",
              "  <style>\n",
              "    .colab-df-container {\n",
              "      display:flex;\n",
              "      flex-wrap:wrap;\n",
              "      gap: 12px;\n",
              "    }\n",
              "\n",
              "    .colab-df-convert {\n",
              "      background-color: #E8F0FE;\n",
              "      border: none;\n",
              "      border-radius: 50%;\n",
              "      cursor: pointer;\n",
              "      display: none;\n",
              "      fill: #1967D2;\n",
              "      height: 32px;\n",
              "      padding: 0 0 0 0;\n",
              "      width: 32px;\n",
              "    }\n",
              "\n",
              "    .colab-df-convert:hover {\n",
              "      background-color: #E2EBFA;\n",
              "      box-shadow: 0px 1px 2px rgba(60, 64, 67, 0.3), 0px 1px 3px 1px rgba(60, 64, 67, 0.15);\n",
              "      fill: #174EA6;\n",
              "    }\n",
              "\n",
              "    [theme=dark] .colab-df-convert {\n",
              "      background-color: #3B4455;\n",
              "      fill: #D2E3FC;\n",
              "    }\n",
              "\n",
              "    [theme=dark] .colab-df-convert:hover {\n",
              "      background-color: #434B5C;\n",
              "      box-shadow: 0px 1px 3px 1px rgba(0, 0, 0, 0.15);\n",
              "      filter: drop-shadow(0px 1px 2px rgba(0, 0, 0, 0.3));\n",
              "      fill: #FFFFFF;\n",
              "    }\n",
              "  </style>\n",
              "\n",
              "      <script>\n",
              "        const buttonEl =\n",
              "          document.querySelector('#df-8d87873f-ce86-462f-8390-7842f64badda button.colab-df-convert');\n",
              "        buttonEl.style.display =\n",
              "          google.colab.kernel.accessAllowed ? 'block' : 'none';\n",
              "\n",
              "        async function convertToInteractive(key) {\n",
              "          const element = document.querySelector('#df-8d87873f-ce86-462f-8390-7842f64badda');\n",
              "          const dataTable =\n",
              "            await google.colab.kernel.invokeFunction('convertToInteractive',\n",
              "                                                     [key], {});\n",
              "          if (!dataTable) return;\n",
              "\n",
              "          const docLinkHtml = 'Like what you see? Visit the ' +\n",
              "            '<a target=\"_blank\" href=https://colab.research.google.com/notebooks/data_table.ipynb>data table notebook</a>'\n",
              "            + ' to learn more about interactive tables.';\n",
              "          element.innerHTML = '';\n",
              "          dataTable['output_type'] = 'display_data';\n",
              "          await google.colab.output.renderOutput(dataTable, element);\n",
              "          const docLink = document.createElement('div');\n",
              "          docLink.innerHTML = docLinkHtml;\n",
              "          element.appendChild(docLink);\n",
              "        }\n",
              "      </script>\n",
              "    </div>\n",
              "  </div>\n",
              "  "
            ],
            "text/plain": [
              "                                                                                         Comments  \\\n",
              "0             mun kata aran kiyana katha balapanko nikn puke talk danna epa hutto ekath kalawak 🖕   \n",
              "1                          ammata hukapu gon huththige putha samajeta adarshawath deyak karapan 😣   \n",
              "2                                                       pakaya ballek wage marila inna ekak dapan   \n",
              "3                                                    eeya hutto idakin kolukara haththa 😅 blaakka   \n",
              "4                                                              mona hutte sinduda me thu witharak   \n",
              "5                                                                     wada na  hutto balana gaman   \n",
              "6  nilame thoge putha wenna athi thoge laga inne thopita henema gahapiya kalakanni thirisan paula   \n",
              "7                                          camara ussan ena madya ballange athapaya kadiya yuthui   \n",
              "8                                                                         hena gahapan pake lawke   \n",
              "9                                             kari demellu kana palenna gaahanna one muslim ballo   \n",
              "\n",
              "  Label  \n",
              "0     1  \n",
              "1     1  \n",
              "2     1  \n",
              "3     1  \n",
              "4     1  \n",
              "5     1  \n",
              "6     1  \n",
              "7     1  \n",
              "8     1  \n",
              "9     1  "
            ]
          },
          "metadata": {},
          "execution_count": 105
        }
      ]
    },
    {
      "cell_type": "code",
      "source": [
        "print(\"Out of {} rows, {} are Cyberbullying, {} are Not-cyberbullying\".format(len(hateSpeechData),\n",
        "                                                       len(hateSpeechData[hateSpeechData['Label']=='1']),\n",
        "                                                       len(hateSpeechData[hateSpeechData['Label']=='0'])))"
      ],
      "metadata": {
        "colab": {
          "base_uri": "https://localhost:8080/"
        },
        "id": "fPl3FE8DK7uu",
        "outputId": "174c5235-1d5f-4f1e-fd03-c030c9acf67a"
      },
      "execution_count": 106,
      "outputs": [
        {
          "output_type": "stream",
          "name": "stdout",
          "text": [
            "Out of 1854 rows, 927 are Cyberbullying, 927 are Not-cyberbullying\n"
          ]
        }
      ]
    },
    {
      "cell_type": "markdown",
      "source": [
        "# **C L E A N__D A T A**"
      ],
      "metadata": {
        "id": "J0mZN2j9W1v0"
      }
    },
    {
      "cell_type": "code",
      "source": [
        "import pandas as pd\n",
        "import emoji as emj\n",
        "\n",
        "EMOJIS = emj.UNICODE_EMOJI[\"en\"]\n",
        "\n",
        "#Move emojies to another column\n",
        "def add_emoji_column(df):\n",
        "  emoji_column = \" \"\n",
        "  for emoji in EMOJIS:\n",
        "    if emoji in df:\n",
        "      emoji_column = emoji_column + emoji\n",
        "  return emoji_column"
      ],
      "metadata": {
        "id": "PJFtOPhUKilm"
      },
      "execution_count": 107,
      "outputs": []
    },
    {
      "cell_type": "code",
      "source": [
        "hateSpeechData['emoji']=hateSpeechData['Comments'].apply(lambda x : add_emoji_column(x))\n",
        "hateSpeechData.head()"
      ],
      "metadata": {
        "id": "EQmDuQWiIUzi"
      },
      "execution_count": null,
      "outputs": []
    },
    {
      "cell_type": "code",
      "source": [
        "# Remove Emojies from the text\n",
        "def remove_emojies(df):\n",
        "  cleaned_emojies = \"\"\n",
        "  for emoji in EMOJIS:\n",
        "    if emoji in df:\n",
        "      df = df.replace(emoji, \" \")\n",
        "  return df"
      ],
      "metadata": {
        "id": "Nv6MjhweKiiX"
      },
      "execution_count": 109,
      "outputs": []
    },
    {
      "cell_type": "code",
      "source": [
        "hateSpeechData['emoji_cleaned_text']=hateSpeechData['Comments'].apply(lambda x : remove_emojies(x))\n",
        "hateSpeechData.head() "
      ],
      "metadata": {
        "id": "sUZX_iCXIlkh"
      },
      "execution_count": null,
      "outputs": []
    },
    {
      "cell_type": "markdown",
      "source": [
        "***Sinhala converting to Singlish***"
      ],
      "metadata": {
        "id": "KGAjVrGLyYHv"
      }
    },
    {
      "cell_type": "code",
      "source": [
        "def sinhalaToSinglish(inputDf):\n",
        "  for index in range(len(inputDf)):\n",
        "      currTokenList = inputDf['emoji_cleaned_text'].values[index]\n",
        "      singlishTokenList = []\n",
        "      for token in currTokenList:\n",
        "        singlishTokenList.append(unidecode(token))\n",
        "        inputDf['emoji_cleaned_text'].values[index] = \"\".join(singlishTokenList);\n",
        "  return inputDf"
      ],
      "metadata": {
        "id": "OClpbOdwKpFz"
      },
      "execution_count": 111,
      "outputs": []
    },
    {
      "cell_type": "code",
      "source": [
        "hateSpeechData['emoji_cleaned_text'] = hateSpeechData['emoji_cleaned_text'].str.lower()"
      ],
      "metadata": {
        "id": "oQ5Ej9aczA8C"
      },
      "execution_count": 112,
      "outputs": []
    },
    {
      "cell_type": "code",
      "source": [
        "sinhalaToSinglish(hateSpeechData)\n",
        "hateSpeechData.head()"
      ],
      "metadata": {
        "colab": {
          "base_uri": "https://localhost:8080/",
          "height": 206
        },
        "id": "zq9NUb6WIgNU",
        "outputId": "3b4a65a3-bc57-4940-d945-d44ad4613918"
      },
      "execution_count": 113,
      "outputs": [
        {
          "output_type": "execute_result",
          "data": {
            "text/html": [
              "\n",
              "  <div id=\"df-125807bb-c2da-4f34-866a-f4433652b304\">\n",
              "    <div class=\"colab-df-container\">\n",
              "      <div>\n",
              "<style scoped>\n",
              "    .dataframe tbody tr th:only-of-type {\n",
              "        vertical-align: middle;\n",
              "    }\n",
              "\n",
              "    .dataframe tbody tr th {\n",
              "        vertical-align: top;\n",
              "    }\n",
              "\n",
              "    .dataframe thead th {\n",
              "        text-align: right;\n",
              "    }\n",
              "</style>\n",
              "<table border=\"1\" class=\"dataframe\">\n",
              "  <thead>\n",
              "    <tr style=\"text-align: right;\">\n",
              "      <th></th>\n",
              "      <th>Comments</th>\n",
              "      <th>Label</th>\n",
              "      <th>emoji</th>\n",
              "      <th>emoji_cleaned_text</th>\n",
              "    </tr>\n",
              "  </thead>\n",
              "  <tbody>\n",
              "    <tr>\n",
              "      <th>0</th>\n",
              "      <td>mun kata aran kiyana katha balapanko nikn puke talk danna epa hutto ekath kalawak 🖕</td>\n",
              "      <td>1</td>\n",
              "      <td>🖕</td>\n",
              "      <td>mun kata aran kiyana katha balapanko nikn puke talk danna epa hutto ekath kalawak</td>\n",
              "    </tr>\n",
              "    <tr>\n",
              "      <th>1</th>\n",
              "      <td>ammata hukapu gon huththige putha samajeta adarshawath deyak karapan 😣</td>\n",
              "      <td>1</td>\n",
              "      <td>😣</td>\n",
              "      <td>ammata hukapu gon huththige putha samajeta adarshawath deyak karapan</td>\n",
              "    </tr>\n",
              "    <tr>\n",
              "      <th>2</th>\n",
              "      <td>pakaya ballek wage marila inna ekak dapan</td>\n",
              "      <td>1</td>\n",
              "      <td></td>\n",
              "      <td>pakaya ballek wage marila inna ekak dapan</td>\n",
              "    </tr>\n",
              "    <tr>\n",
              "      <th>3</th>\n",
              "      <td>eeya hutto idakin kolukara haththa 😅 blaakka</td>\n",
              "      <td>1</td>\n",
              "      <td>😅</td>\n",
              "      <td>eeya hutto idakin kolukara haththa   blaakka</td>\n",
              "    </tr>\n",
              "    <tr>\n",
              "      <th>4</th>\n",
              "      <td>mona hutte sinduda me thu witharak</td>\n",
              "      <td>1</td>\n",
              "      <td></td>\n",
              "      <td>mona hutte sinduda me thu witharak</td>\n",
              "    </tr>\n",
              "  </tbody>\n",
              "</table>\n",
              "</div>\n",
              "      <button class=\"colab-df-convert\" onclick=\"convertToInteractive('df-125807bb-c2da-4f34-866a-f4433652b304')\"\n",
              "              title=\"Convert this dataframe to an interactive table.\"\n",
              "              style=\"display:none;\">\n",
              "        \n",
              "  <svg xmlns=\"http://www.w3.org/2000/svg\" height=\"24px\"viewBox=\"0 0 24 24\"\n",
              "       width=\"24px\">\n",
              "    <path d=\"M0 0h24v24H0V0z\" fill=\"none\"/>\n",
              "    <path d=\"M18.56 5.44l.94 2.06.94-2.06 2.06-.94-2.06-.94-.94-2.06-.94 2.06-2.06.94zm-11 1L8.5 8.5l.94-2.06 2.06-.94-2.06-.94L8.5 2.5l-.94 2.06-2.06.94zm10 10l.94 2.06.94-2.06 2.06-.94-2.06-.94-.94-2.06-.94 2.06-2.06.94z\"/><path d=\"M17.41 7.96l-1.37-1.37c-.4-.4-.92-.59-1.43-.59-.52 0-1.04.2-1.43.59L10.3 9.45l-7.72 7.72c-.78.78-.78 2.05 0 2.83L4 21.41c.39.39.9.59 1.41.59.51 0 1.02-.2 1.41-.59l7.78-7.78 2.81-2.81c.8-.78.8-2.07 0-2.86zM5.41 20L4 18.59l7.72-7.72 1.47 1.35L5.41 20z\"/>\n",
              "  </svg>\n",
              "      </button>\n",
              "      \n",
              "  <style>\n",
              "    .colab-df-container {\n",
              "      display:flex;\n",
              "      flex-wrap:wrap;\n",
              "      gap: 12px;\n",
              "    }\n",
              "\n",
              "    .colab-df-convert {\n",
              "      background-color: #E8F0FE;\n",
              "      border: none;\n",
              "      border-radius: 50%;\n",
              "      cursor: pointer;\n",
              "      display: none;\n",
              "      fill: #1967D2;\n",
              "      height: 32px;\n",
              "      padding: 0 0 0 0;\n",
              "      width: 32px;\n",
              "    }\n",
              "\n",
              "    .colab-df-convert:hover {\n",
              "      background-color: #E2EBFA;\n",
              "      box-shadow: 0px 1px 2px rgba(60, 64, 67, 0.3), 0px 1px 3px 1px rgba(60, 64, 67, 0.15);\n",
              "      fill: #174EA6;\n",
              "    }\n",
              "\n",
              "    [theme=dark] .colab-df-convert {\n",
              "      background-color: #3B4455;\n",
              "      fill: #D2E3FC;\n",
              "    }\n",
              "\n",
              "    [theme=dark] .colab-df-convert:hover {\n",
              "      background-color: #434B5C;\n",
              "      box-shadow: 0px 1px 3px 1px rgba(0, 0, 0, 0.15);\n",
              "      filter: drop-shadow(0px 1px 2px rgba(0, 0, 0, 0.3));\n",
              "      fill: #FFFFFF;\n",
              "    }\n",
              "  </style>\n",
              "\n",
              "      <script>\n",
              "        const buttonEl =\n",
              "          document.querySelector('#df-125807bb-c2da-4f34-866a-f4433652b304 button.colab-df-convert');\n",
              "        buttonEl.style.display =\n",
              "          google.colab.kernel.accessAllowed ? 'block' : 'none';\n",
              "\n",
              "        async function convertToInteractive(key) {\n",
              "          const element = document.querySelector('#df-125807bb-c2da-4f34-866a-f4433652b304');\n",
              "          const dataTable =\n",
              "            await google.colab.kernel.invokeFunction('convertToInteractive',\n",
              "                                                     [key], {});\n",
              "          if (!dataTable) return;\n",
              "\n",
              "          const docLinkHtml = 'Like what you see? Visit the ' +\n",
              "            '<a target=\"_blank\" href=https://colab.research.google.com/notebooks/data_table.ipynb>data table notebook</a>'\n",
              "            + ' to learn more about interactive tables.';\n",
              "          element.innerHTML = '';\n",
              "          dataTable['output_type'] = 'display_data';\n",
              "          await google.colab.output.renderOutput(dataTable, element);\n",
              "          const docLink = document.createElement('div');\n",
              "          docLink.innerHTML = docLinkHtml;\n",
              "          element.appendChild(docLink);\n",
              "        }\n",
              "      </script>\n",
              "    </div>\n",
              "  </div>\n",
              "  "
            ],
            "text/plain": [
              "                                                                              Comments  \\\n",
              "0  mun kata aran kiyana katha balapanko nikn puke talk danna epa hutto ekath kalawak 🖕   \n",
              "1               ammata hukapu gon huththige putha samajeta adarshawath deyak karapan 😣   \n",
              "2                                            pakaya ballek wage marila inna ekak dapan   \n",
              "3                                         eeya hutto idakin kolukara haththa 😅 blaakka   \n",
              "4                                                   mona hutte sinduda me thu witharak   \n",
              "\n",
              "  Label emoji  \\\n",
              "0     1     🖕   \n",
              "1     1     😣   \n",
              "2     1         \n",
              "3     1     😅   \n",
              "4     1         \n",
              "\n",
              "                                                                    emoji_cleaned_text  \n",
              "0  mun kata aran kiyana katha balapanko nikn puke talk danna epa hutto ekath kalawak    \n",
              "1               ammata hukapu gon huththige putha samajeta adarshawath deyak karapan    \n",
              "2                                            pakaya ballek wage marila inna ekak dapan  \n",
              "3                                         eeya hutto idakin kolukara haththa   blaakka  \n",
              "4                                                   mona hutte sinduda me thu witharak  "
            ]
          },
          "metadata": {},
          "execution_count": 113
        }
      ]
    },
    {
      "cell_type": "code",
      "source": [
        "#Remove URLs\n",
        "import re\n",
        "def urlRemoving(inputDf):\n",
        "  for i in range(len(inputDf)):\n",
        "    currentPhase= inputDf['emoji_cleaned_text'].values[i]\n",
        "    inputDf['emoji_cleaned_text'].values[i] = re.sub(r'\\w+:\\/{2}[\\d\\w-]+(\\.[\\d\\w-]+)*(?:(?:\\/[^\\s/]*))*', '', currentPhase)\n",
        "  return inputDf "
      ],
      "metadata": {
        "id": "blmizDn8rXVI"
      },
      "execution_count": 114,
      "outputs": []
    },
    {
      "cell_type": "code",
      "source": [
        "urlRemoving(hateSpeechData)\n",
        "hateSpeechData.head()"
      ],
      "metadata": {
        "colab": {
          "base_uri": "https://localhost:8080/",
          "height": 206
        },
        "id": "B-RVHzSPIyFB",
        "outputId": "b085ec99-0168-442f-a904-e65c45d92836"
      },
      "execution_count": 115,
      "outputs": [
        {
          "output_type": "execute_result",
          "data": {
            "text/html": [
              "\n",
              "  <div id=\"df-ea8c75cc-93d9-406d-9d7f-3dd1cb955f0d\">\n",
              "    <div class=\"colab-df-container\">\n",
              "      <div>\n",
              "<style scoped>\n",
              "    .dataframe tbody tr th:only-of-type {\n",
              "        vertical-align: middle;\n",
              "    }\n",
              "\n",
              "    .dataframe tbody tr th {\n",
              "        vertical-align: top;\n",
              "    }\n",
              "\n",
              "    .dataframe thead th {\n",
              "        text-align: right;\n",
              "    }\n",
              "</style>\n",
              "<table border=\"1\" class=\"dataframe\">\n",
              "  <thead>\n",
              "    <tr style=\"text-align: right;\">\n",
              "      <th></th>\n",
              "      <th>Comments</th>\n",
              "      <th>Label</th>\n",
              "      <th>emoji</th>\n",
              "      <th>emoji_cleaned_text</th>\n",
              "    </tr>\n",
              "  </thead>\n",
              "  <tbody>\n",
              "    <tr>\n",
              "      <th>0</th>\n",
              "      <td>mun kata aran kiyana katha balapanko nikn puke talk danna epa hutto ekath kalawak 🖕</td>\n",
              "      <td>1</td>\n",
              "      <td>🖕</td>\n",
              "      <td>mun kata aran kiyana katha balapanko nikn puke talk danna epa hutto ekath kalawak</td>\n",
              "    </tr>\n",
              "    <tr>\n",
              "      <th>1</th>\n",
              "      <td>ammata hukapu gon huththige putha samajeta adarshawath deyak karapan 😣</td>\n",
              "      <td>1</td>\n",
              "      <td>😣</td>\n",
              "      <td>ammata hukapu gon huththige putha samajeta adarshawath deyak karapan</td>\n",
              "    </tr>\n",
              "    <tr>\n",
              "      <th>2</th>\n",
              "      <td>pakaya ballek wage marila inna ekak dapan</td>\n",
              "      <td>1</td>\n",
              "      <td></td>\n",
              "      <td>pakaya ballek wage marila inna ekak dapan</td>\n",
              "    </tr>\n",
              "    <tr>\n",
              "      <th>3</th>\n",
              "      <td>eeya hutto idakin kolukara haththa 😅 blaakka</td>\n",
              "      <td>1</td>\n",
              "      <td>😅</td>\n",
              "      <td>eeya hutto idakin kolukara haththa   blaakka</td>\n",
              "    </tr>\n",
              "    <tr>\n",
              "      <th>4</th>\n",
              "      <td>mona hutte sinduda me thu witharak</td>\n",
              "      <td>1</td>\n",
              "      <td></td>\n",
              "      <td>mona hutte sinduda me thu witharak</td>\n",
              "    </tr>\n",
              "  </tbody>\n",
              "</table>\n",
              "</div>\n",
              "      <button class=\"colab-df-convert\" onclick=\"convertToInteractive('df-ea8c75cc-93d9-406d-9d7f-3dd1cb955f0d')\"\n",
              "              title=\"Convert this dataframe to an interactive table.\"\n",
              "              style=\"display:none;\">\n",
              "        \n",
              "  <svg xmlns=\"http://www.w3.org/2000/svg\" height=\"24px\"viewBox=\"0 0 24 24\"\n",
              "       width=\"24px\">\n",
              "    <path d=\"M0 0h24v24H0V0z\" fill=\"none\"/>\n",
              "    <path d=\"M18.56 5.44l.94 2.06.94-2.06 2.06-.94-2.06-.94-.94-2.06-.94 2.06-2.06.94zm-11 1L8.5 8.5l.94-2.06 2.06-.94-2.06-.94L8.5 2.5l-.94 2.06-2.06.94zm10 10l.94 2.06.94-2.06 2.06-.94-2.06-.94-.94-2.06-.94 2.06-2.06.94z\"/><path d=\"M17.41 7.96l-1.37-1.37c-.4-.4-.92-.59-1.43-.59-.52 0-1.04.2-1.43.59L10.3 9.45l-7.72 7.72c-.78.78-.78 2.05 0 2.83L4 21.41c.39.39.9.59 1.41.59.51 0 1.02-.2 1.41-.59l7.78-7.78 2.81-2.81c.8-.78.8-2.07 0-2.86zM5.41 20L4 18.59l7.72-7.72 1.47 1.35L5.41 20z\"/>\n",
              "  </svg>\n",
              "      </button>\n",
              "      \n",
              "  <style>\n",
              "    .colab-df-container {\n",
              "      display:flex;\n",
              "      flex-wrap:wrap;\n",
              "      gap: 12px;\n",
              "    }\n",
              "\n",
              "    .colab-df-convert {\n",
              "      background-color: #E8F0FE;\n",
              "      border: none;\n",
              "      border-radius: 50%;\n",
              "      cursor: pointer;\n",
              "      display: none;\n",
              "      fill: #1967D2;\n",
              "      height: 32px;\n",
              "      padding: 0 0 0 0;\n",
              "      width: 32px;\n",
              "    }\n",
              "\n",
              "    .colab-df-convert:hover {\n",
              "      background-color: #E2EBFA;\n",
              "      box-shadow: 0px 1px 2px rgba(60, 64, 67, 0.3), 0px 1px 3px 1px rgba(60, 64, 67, 0.15);\n",
              "      fill: #174EA6;\n",
              "    }\n",
              "\n",
              "    [theme=dark] .colab-df-convert {\n",
              "      background-color: #3B4455;\n",
              "      fill: #D2E3FC;\n",
              "    }\n",
              "\n",
              "    [theme=dark] .colab-df-convert:hover {\n",
              "      background-color: #434B5C;\n",
              "      box-shadow: 0px 1px 3px 1px rgba(0, 0, 0, 0.15);\n",
              "      filter: drop-shadow(0px 1px 2px rgba(0, 0, 0, 0.3));\n",
              "      fill: #FFFFFF;\n",
              "    }\n",
              "  </style>\n",
              "\n",
              "      <script>\n",
              "        const buttonEl =\n",
              "          document.querySelector('#df-ea8c75cc-93d9-406d-9d7f-3dd1cb955f0d button.colab-df-convert');\n",
              "        buttonEl.style.display =\n",
              "          google.colab.kernel.accessAllowed ? 'block' : 'none';\n",
              "\n",
              "        async function convertToInteractive(key) {\n",
              "          const element = document.querySelector('#df-ea8c75cc-93d9-406d-9d7f-3dd1cb955f0d');\n",
              "          const dataTable =\n",
              "            await google.colab.kernel.invokeFunction('convertToInteractive',\n",
              "                                                     [key], {});\n",
              "          if (!dataTable) return;\n",
              "\n",
              "          const docLinkHtml = 'Like what you see? Visit the ' +\n",
              "            '<a target=\"_blank\" href=https://colab.research.google.com/notebooks/data_table.ipynb>data table notebook</a>'\n",
              "            + ' to learn more about interactive tables.';\n",
              "          element.innerHTML = '';\n",
              "          dataTable['output_type'] = 'display_data';\n",
              "          await google.colab.output.renderOutput(dataTable, element);\n",
              "          const docLink = document.createElement('div');\n",
              "          docLink.innerHTML = docLinkHtml;\n",
              "          element.appendChild(docLink);\n",
              "        }\n",
              "      </script>\n",
              "    </div>\n",
              "  </div>\n",
              "  "
            ],
            "text/plain": [
              "                                                                              Comments  \\\n",
              "0  mun kata aran kiyana katha balapanko nikn puke talk danna epa hutto ekath kalawak 🖕   \n",
              "1               ammata hukapu gon huththige putha samajeta adarshawath deyak karapan 😣   \n",
              "2                                            pakaya ballek wage marila inna ekak dapan   \n",
              "3                                         eeya hutto idakin kolukara haththa 😅 blaakka   \n",
              "4                                                   mona hutte sinduda me thu witharak   \n",
              "\n",
              "  Label emoji  \\\n",
              "0     1     🖕   \n",
              "1     1     😣   \n",
              "2     1         \n",
              "3     1     😅   \n",
              "4     1         \n",
              "\n",
              "                                                                    emoji_cleaned_text  \n",
              "0  mun kata aran kiyana katha balapanko nikn puke talk danna epa hutto ekath kalawak    \n",
              "1               ammata hukapu gon huththige putha samajeta adarshawath deyak karapan    \n",
              "2                                            pakaya ballek wage marila inna ekak dapan  \n",
              "3                                         eeya hutto idakin kolukara haththa   blaakka  \n",
              "4                                                   mona hutte sinduda me thu witharak  "
            ]
          },
          "metadata": {},
          "execution_count": 115
        }
      ]
    },
    {
      "cell_type": "code",
      "source": [
        "# Clean training data and testing data\n",
        "# remove html tags\n",
        "def remove_tags(string):\n",
        "    result = re.sub('<.*?>','',string)\n",
        "    return result\n",
        "\n",
        "# remove line seperators\n",
        "def remove_line_seperators(string):\n",
        "    result=re.sub(\"\\\\n\", \"\", string)\n",
        "    return result\n",
        "\n",
        "# remove repeated characters\n",
        "def remove_repeated_characters(text):\n",
        "    regex_pattern = re.compile(r'(.)\\1+')\n",
        "    clean_text = regex_pattern.sub(r'\\1\\1', text)\n",
        "    return clean_text\n",
        "\n",
        "# # seperate digit with text\n",
        "# def separate_digit_text(text):\n",
        "#     regex_patter = re.compile(r'([\\d]+)([a-zA-Z]+)')\n",
        "#     clean_text = regex_patter.sub(r'\\1 \\2', text)\n",
        "#     return clean_text\n",
        "\n",
        "# remove punctuations\n",
        "def remove_punctuations(text):\n",
        "    test_punc_removed = [(ch if ch not in string.punctuation else \" \") for ch in text ]\n",
        "    test_punc_removed_join = ''.join(test_punc_removed)\n",
        "    return test_punc_removed_join\n",
        "\n",
        "# remove extra space\n",
        "def remove_extra_space(text):\n",
        "    clean_text = ' '.join(text.strip().split())\n",
        "    return clean_text\n",
        "\n",
        "# clean all text\n",
        "def cleantext(text):\n",
        "    text_cleaned= remove_line_seperators(\n",
        "            remove_extra_space(\n",
        "                remove_punctuations(\n",
        "                    remove_repeated_characters(remove_tags(text)            \n",
        "                            )\n",
        "                        )\n",
        "                    )\n",
        "                )\n",
        "    # text_cleaned=separate_digit_text(text_cleaned)\n",
        "    return text_cleaned"
      ],
      "metadata": {
        "id": "3iM-MkZrI3fU"
      },
      "execution_count": 116,
      "outputs": []
    },
    {
      "cell_type": "code",
      "source": [
        "hateSpeechData['comments_fixed']=hateSpeechData['emoji_cleaned_text'].apply(lambda cw : cleantext(cw))\n",
        "hateSpeechData.head()"
      ],
      "metadata": {
        "colab": {
          "base_uri": "https://localhost:8080/",
          "height": 284
        },
        "id": "qOBQojkFI5ik",
        "outputId": "5141f47d-2d23-4b28-9076-1d5d37a67af9"
      },
      "execution_count": 117,
      "outputs": [
        {
          "output_type": "execute_result",
          "data": {
            "text/html": [
              "\n",
              "  <div id=\"df-95d2ec0e-9029-4a15-9439-254e9d74a3c3\">\n",
              "    <div class=\"colab-df-container\">\n",
              "      <div>\n",
              "<style scoped>\n",
              "    .dataframe tbody tr th:only-of-type {\n",
              "        vertical-align: middle;\n",
              "    }\n",
              "\n",
              "    .dataframe tbody tr th {\n",
              "        vertical-align: top;\n",
              "    }\n",
              "\n",
              "    .dataframe thead th {\n",
              "        text-align: right;\n",
              "    }\n",
              "</style>\n",
              "<table border=\"1\" class=\"dataframe\">\n",
              "  <thead>\n",
              "    <tr style=\"text-align: right;\">\n",
              "      <th></th>\n",
              "      <th>Comments</th>\n",
              "      <th>Label</th>\n",
              "      <th>emoji</th>\n",
              "      <th>emoji_cleaned_text</th>\n",
              "      <th>comments_fixed</th>\n",
              "    </tr>\n",
              "  </thead>\n",
              "  <tbody>\n",
              "    <tr>\n",
              "      <th>0</th>\n",
              "      <td>mun kata aran kiyana katha balapanko nikn puke talk danna epa hutto ekath kalawak 🖕</td>\n",
              "      <td>1</td>\n",
              "      <td>🖕</td>\n",
              "      <td>mun kata aran kiyana katha balapanko nikn puke talk danna epa hutto ekath kalawak</td>\n",
              "      <td>mun kata aran kiyana katha balapanko nikn puke talk danna epa hutto ekath kalawak</td>\n",
              "    </tr>\n",
              "    <tr>\n",
              "      <th>1</th>\n",
              "      <td>ammata hukapu gon huththige putha samajeta adarshawath deyak karapan 😣</td>\n",
              "      <td>1</td>\n",
              "      <td>😣</td>\n",
              "      <td>ammata hukapu gon huththige putha samajeta adarshawath deyak karapan</td>\n",
              "      <td>ammata hukapu gon huththige putha samajeta adarshawath deyak karapan</td>\n",
              "    </tr>\n",
              "    <tr>\n",
              "      <th>2</th>\n",
              "      <td>pakaya ballek wage marila inna ekak dapan</td>\n",
              "      <td>1</td>\n",
              "      <td></td>\n",
              "      <td>pakaya ballek wage marila inna ekak dapan</td>\n",
              "      <td>pakaya ballek wage marila inna ekak dapan</td>\n",
              "    </tr>\n",
              "    <tr>\n",
              "      <th>3</th>\n",
              "      <td>eeya hutto idakin kolukara haththa 😅 blaakka</td>\n",
              "      <td>1</td>\n",
              "      <td>😅</td>\n",
              "      <td>eeya hutto idakin kolukara haththa   blaakka</td>\n",
              "      <td>eeya hutto idakin kolukara haththa blaakka</td>\n",
              "    </tr>\n",
              "    <tr>\n",
              "      <th>4</th>\n",
              "      <td>mona hutte sinduda me thu witharak</td>\n",
              "      <td>1</td>\n",
              "      <td></td>\n",
              "      <td>mona hutte sinduda me thu witharak</td>\n",
              "      <td>mona hutte sinduda me thu witharak</td>\n",
              "    </tr>\n",
              "  </tbody>\n",
              "</table>\n",
              "</div>\n",
              "      <button class=\"colab-df-convert\" onclick=\"convertToInteractive('df-95d2ec0e-9029-4a15-9439-254e9d74a3c3')\"\n",
              "              title=\"Convert this dataframe to an interactive table.\"\n",
              "              style=\"display:none;\">\n",
              "        \n",
              "  <svg xmlns=\"http://www.w3.org/2000/svg\" height=\"24px\"viewBox=\"0 0 24 24\"\n",
              "       width=\"24px\">\n",
              "    <path d=\"M0 0h24v24H0V0z\" fill=\"none\"/>\n",
              "    <path d=\"M18.56 5.44l.94 2.06.94-2.06 2.06-.94-2.06-.94-.94-2.06-.94 2.06-2.06.94zm-11 1L8.5 8.5l.94-2.06 2.06-.94-2.06-.94L8.5 2.5l-.94 2.06-2.06.94zm10 10l.94 2.06.94-2.06 2.06-.94-2.06-.94-.94-2.06-.94 2.06-2.06.94z\"/><path d=\"M17.41 7.96l-1.37-1.37c-.4-.4-.92-.59-1.43-.59-.52 0-1.04.2-1.43.59L10.3 9.45l-7.72 7.72c-.78.78-.78 2.05 0 2.83L4 21.41c.39.39.9.59 1.41.59.51 0 1.02-.2 1.41-.59l7.78-7.78 2.81-2.81c.8-.78.8-2.07 0-2.86zM5.41 20L4 18.59l7.72-7.72 1.47 1.35L5.41 20z\"/>\n",
              "  </svg>\n",
              "      </button>\n",
              "      \n",
              "  <style>\n",
              "    .colab-df-container {\n",
              "      display:flex;\n",
              "      flex-wrap:wrap;\n",
              "      gap: 12px;\n",
              "    }\n",
              "\n",
              "    .colab-df-convert {\n",
              "      background-color: #E8F0FE;\n",
              "      border: none;\n",
              "      border-radius: 50%;\n",
              "      cursor: pointer;\n",
              "      display: none;\n",
              "      fill: #1967D2;\n",
              "      height: 32px;\n",
              "      padding: 0 0 0 0;\n",
              "      width: 32px;\n",
              "    }\n",
              "\n",
              "    .colab-df-convert:hover {\n",
              "      background-color: #E2EBFA;\n",
              "      box-shadow: 0px 1px 2px rgba(60, 64, 67, 0.3), 0px 1px 3px 1px rgba(60, 64, 67, 0.15);\n",
              "      fill: #174EA6;\n",
              "    }\n",
              "\n",
              "    [theme=dark] .colab-df-convert {\n",
              "      background-color: #3B4455;\n",
              "      fill: #D2E3FC;\n",
              "    }\n",
              "\n",
              "    [theme=dark] .colab-df-convert:hover {\n",
              "      background-color: #434B5C;\n",
              "      box-shadow: 0px 1px 3px 1px rgba(0, 0, 0, 0.15);\n",
              "      filter: drop-shadow(0px 1px 2px rgba(0, 0, 0, 0.3));\n",
              "      fill: #FFFFFF;\n",
              "    }\n",
              "  </style>\n",
              "\n",
              "      <script>\n",
              "        const buttonEl =\n",
              "          document.querySelector('#df-95d2ec0e-9029-4a15-9439-254e9d74a3c3 button.colab-df-convert');\n",
              "        buttonEl.style.display =\n",
              "          google.colab.kernel.accessAllowed ? 'block' : 'none';\n",
              "\n",
              "        async function convertToInteractive(key) {\n",
              "          const element = document.querySelector('#df-95d2ec0e-9029-4a15-9439-254e9d74a3c3');\n",
              "          const dataTable =\n",
              "            await google.colab.kernel.invokeFunction('convertToInteractive',\n",
              "                                                     [key], {});\n",
              "          if (!dataTable) return;\n",
              "\n",
              "          const docLinkHtml = 'Like what you see? Visit the ' +\n",
              "            '<a target=\"_blank\" href=https://colab.research.google.com/notebooks/data_table.ipynb>data table notebook</a>'\n",
              "            + ' to learn more about interactive tables.';\n",
              "          element.innerHTML = '';\n",
              "          dataTable['output_type'] = 'display_data';\n",
              "          await google.colab.output.renderOutput(dataTable, element);\n",
              "          const docLink = document.createElement('div');\n",
              "          docLink.innerHTML = docLinkHtml;\n",
              "          element.appendChild(docLink);\n",
              "        }\n",
              "      </script>\n",
              "    </div>\n",
              "  </div>\n",
              "  "
            ],
            "text/plain": [
              "                                                                              Comments  \\\n",
              "0  mun kata aran kiyana katha balapanko nikn puke talk danna epa hutto ekath kalawak 🖕   \n",
              "1               ammata hukapu gon huththige putha samajeta adarshawath deyak karapan 😣   \n",
              "2                                            pakaya ballek wage marila inna ekak dapan   \n",
              "3                                         eeya hutto idakin kolukara haththa 😅 blaakka   \n",
              "4                                                   mona hutte sinduda me thu witharak   \n",
              "\n",
              "  Label emoji  \\\n",
              "0     1     🖕   \n",
              "1     1     😣   \n",
              "2     1         \n",
              "3     1     😅   \n",
              "4     1         \n",
              "\n",
              "                                                                    emoji_cleaned_text  \\\n",
              "0  mun kata aran kiyana katha balapanko nikn puke talk danna epa hutto ekath kalawak     \n",
              "1               ammata hukapu gon huththige putha samajeta adarshawath deyak karapan     \n",
              "2                                            pakaya ballek wage marila inna ekak dapan   \n",
              "3                                         eeya hutto idakin kolukara haththa   blaakka   \n",
              "4                                                   mona hutte sinduda me thu witharak   \n",
              "\n",
              "                                                                      comments_fixed  \n",
              "0  mun kata aran kiyana katha balapanko nikn puke talk danna epa hutto ekath kalawak  \n",
              "1               ammata hukapu gon huththige putha samajeta adarshawath deyak karapan  \n",
              "2                                          pakaya ballek wage marila inna ekak dapan  \n",
              "3                                         eeya hutto idakin kolukara haththa blaakka  \n",
              "4                                                 mona hutte sinduda me thu witharak  "
            ]
          },
          "metadata": {},
          "execution_count": 117
        }
      ]
    },
    {
      "cell_type": "markdown",
      "source": [
        "# **T O K E N I Z E**"
      ],
      "metadata": {
        "id": "9F5fOxsWched"
      }
    },
    {
      "cell_type": "code",
      "source": [
        "def tokenize(text):\n",
        "    tokens = re.split('\\W+', text)\n",
        "    return tokens"
      ],
      "metadata": {
        "id": "ds6bE5m7cedN"
      },
      "execution_count": 118,
      "outputs": []
    },
    {
      "cell_type": "code",
      "source": [
        "#Tokenize training data\n",
        "hateSpeechData['body_text_tokenized'] = hateSpeechData['comments_fixed'].apply(lambda x: tokenize(x.lower()))\n",
        "hateSpeechData.head()"
      ],
      "metadata": {
        "id": "l0ceC0vScebH"
      },
      "execution_count": null,
      "outputs": []
    },
    {
      "cell_type": "markdown",
      "source": [
        "# **S T O P__W O R D__R E M O V A L**"
      ],
      "metadata": {
        "id": "7zrUivOhcpu_"
      }
    },
    {
      "cell_type": "code",
      "source": [
        "# function to count the total tokens\n",
        "def getTotalTokens(token_set):\n",
        "    count = 0\n",
        "    for tSet in token_set:\n",
        "        count += len(tSet)\n",
        "    return count"
      ],
      "metadata": {
        "id": "LJgPLSmjvMFj"
      },
      "execution_count": 120,
      "outputs": []
    },
    {
      "cell_type": "code",
      "source": [
        "# function to count the total unique tokens\n",
        "def getTotalUniqueTokens(token_set):\n",
        "    count = 0\n",
        "    for tSet in token_set:\n",
        "        uniqueTokens = set(tSet)\n",
        "        count += len(uniqueTokens)\n",
        "    return count"
      ],
      "metadata": {
        "id": "DH3WoNE4vMFj"
      },
      "execution_count": 121,
      "outputs": []
    },
    {
      "cell_type": "code",
      "source": [
        "#-------------------------COMPARE REMOVING AND WITHOUT REMOVING----------------------------\n",
        "#Remove Stop words\n",
        "stopword = ['dha', 'ya', 'mea', 'ea', 'haa', 'ma', 'bawa', 'nam', 'dhe', 'shdhaha', 'yi',\n",
        "                                'shaha', 'lesa', 'hoo', 'aetha', 'nisa', 'meama', 'wa', 'gaena', 'wisin', 'wita',\n",
        "                                'ema', 'thula', 'kota', 'yuthu', 'washayen', 'no', 'pilibadha', 'anuwa', 'eheth',\n",
        "                                'pasu', 'eak', 'mean', 'sita', 'neatha', 'weani', 'nea', 'wada', 'bohoa', 'etha',\n",
        "                                'naehea', 'thawath', 'bawata', 'pamanak', 'yam', 'samaga', 'matha', 'sae', 'namuth',\n",
        "                                'peara', 'maha', 'weatha', 'pamana', 'samaga', 'nowea', 'magin', 'enam', 'weanuwen',\n",
        "                                'yatathea', 'saema', 'pasuwa', 'thamayi', 'dhakwa', 'nowa', 'siyalu', 'yaeyi',\n",
        "                                'aethaem', 'yanu', 'waenuwen', 'haema', 'pinisa', 'patan', 'sahitha', 'hari',\n",
        "                                'aethulu', 'wagae', 'paridhi', 'pawa', 'thawa', 'samaharu', 'samahara', 'eath',\n",
        "                                'wena', 'baewin', 'pahala', 'wadaath', 'haera', 'pita', 'eweni', 'aa', 'ehala',\n",
        "                                'thulin', 'ekka', 'aadhi', 'mulu', 'sambandhayean', 'peawathi', 'oya', 'wath',\n",
        "                                'pamani', 'wen', 'pura', 'ona', 'epa', 'ewita', 'hewath', 'yanuwen', 'meawaeni',\n",
        "                                'ow', 'ethi', 'tika', 'ihatha', 'kara', 'kisiyam', 'aeyi', 'kisima', 'ara', 'heyin',\n",
        "                                'kisidhu', 'hata', 'anek', 'idhiri', 'thek', 'waenuwata', 'haetiyata', 'yata',\n",
        "                                'dhaeyi', 'mokadha', 'maghin', 'baew', 'an', 'ona', 'laga', 'uth', 'haraha',\n",
        "                                'asala', 'baehaera', 'hoth', 'ekthara', 'uda', 'athurin', 'klhi', 'ayuru', 'noyek',\n",
        "                                'atharin', 'ammea', 'aethuluwa', 'hariyatama', 'ethana', 'ehaata', 'kawara',\n",
        "                                'wanaahi', 'osseama', 'naethinam', 'udhesa', 'naedha', 'baehae', 'misa', 'haeti',\n",
        "                                'wata', 'bae', 'etharam', 'thawadhuratath', 'thawa', 'thuru', 'idhiriyae',\n",
        "                                'edhiriyae', 'hariyata', 'ebadhu', 'naethdha', 'naedhdha', 'anea', 'mona',\n",
        "                                'ethamath', 'ithamath', 'ethakota', 'aneakuth', 'awata', 'aetha', 'meabadhu',\n",
        "                                'lath', 'thulata', 'kohomadha', 'kumana', 'lesin', 'badhu', 'oonaema', 'sahagatha',\n",
        "                                'lagata', 'wethata', 'waenidhaa', 'onea', 'passea', 'thissea', 'saeti', 'baegin',\n",
        "                                'sesu',\n",
        "                                'bohoma', 'kotharam', 'aethath', 'yanuwen', 'koyi', 'upa', 'yae', 'kotharam', 'o',\n",
        "                                'anith', 'onna', 'naethahoth', 'witharak', 'kawdha', 'hugak', 'naetheyi', 'pitatha',\n",
        "                                'saema', 'nisama', 'passea', 'seaka', 'ewan', 'monawadha', 'samagama', 'thawadha',\n",
        "                                'sadha', 'haebaeyi', 'atharin', 'lesata', 'dhigata', 'mandha', 'namuth', 'namudhu',\n",
        "                                'eheanam', 'kepa', 'emagin', 'idhin', 'mokakdha', 'dhigea', 'witaka', 'meani',\n",
        "                                'sambandhawa', 'nohoth', 'anna', 'monawadha', 'harima', 'naethinam', 'atharaata',\n",
        "                                'pitathata', 'wan', 'yatin', 'wagea', 'nisath', 'pahalata', 'anya', 'eha', 'witama',\n",
        "                                'vitama', 'noyekuth', 'withara',\n",
        "                                'ihalin', 'iwatha', 'nomethiwa', 'hudeak', 'meaweni', 'waethin', 'weni', 'waewa',\n",
        "                                'andhamin', 'meanma', 'was', 'kiipa', 'kochchra', 'methaenin', 'methena',\n",
        "                                'idhiripita', 'purama', 'witaka', 'athishaya', 'dhepasa', 'peareadha', 'aethulata',\n",
        "                                'atharea', 'yamkisi', 'aassithawa', 'thak', 'koa', 'uda', 'meatha', 'ehalata',\n",
        "                                'dhenatamath', 'wenama', 'arabeaya', 'rahitha', 'pitin', 'paahea', 'aethinam',\n",
        "                                'aeththam', 'atharam', 'kuwuruth', 'paridhdhen', 'watea', 'keabadhu', 'kothek',\n",
        "                                'naththam', 'hindha', 'pasupasa', 'meha', 'ladheyi', 'paasa', 'pawa', 'perata',\n",
        "                                'waediputa', 'aethin', 'ethek', 'vina', 'maedhin', 'idhiriyean', 'pitupasa',\n",
        "                                'samaga', 'mae', 'la', 'maenawi', 'sampanna', 'athurean', 'meathram',\n",
        "                                'obbata', 'nomilea', 'arabaya', 'abiyasa', 'idhiripasa', 'enamuth',\n",
        "                                'mathin''issaraha', 'echchrara', 'ekko', 'behi', 'magin', 'magini', 'ketuwa',\n",
        "                                'misak', 'eheamyi', 'hindha', 'idhin', 'lagin', 'asalin', 'dho''kelinma',\n",
        "                                'virahitha', 'mathata', 'asalata', 'atharahura',\n",
        "                                'mealagata', 'kethek', 'kola', 'ayyo', 'nomilea', 'ethanata', 'mulata', 'lu',\n",
        "                                'samagi', 'che', 'nithi', 'wenidha', 'apoyi', 'ochchrata', 'aaubowan', 'huga',\n",
        "                                'wanathuru', 'pamanata', 'pahathata', 'ewaka', 'pasakin', 'aethulea', 'yatathata',\n",
        "                                'yabadha', 'nan',\n",
        "                                'shik', 'shek', 'usi', 'anan', 'manan', 'ananmanan', 'ahaa', 'adhdharata',\n",
        "                                'monayam', 'athana', 'aethule', 'aethulen', 'pahathin', 'virahithawa', 'aayi',\n",
        "                                'enayin', 'samagin', 'obbehi', 'othana', 'ammo', 'sha', 'neathahoth', 'atharamaga',\n",
        "                                'asabada', 'yabadhawa', 'seakwa', 'atharamaga', 'obben', 'adhdhara',\n",
        "                                'achchrara', 'dhoho', 'chi', 'chik', 'adho', 'soshae', 'ethira', 'koyibata', 'ohea',\n",
        "                                'oh', 'adhomeyi', 'uhu', 'uu', 'u', 'otharam', 'abiyasin', 'appachchiyea', 'ado',\n",
        "                                'aane', 'ane', 'hindhama', 'ha', 'hapura', 'latha', 'ohe', 'an', 'ankisi', 'hurea',\n",
        "                                'uuyi', 'adhdharin', 'embala', 'abiyasa', 'abiyasata',\n",
        "                                'uuh', 'shi', 'sisi', 'koyibata', 'satapata', 'abiyesa', 'heleyiya', 'sata',\n",
        "                                'satata'\n",
        "\n",
        "                                ]\n",
        "\n",
        "def remove_stopwords(tokenized_list):\n",
        "    # text = [word for word in tokenized_list if word not in stopword]\n",
        "    text =\" \".join( [word for word in tokenized_list if word not in stopword])\n",
        "    return text"
      ],
      "metadata": {
        "id": "_2ILCLMgceT-"
      },
      "execution_count": 122,
      "outputs": []
    },
    {
      "cell_type": "code",
      "source": [
        "#Stop word removal testing data\n",
        "hateSpeechData['body_text_nostop'] = hateSpeechData['body_text_tokenized'].apply(lambda x: remove_stopwords(x))\n",
        "hateSpeechData.head(100)"
      ],
      "metadata": {
        "id": "ePIR28yFceRV"
      },
      "execution_count": null,
      "outputs": []
    },
    {
      "cell_type": "markdown",
      "source": [
        "# **V E C T O R I Z I N G**"
      ],
      "metadata": {
        "id": "O7SyD-3heDQt"
      }
    },
    {
      "cell_type": "markdown",
      "source": [
        "# **Count Vectorizer**"
      ],
      "metadata": {
        "id": "CIKb1_WNrnvH"
      }
    },
    {
      "cell_type": "code",
      "source": [
        "from sklearn.feature_extraction.text import TfidfVectorizer\n",
        "\n",
        "count_vect_sample = CountVectorizer()\n",
        "X_counts_sample = count_vect_sample.fit_transform(hateSpeechData['body_text_nostop'])\n",
        "print(X_counts_sample.shape)\n",
        "print(count_vect_sample.get_feature_names())"
      ],
      "metadata": {
        "id": "v-65YS_vp930"
      },
      "execution_count": null,
      "outputs": []
    },
    {
      "cell_type": "code",
      "source": [
        "X_counts_sample"
      ],
      "metadata": {
        "id": "gT2BxvqnsY_N"
      },
      "execution_count": null,
      "outputs": []
    },
    {
      "cell_type": "code",
      "source": [
        "X_counts_df = pd.DataFrame(X_counts_sample.toarray())\n",
        "X_counts_df"
      ],
      "metadata": {
        "id": "815WVJDbseBF"
      },
      "execution_count": null,
      "outputs": []
    },
    {
      "cell_type": "code",
      "source": [
        "X_counts_df.columns = count_vect_sample.get_feature_names()\n",
        "X_counts_df"
      ],
      "metadata": {
        "id": "JohyZPVPsjhr"
      },
      "execution_count": null,
      "outputs": []
    },
    {
      "cell_type": "markdown",
      "source": [
        "# **N-Grams + Count Vectorizer**"
      ],
      "metadata": {
        "id": "ykLzspt0szaG"
      }
    },
    {
      "cell_type": "markdown",
      "source": [
        "***Using Unigrams***"
      ],
      "metadata": {
        "id": "TOjNs_mFu1mq"
      }
    },
    {
      "cell_type": "code",
      "source": [
        "from sklearn.feature_extraction.text import CountVectorizer\n",
        "\n",
        "unigram_vectorizer = CountVectorizer(ngram_range=(1,1))\n",
        "X_countsUni = unigram_vectorizer.fit_transform(hateSpeechData['body_text_nostop'])\n",
        "print(X_countsUni.shape)\n",
        "print(unigram_vectorizer.get_feature_names())"
      ],
      "metadata": {
        "id": "vaJfLf4zuqwy"
      },
      "execution_count": null,
      "outputs": []
    },
    {
      "cell_type": "code",
      "source": [
        "X_counts_dfUni = pd.DataFrame(X_countsUni.toarray())\n",
        "X_counts_dfUni"
      ],
      "metadata": {
        "id": "esUj0pnu0XG2"
      },
      "execution_count": null,
      "outputs": []
    },
    {
      "cell_type": "code",
      "source": [
        "X_counts_dfUni.columns = unigram_vectorizer.get_feature_names()\n",
        "X_counts_dfUni"
      ],
      "metadata": {
        "id": "3p7UMPeV0zgs"
      },
      "execution_count": null,
      "outputs": []
    },
    {
      "cell_type": "markdown",
      "source": [
        "***Using Bigrams***"
      ],
      "metadata": {
        "id": "dowJHLU-uWBS"
      }
    },
    {
      "cell_type": "code",
      "source": [
        "from sklearn.feature_extraction.text import CountVectorizer\n",
        "\n",
        "bigram_vectorizer = CountVectorizer(ngram_range=(2,2))\n",
        "X_countsBi = bigram_vectorizer.fit_transform(hateSpeechData['body_text_nostop'])\n",
        "print(X_countsBi.shape)\n",
        "print(bigram_vectorizer.get_feature_names())"
      ],
      "metadata": {
        "id": "wkQY_nGPtR-b"
      },
      "execution_count": null,
      "outputs": []
    },
    {
      "cell_type": "code",
      "source": [
        "X_counts_dfBi = pd.DataFrame(X_countsBi.toarray())\n",
        "X_counts_dfBi"
      ],
      "metadata": {
        "id": "Q9Ucst8a0XhO"
      },
      "execution_count": null,
      "outputs": []
    },
    {
      "cell_type": "code",
      "source": [
        "X_counts_dfBi.columns = bigram_vectorizer.get_feature_names()\n",
        "X_counts_dfBi"
      ],
      "metadata": {
        "id": "uloF-MsW00vO"
      },
      "execution_count": null,
      "outputs": []
    },
    {
      "cell_type": "markdown",
      "source": [
        "***Using Trigrams***"
      ],
      "metadata": {
        "id": "WUAXDSWFuKQw"
      }
    },
    {
      "cell_type": "code",
      "source": [
        "from sklearn.feature_extraction.text import CountVectorizer\n",
        "\n",
        "trigram_vectorizer = CountVectorizer(ngram_range=(3,3))\n",
        "X_countsTri= trigram_vectorizer.fit_transform(hateSpeechData['body_text_nostop'])\n",
        "print(X_countsTri.shape)\n",
        "print(trigram_vectorizer.get_feature_names())"
      ],
      "metadata": {
        "id": "YitTXVUNtul2"
      },
      "execution_count": null,
      "outputs": []
    },
    {
      "cell_type": "code",
      "source": [
        "X_counts_dfTri = pd.DataFrame(X_countsTri.toarray())\n",
        "X_counts_dfTri"
      ],
      "metadata": {
        "id": "XIqoyHGy0X6Q"
      },
      "execution_count": null,
      "outputs": []
    },
    {
      "cell_type": "code",
      "source": [
        "X_counts_dfTri.columns = trigram_vectorizer.get_feature_names()\n",
        "X_counts_dfTri"
      ],
      "metadata": {
        "id": "n5gQU8RY01wd"
      },
      "execution_count": null,
      "outputs": []
    },
    {
      "cell_type": "markdown",
      "source": [
        "# ***Bag Of Words***"
      ],
      "metadata": {
        "id": "xxOq_g_qpx9I"
      }
    },
    {
      "cell_type": "code",
      "source": [
        "# bag of words\n",
        "from sklearn.feature_extraction.text import CountVectorizer\n",
        "BOWvectorizer = CountVectorizer()\n",
        "singlish_bag_of_words_X = BOWvectorizer.fit_transform(list(hateSpeechData['body_text_nostop']))"
      ],
      "metadata": {
        "id": "nXq8M50oeMeL"
      },
      "execution_count": 132,
      "outputs": []
    },
    {
      "cell_type": "code",
      "source": [
        "print(singlish_bag_of_words_X)"
      ],
      "metadata": {
        "id": "sDPSUKskikcP"
      },
      "execution_count": null,
      "outputs": []
    },
    {
      "cell_type": "code",
      "source": [
        "singlish_bag_of_words_y = list(hateSpeechData.Label)\n",
        "print(singlish_bag_of_words_y)"
      ],
      "metadata": {
        "id": "iBrj_dnAj5bO"
      },
      "execution_count": null,
      "outputs": []
    },
    {
      "cell_type": "code",
      "source": [
        "# encoding labels\n",
        "from sklearn import preprocessing\n",
        "le = preprocessing.LabelEncoder()\n",
        "singlish_bag_of_words_y = le.fit_transform(singlish_bag_of_words_y)"
      ],
      "metadata": {
        "id": "tzDaMrExkE3j"
      },
      "execution_count": 135,
      "outputs": []
    },
    {
      "cell_type": "code",
      "source": [
        "# train test split\n",
        "from sklearn.model_selection import train_test_split\n",
        "\n",
        "# singlish dataset\n",
        "X_train_singlish, X_test_singlish, y_train_singlish, y_test_singlish = train_test_split(singlish_bag_of_words_X, singlish_bag_of_words_y, test_size=0.2, random_state=42)"
      ],
      "metadata": {
        "id": "z2GsmIp6nhYI"
      },
      "execution_count": 136,
      "outputs": []
    },
    {
      "cell_type": "markdown",
      "source": [
        "***Logistic Regression Model***"
      ],
      "metadata": {
        "id": "lLGCJ7hyoYh4"
      }
    },
    {
      "cell_type": "code",
      "source": [
        "# Logistic Regression Model for singlish\n",
        "from sklearn.linear_model import LogisticRegression\n",
        "logreg_singlish = LogisticRegression()\n",
        "logreg_singlish.fit(X_train_singlish, y_train_singlish)"
      ],
      "metadata": {
        "id": "VThB75Vtnpsw"
      },
      "execution_count": null,
      "outputs": []
    },
    {
      "cell_type": "code",
      "source": [
        "singlish_prediction = logreg_singlish.predict(X_test_singlish)"
      ],
      "metadata": {
        "id": "jRRI45zynyrX"
      },
      "execution_count": 138,
      "outputs": []
    },
    {
      "cell_type": "code",
      "source": [
        "print(\"Accuracy for singlish dataset:\", logreg_singlish.score(X_test_singlish, y_test_singlish))"
      ],
      "metadata": {
        "id": "p_CsvgKpn02_"
      },
      "execution_count": null,
      "outputs": []
    },
    {
      "cell_type": "code",
      "source": [
        "# precision, recall and fscore\n",
        "from sklearn.metrics import precision_recall_fscore_support\n",
        "p, r, f, s =  precision_recall_fscore_support(y_test_singlish, singlish_prediction, average='macro')\n",
        "print(\"Precision for singlish dataset:\", p)\n",
        "print(\"Recall for singlish dataset:\", r)\n",
        "print(\"F score for singlish dataset:\", f)"
      ],
      "metadata": {
        "id": "M5MQ4RMUn3zp"
      },
      "execution_count": null,
      "outputs": []
    },
    {
      "cell_type": "code",
      "source": [
        "# confusion matrix\n",
        "from sklearn.metrics import plot_confusion_matrix\n",
        "plot_confusion_matrix(logreg_singlish, X_test_singlish, y_test_singlish)"
      ],
      "metadata": {
        "id": "L8f-AaRhoDPE"
      },
      "execution_count": null,
      "outputs": []
    },
    {
      "cell_type": "markdown",
      "source": [
        "***Naive Bayes Classifier***"
      ],
      "metadata": {
        "id": "i6Jwv50FyONe"
      }
    },
    {
      "cell_type": "code",
      "source": [
        "from sklearn.naive_bayes import MultinomialNB\n",
        "#Naive Bayes Classifier\n",
        "clf = MultinomialNB()\n",
        "clf.fit(X_train_singlish, y_train_singlish)"
      ],
      "metadata": {
        "id": "EraikBlQwrme"
      },
      "execution_count": null,
      "outputs": []
    },
    {
      "cell_type": "code",
      "source": [
        "singlish_prediction = clf.predict(X_test_singlish)"
      ],
      "metadata": {
        "id": "kJ6lAlmWxc4u"
      },
      "execution_count": 143,
      "outputs": []
    },
    {
      "cell_type": "code",
      "source": [
        "print(\"Accuracy for singlish dataset:\", logreg_singlish.score(X_test_singlish, y_test_singlish))"
      ],
      "metadata": {
        "id": "dXf_z_fBxhKj"
      },
      "execution_count": null,
      "outputs": []
    },
    {
      "cell_type": "code",
      "source": [
        "p, r, f, s =  precision_recall_fscore_support(y_test_singlish, singlish_prediction, average='macro')\n",
        "print(\"Precision for singlish dataset:\", p)\n",
        "print(\"Recall for singlish dataset:\", r)\n",
        "print(\"F score for singlish dataset:\", f)"
      ],
      "metadata": {
        "id": "a49DuCJNxkQR"
      },
      "execution_count": null,
      "outputs": []
    },
    {
      "cell_type": "code",
      "source": [
        "# confusion matrix\n",
        "plot_confusion_matrix(logreg_singlish, X_test_singlish, y_test_singlish)"
      ],
      "metadata": {
        "id": "8Hup1cNTxnLa"
      },
      "execution_count": null,
      "outputs": []
    }
  ]
}