{
  "nbformat": 4,
  "nbformat_minor": 0,
  "metadata": {
    "colab": {
      "name": "FYP-2022March-myDataset.ipynb",
      "provenance": [],
      "authorship_tag": "ABX9TyNs0hIpZRi7AEgdEF0JnUmM",
      "include_colab_link": true
    },
    "kernelspec": {
      "name": "python3",
      "display_name": "Python 3"
    },
    "language_info": {
      "name": "python"
    }
  },
  "cells": [
    {
      "cell_type": "markdown",
      "metadata": {
        "id": "view-in-github",
        "colab_type": "text"
      },
      "source": [
        "<a href=\"https://colab.research.google.com/github/MalshaPiumini/FYP2022/blob/test-01/FYP_2022March_myDataset.ipynb\" target=\"_parent\"><img src=\"https://colab.research.google.com/assets/colab-badge.svg\" alt=\"Open In Colab\"/></a>"
      ]
    },
    {
      "cell_type": "markdown",
      "source": [
        "# **I M P O R T S**"
      ],
      "metadata": {
        "id": "o4artSIot9O7"
      }
    },
    {
      "cell_type": "code",
      "source": [
        "!pip install unidecode\n",
        "!pip install emoji --upgrade"
      ],
      "metadata": {
        "id": "wn87xcJDE_hz",
        "colab": {
          "base_uri": "https://localhost:8080/"
        },
        "outputId": "2ea54e7f-f6b5-4df3-8de1-b6dd656f47d7"
      },
      "execution_count": null,
      "outputs": [
        {
          "output_type": "stream",
          "name": "stdout",
          "text": [
            "Collecting unidecode\n",
            "  Downloading Unidecode-1.3.3-py3-none-any.whl (235 kB)\n",
            "\u001b[?25l\r\u001b[K     |█▍                              | 10 kB 19.4 MB/s eta 0:00:01\r\u001b[K     |██▉                             | 20 kB 9.7 MB/s eta 0:00:01\r\u001b[K     |████▏                           | 30 kB 8.0 MB/s eta 0:00:01\r\u001b[K     |█████▋                          | 40 kB 4.4 MB/s eta 0:00:01\r\u001b[K     |███████                         | 51 kB 4.2 MB/s eta 0:00:01\r\u001b[K     |████████▍                       | 61 kB 5.0 MB/s eta 0:00:01\r\u001b[K     |█████████▊                      | 71 kB 5.1 MB/s eta 0:00:01\r\u001b[K     |███████████▏                    | 81 kB 5.1 MB/s eta 0:00:01\r\u001b[K     |████████████▌                   | 92 kB 5.7 MB/s eta 0:00:01\r\u001b[K     |██████████████                  | 102 kB 5.1 MB/s eta 0:00:01\r\u001b[K     |███████████████▎                | 112 kB 5.1 MB/s eta 0:00:01\r\u001b[K     |████████████████▊               | 122 kB 5.1 MB/s eta 0:00:01\r\u001b[K     |██████████████████              | 133 kB 5.1 MB/s eta 0:00:01\r\u001b[K     |███████████████████▌            | 143 kB 5.1 MB/s eta 0:00:01\r\u001b[K     |████████████████████▉           | 153 kB 5.1 MB/s eta 0:00:01\r\u001b[K     |██████████████████████▎         | 163 kB 5.1 MB/s eta 0:00:01\r\u001b[K     |███████████████████████▋        | 174 kB 5.1 MB/s eta 0:00:01\r\u001b[K     |█████████████████████████       | 184 kB 5.1 MB/s eta 0:00:01\r\u001b[K     |██████████████████████████▍     | 194 kB 5.1 MB/s eta 0:00:01\r\u001b[K     |███████████████████████████▉    | 204 kB 5.1 MB/s eta 0:00:01\r\u001b[K     |█████████████████████████████▏  | 215 kB 5.1 MB/s eta 0:00:01\r\u001b[K     |██████████████████████████████▋ | 225 kB 5.1 MB/s eta 0:00:01\r\u001b[K     |████████████████████████████████| 235 kB 5.1 MB/s eta 0:00:01\r\u001b[K     |████████████████████████████████| 235 kB 5.1 MB/s \n",
            "\u001b[?25hInstalling collected packages: unidecode\n",
            "Successfully installed unidecode-1.3.3\n",
            "Collecting emoji\n",
            "  Downloading emoji-1.6.3.tar.gz (174 kB)\n",
            "\u001b[K     |████████████████████████████████| 174 kB 5.1 MB/s \n",
            "\u001b[?25hBuilding wheels for collected packages: emoji\n",
            "  Building wheel for emoji (setup.py) ... \u001b[?25l\u001b[?25hdone\n",
            "  Created wheel for emoji: filename=emoji-1.6.3-py3-none-any.whl size=170298 sha256=afd3b9aed0df3cceb80fed3a8e123f6b2591bd898483a9e2e4b199b9124ed7c5\n",
            "  Stored in directory: /root/.cache/pip/wheels/03/8b/d7/ad579fbef83c287215c0caab60fb0ae0f30c4d7ce5f580eade\n",
            "Successfully built emoji\n",
            "Installing collected packages: emoji\n",
            "Successfully installed emoji-1.6.3\n"
          ]
        }
      ]
    },
    {
      "cell_type": "code",
      "execution_count": null,
      "metadata": {
        "id": "kYPoMeFqyHHK",
        "colab": {
          "base_uri": "https://localhost:8080/"
        },
        "outputId": "d77904ec-5742-460c-f8c0-daa93a498d13"
      },
      "outputs": [
        {
          "output_type": "stream",
          "name": "stderr",
          "text": [
            "/usr/local/lib/python3.7/dist-packages/psycopg2/__init__.py:144: UserWarning: The psycopg2 wheel package will be renamed from release 2.8; in order to keep installing from binary please use \"pip install psycopg2-binary\" instead. For details see: <http://initd.org/psycopg/docs/install.html#binary-install-from-pypi>.\n",
            "  \"\"\")\n"
          ]
        }
      ],
      "source": [
        "import pandas as pd\n",
        "from bs4 import BeautifulSoup\n",
        "from unidecode import unidecode\n",
        "import numpy as np\n",
        "import random\n",
        "import re\n",
        "import psycopg2 as ps\n",
        "import string\n",
        "import emoji\n",
        "import joblib"
      ]
    },
    {
      "cell_type": "code",
      "source": [
        "print(emoji.emojize('Python es :pulgar_hacia_arriba:', language='es'))"
      ],
      "metadata": {
        "id": "r3wtesJc9WvN",
        "colab": {
          "base_uri": "https://localhost:8080/"
        },
        "outputId": "829135b8-8fff-437c-af6c-8a0baa34aca5"
      },
      "execution_count": null,
      "outputs": [
        {
          "output_type": "stream",
          "name": "stdout",
          "text": [
            "Python es 👍\n"
          ]
        }
      ]
    },
    {
      "cell_type": "markdown",
      "source": [
        "# **O P E N__D A T A S E T ✌**"
      ],
      "metadata": {
        "id": "O0MnTcA9CzEZ"
      }
    },
    {
      "cell_type": "code",
      "source": [
        "from google.colab import drive\n",
        "drive.mount('/content/drive')"
      ],
      "metadata": {
        "id": "gif_IzZAI7Sg",
        "colab": {
          "base_uri": "https://localhost:8080/"
        },
        "outputId": "cc91032b-f862-43a0-8daf-b1ad46e18181"
      },
      "execution_count": null,
      "outputs": [
        {
          "output_type": "stream",
          "name": "stdout",
          "text": [
            "Mounted at /content/drive\n"
          ]
        }
      ]
    },
    {
      "cell_type": "code",
      "source": [
        "hateSpeechData = pd.read_csv(\"/content/drive/MyDrive/Colab Notebooks/FYP Implementations/March-test2.csv\" )\n",
        "\n",
        "#Setting the column width\n",
        "pd.set_option('display.max_colwidth', 100)\n",
        "\n",
        "#Setting the column names\n",
        "hateSpeechData.columns = ['Text','Feeling', 'Emotion','Label']\n",
        "\n",
        "#Printing first 5 rows\n",
        "hateSpeechData.head()"
      ],
      "metadata": {
        "colab": {
          "base_uri": "https://localhost:8080/"
        },
        "id": "EXVnDKYL2X35",
        "outputId": "7a746a6e-bf01-4218-ec73-c8405ce2d344"
      },
      "execution_count": null,
      "outputs": [
        {
          "output_type": "execute_result",
          "data": {
            "text/html": [
              "\n",
              "  <div id=\"df-fbb2f326-63d0-4a1c-95e8-14b41341bb68\">\n",
              "    <div class=\"colab-df-container\">\n",
              "      <div>\n",
              "<style scoped>\n",
              "    .dataframe tbody tr th:only-of-type {\n",
              "        vertical-align: middle;\n",
              "    }\n",
              "\n",
              "    .dataframe tbody tr th {\n",
              "        vertical-align: top;\n",
              "    }\n",
              "\n",
              "    .dataframe thead th {\n",
              "        text-align: right;\n",
              "    }\n",
              "</style>\n",
              "<table border=\"1\" class=\"dataframe\">\n",
              "  <thead>\n",
              "    <tr style=\"text-align: right;\">\n",
              "      <th></th>\n",
              "      <th>Text</th>\n",
              "      <th>Feeling</th>\n",
              "      <th>Emotion</th>\n",
              "      <th>Label</th>\n",
              "    </tr>\n",
              "  </thead>\n",
              "  <tbody>\n",
              "    <tr>\n",
              "      <th>0</th>\n",
              "      <td>baba hambuna gmn Me kahuti marilama yanna ona 😿</td>\n",
              "      <td>Sad</td>\n",
              "      <td>Anger</td>\n",
              "      <td>1</td>\n",
              "    </tr>\n",
              "    <tr>\n",
              "      <th>1</th>\n",
              "      <td>Mn hithuwe නිරුවතින් natana widihata oita වැඩිය ethi kiyala කට්ටිය</td>\n",
              "      <td>Anger</td>\n",
              "      <td>Neutral</td>\n",
              "      <td>1</td>\n",
              "    </tr>\n",
              "    <tr>\n",
              "      <th>2</th>\n",
              "      <td>BUDU SARANAI THUN DENATAMA</td>\n",
              "      <td>Happy</td>\n",
              "      <td>Happy</td>\n",
              "      <td>0</td>\n",
              "    </tr>\n",
              "    <tr>\n",
              "      <th>3</th>\n",
              "      <td>Oya godk shoi ane mn godk asai oylta 😍</td>\n",
              "      <td>Neutral</td>\n",
              "      <td>Happy</td>\n",
              "      <td>0</td>\n",
              "    </tr>\n",
              "    <tr>\n",
              "      <th>4</th>\n",
              "      <td>E unata kukku koo??🙂</td>\n",
              "      <td>Anger</td>\n",
              "      <td>Neutral</td>\n",
              "      <td>1</td>\n",
              "    </tr>\n",
              "  </tbody>\n",
              "</table>\n",
              "</div>\n",
              "      <button class=\"colab-df-convert\" onclick=\"convertToInteractive('df-fbb2f326-63d0-4a1c-95e8-14b41341bb68')\"\n",
              "              title=\"Convert this dataframe to an interactive table.\"\n",
              "              style=\"display:none;\">\n",
              "        \n",
              "  <svg xmlns=\"http://www.w3.org/2000/svg\" height=\"24px\"viewBox=\"0 0 24 24\"\n",
              "       width=\"24px\">\n",
              "    <path d=\"M0 0h24v24H0V0z\" fill=\"none\"/>\n",
              "    <path d=\"M18.56 5.44l.94 2.06.94-2.06 2.06-.94-2.06-.94-.94-2.06-.94 2.06-2.06.94zm-11 1L8.5 8.5l.94-2.06 2.06-.94-2.06-.94L8.5 2.5l-.94 2.06-2.06.94zm10 10l.94 2.06.94-2.06 2.06-.94-2.06-.94-.94-2.06-.94 2.06-2.06.94z\"/><path d=\"M17.41 7.96l-1.37-1.37c-.4-.4-.92-.59-1.43-.59-.52 0-1.04.2-1.43.59L10.3 9.45l-7.72 7.72c-.78.78-.78 2.05 0 2.83L4 21.41c.39.39.9.59 1.41.59.51 0 1.02-.2 1.41-.59l7.78-7.78 2.81-2.81c.8-.78.8-2.07 0-2.86zM5.41 20L4 18.59l7.72-7.72 1.47 1.35L5.41 20z\"/>\n",
              "  </svg>\n",
              "      </button>\n",
              "      \n",
              "  <style>\n",
              "    .colab-df-container {\n",
              "      display:flex;\n",
              "      flex-wrap:wrap;\n",
              "      gap: 12px;\n",
              "    }\n",
              "\n",
              "    .colab-df-convert {\n",
              "      background-color: #E8F0FE;\n",
              "      border: none;\n",
              "      border-radius: 50%;\n",
              "      cursor: pointer;\n",
              "      display: none;\n",
              "      fill: #1967D2;\n",
              "      height: 32px;\n",
              "      padding: 0 0 0 0;\n",
              "      width: 32px;\n",
              "    }\n",
              "\n",
              "    .colab-df-convert:hover {\n",
              "      background-color: #E2EBFA;\n",
              "      box-shadow: 0px 1px 2px rgba(60, 64, 67, 0.3), 0px 1px 3px 1px rgba(60, 64, 67, 0.15);\n",
              "      fill: #174EA6;\n",
              "    }\n",
              "\n",
              "    [theme=dark] .colab-df-convert {\n",
              "      background-color: #3B4455;\n",
              "      fill: #D2E3FC;\n",
              "    }\n",
              "\n",
              "    [theme=dark] .colab-df-convert:hover {\n",
              "      background-color: #434B5C;\n",
              "      box-shadow: 0px 1px 3px 1px rgba(0, 0, 0, 0.15);\n",
              "      filter: drop-shadow(0px 1px 2px rgba(0, 0, 0, 0.3));\n",
              "      fill: #FFFFFF;\n",
              "    }\n",
              "  </style>\n",
              "\n",
              "      <script>\n",
              "        const buttonEl =\n",
              "          document.querySelector('#df-fbb2f326-63d0-4a1c-95e8-14b41341bb68 button.colab-df-convert');\n",
              "        buttonEl.style.display =\n",
              "          google.colab.kernel.accessAllowed ? 'block' : 'none';\n",
              "\n",
              "        async function convertToInteractive(key) {\n",
              "          const element = document.querySelector('#df-fbb2f326-63d0-4a1c-95e8-14b41341bb68');\n",
              "          const dataTable =\n",
              "            await google.colab.kernel.invokeFunction('convertToInteractive',\n",
              "                                                     [key], {});\n",
              "          if (!dataTable) return;\n",
              "\n",
              "          const docLinkHtml = 'Like what you see? Visit the ' +\n",
              "            '<a target=\"_blank\" href=https://colab.research.google.com/notebooks/data_table.ipynb>data table notebook</a>'\n",
              "            + ' to learn more about interactive tables.';\n",
              "          element.innerHTML = '';\n",
              "          dataTable['output_type'] = 'display_data';\n",
              "          await google.colab.output.renderOutput(dataTable, element);\n",
              "          const docLink = document.createElement('div');\n",
              "          docLink.innerHTML = docLinkHtml;\n",
              "          element.appendChild(docLink);\n",
              "        }\n",
              "      </script>\n",
              "    </div>\n",
              "  </div>\n",
              "  "
            ],
            "text/plain": [
              "                                                                 Text  \\\n",
              "0                     baba hambuna gmn Me kahuti marilama yanna ona 😿   \n",
              "1  Mn hithuwe නිරුවතින් natana widihata oita වැඩිය ethi kiyala කට්ටිය   \n",
              "2                                          BUDU SARANAI THUN DENATAMA   \n",
              "3                              Oya godk shoi ane mn godk asai oylta 😍   \n",
              "4                                                E unata kukku koo??🙂   \n",
              "\n",
              "   Feeling  Emotion  Label  \n",
              "0      Sad    Anger      1  \n",
              "1    Anger  Neutral      1  \n",
              "2    Happy    Happy      0  \n",
              "3  Neutral    Happy      0  \n",
              "4    Anger  Neutral      1  "
            ]
          },
          "metadata": {},
          "execution_count": 5
        }
      ]
    },
    {
      "cell_type": "code",
      "source": [
        "# check the shape of training and testing dataset\n",
        "print(hateSpeechData.shape)"
      ],
      "metadata": {
        "colab": {
          "base_uri": "https://localhost:8080/"
        },
        "id": "csSdHJZv5j_C",
        "outputId": "4e8e6dae-7880-46da-c8d9-bd3a6bb64231"
      },
      "execution_count": null,
      "outputs": [
        {
          "output_type": "stream",
          "name": "stdout",
          "text": [
            "(583, 4)\n"
          ]
        }
      ]
    },
    {
      "cell_type": "code",
      "source": [
        "# Check null or NaN values are present in the training data and testing data\n",
        "print(hateSpeechData.isnull().values.any())"
      ],
      "metadata": {
        "colab": {
          "base_uri": "https://localhost:8080/"
        },
        "id": "3Gkx0refCOer",
        "outputId": "89001df2-9468-4980-ca04-08ac38acbc72"
      },
      "execution_count": null,
      "outputs": [
        {
          "output_type": "stream",
          "name": "stdout",
          "text": [
            "False\n"
          ]
        }
      ]
    },
    {
      "cell_type": "code",
      "source": [
        "#shape of the dataset\n",
        "print(\"Input data has {} rows and {} columns\".format(len(hateSpeechData), len(hateSpeechData.columns)))"
      ],
      "metadata": {
        "colab": {
          "base_uri": "https://localhost:8080/"
        },
        "id": "X-5mqLgxk_6d",
        "outputId": "0566fea7-d87f-44c0-d1af-6a9ee74307cc"
      },
      "execution_count": null,
      "outputs": [
        {
          "output_type": "stream",
          "name": "stdout",
          "text": [
            "Input data has 583 rows and 4 columns\n"
          ]
        }
      ]
    },
    {
      "cell_type": "code",
      "source": [
        "# How many cb/non cb texts are there?\n",
        "print(\"Out of {} rows, {} are Cyberbullying, {} are Not-cyberbullying\".format(len(hateSpeechData),\n",
        "                                                       len(hateSpeechData[hateSpeechData['Label']==1]),\n",
        "                                                       len(hateSpeechData[hateSpeechData['Label']==0])))"
      ],
      "metadata": {
        "colab": {
          "base_uri": "https://localhost:8080/"
        },
        "id": "jzo-VCDDlGPC",
        "outputId": "25d89076-e089-4536-e4ef-3864f8834c4b"
      },
      "execution_count": null,
      "outputs": [
        {
          "output_type": "stream",
          "name": "stdout",
          "text": [
            "Out of 583 rows, 375 are Cyberbullying, 208 are Not-cyberbullying\n"
          ]
        }
      ]
    },
    {
      "cell_type": "code",
      "source": [
        "#Converting all the labels to upper case\n",
        "hateSpeechData['Feeling'] = hateSpeechData['Feeling'].str.lower()\n",
        "hateSpeechData['Emotion'] = hateSpeechData['Emotion'].str.lower()\n",
        "hateSpeechData.head()"
      ],
      "metadata": {
        "colab": {
          "base_uri": "https://localhost:8080/"
        },
        "id": "cbdXnhqIl4Xq",
        "outputId": "3b80b219-816d-4a3b-bc67-4dc37e6ba288"
      },
      "execution_count": null,
      "outputs": [
        {
          "output_type": "execute_result",
          "data": {
            "text/html": [
              "\n",
              "  <div id=\"df-3975c1d5-4cd9-42e8-8218-6ab643210f19\">\n",
              "    <div class=\"colab-df-container\">\n",
              "      <div>\n",
              "<style scoped>\n",
              "    .dataframe tbody tr th:only-of-type {\n",
              "        vertical-align: middle;\n",
              "    }\n",
              "\n",
              "    .dataframe tbody tr th {\n",
              "        vertical-align: top;\n",
              "    }\n",
              "\n",
              "    .dataframe thead th {\n",
              "        text-align: right;\n",
              "    }\n",
              "</style>\n",
              "<table border=\"1\" class=\"dataframe\">\n",
              "  <thead>\n",
              "    <tr style=\"text-align: right;\">\n",
              "      <th></th>\n",
              "      <th>Text</th>\n",
              "      <th>Feeling</th>\n",
              "      <th>Emotion</th>\n",
              "      <th>Label</th>\n",
              "    </tr>\n",
              "  </thead>\n",
              "  <tbody>\n",
              "    <tr>\n",
              "      <th>0</th>\n",
              "      <td>baba hambuna gmn Me kahuti marilama yanna ona 😿</td>\n",
              "      <td>sad</td>\n",
              "      <td>anger</td>\n",
              "      <td>1</td>\n",
              "    </tr>\n",
              "    <tr>\n",
              "      <th>1</th>\n",
              "      <td>Mn hithuwe නිරුවතින් natana widihata oita වැඩිය ethi kiyala කට්ටිය</td>\n",
              "      <td>anger</td>\n",
              "      <td>neutral</td>\n",
              "      <td>1</td>\n",
              "    </tr>\n",
              "    <tr>\n",
              "      <th>2</th>\n",
              "      <td>BUDU SARANAI THUN DENATAMA</td>\n",
              "      <td>happy</td>\n",
              "      <td>happy</td>\n",
              "      <td>0</td>\n",
              "    </tr>\n",
              "    <tr>\n",
              "      <th>3</th>\n",
              "      <td>Oya godk shoi ane mn godk asai oylta 😍</td>\n",
              "      <td>neutral</td>\n",
              "      <td>happy</td>\n",
              "      <td>0</td>\n",
              "    </tr>\n",
              "    <tr>\n",
              "      <th>4</th>\n",
              "      <td>E unata kukku koo??🙂</td>\n",
              "      <td>anger</td>\n",
              "      <td>neutral</td>\n",
              "      <td>1</td>\n",
              "    </tr>\n",
              "  </tbody>\n",
              "</table>\n",
              "</div>\n",
              "      <button class=\"colab-df-convert\" onclick=\"convertToInteractive('df-3975c1d5-4cd9-42e8-8218-6ab643210f19')\"\n",
              "              title=\"Convert this dataframe to an interactive table.\"\n",
              "              style=\"display:none;\">\n",
              "        \n",
              "  <svg xmlns=\"http://www.w3.org/2000/svg\" height=\"24px\"viewBox=\"0 0 24 24\"\n",
              "       width=\"24px\">\n",
              "    <path d=\"M0 0h24v24H0V0z\" fill=\"none\"/>\n",
              "    <path d=\"M18.56 5.44l.94 2.06.94-2.06 2.06-.94-2.06-.94-.94-2.06-.94 2.06-2.06.94zm-11 1L8.5 8.5l.94-2.06 2.06-.94-2.06-.94L8.5 2.5l-.94 2.06-2.06.94zm10 10l.94 2.06.94-2.06 2.06-.94-2.06-.94-.94-2.06-.94 2.06-2.06.94z\"/><path d=\"M17.41 7.96l-1.37-1.37c-.4-.4-.92-.59-1.43-.59-.52 0-1.04.2-1.43.59L10.3 9.45l-7.72 7.72c-.78.78-.78 2.05 0 2.83L4 21.41c.39.39.9.59 1.41.59.51 0 1.02-.2 1.41-.59l7.78-7.78 2.81-2.81c.8-.78.8-2.07 0-2.86zM5.41 20L4 18.59l7.72-7.72 1.47 1.35L5.41 20z\"/>\n",
              "  </svg>\n",
              "      </button>\n",
              "      \n",
              "  <style>\n",
              "    .colab-df-container {\n",
              "      display:flex;\n",
              "      flex-wrap:wrap;\n",
              "      gap: 12px;\n",
              "    }\n",
              "\n",
              "    .colab-df-convert {\n",
              "      background-color: #E8F0FE;\n",
              "      border: none;\n",
              "      border-radius: 50%;\n",
              "      cursor: pointer;\n",
              "      display: none;\n",
              "      fill: #1967D2;\n",
              "      height: 32px;\n",
              "      padding: 0 0 0 0;\n",
              "      width: 32px;\n",
              "    }\n",
              "\n",
              "    .colab-df-convert:hover {\n",
              "      background-color: #E2EBFA;\n",
              "      box-shadow: 0px 1px 2px rgba(60, 64, 67, 0.3), 0px 1px 3px 1px rgba(60, 64, 67, 0.15);\n",
              "      fill: #174EA6;\n",
              "    }\n",
              "\n",
              "    [theme=dark] .colab-df-convert {\n",
              "      background-color: #3B4455;\n",
              "      fill: #D2E3FC;\n",
              "    }\n",
              "\n",
              "    [theme=dark] .colab-df-convert:hover {\n",
              "      background-color: #434B5C;\n",
              "      box-shadow: 0px 1px 3px 1px rgba(0, 0, 0, 0.15);\n",
              "      filter: drop-shadow(0px 1px 2px rgba(0, 0, 0, 0.3));\n",
              "      fill: #FFFFFF;\n",
              "    }\n",
              "  </style>\n",
              "\n",
              "      <script>\n",
              "        const buttonEl =\n",
              "          document.querySelector('#df-3975c1d5-4cd9-42e8-8218-6ab643210f19 button.colab-df-convert');\n",
              "        buttonEl.style.display =\n",
              "          google.colab.kernel.accessAllowed ? 'block' : 'none';\n",
              "\n",
              "        async function convertToInteractive(key) {\n",
              "          const element = document.querySelector('#df-3975c1d5-4cd9-42e8-8218-6ab643210f19');\n",
              "          const dataTable =\n",
              "            await google.colab.kernel.invokeFunction('convertToInteractive',\n",
              "                                                     [key], {});\n",
              "          if (!dataTable) return;\n",
              "\n",
              "          const docLinkHtml = 'Like what you see? Visit the ' +\n",
              "            '<a target=\"_blank\" href=https://colab.research.google.com/notebooks/data_table.ipynb>data table notebook</a>'\n",
              "            + ' to learn more about interactive tables.';\n",
              "          element.innerHTML = '';\n",
              "          dataTable['output_type'] = 'display_data';\n",
              "          await google.colab.output.renderOutput(dataTable, element);\n",
              "          const docLink = document.createElement('div');\n",
              "          docLink.innerHTML = docLinkHtml;\n",
              "          element.appendChild(docLink);\n",
              "        }\n",
              "      </script>\n",
              "    </div>\n",
              "  </div>\n",
              "  "
            ],
            "text/plain": [
              "                                                                 Text  \\\n",
              "0                     baba hambuna gmn Me kahuti marilama yanna ona 😿   \n",
              "1  Mn hithuwe නිරුවතින් natana widihata oita වැඩිය ethi kiyala කට්ටිය   \n",
              "2                                          BUDU SARANAI THUN DENATAMA   \n",
              "3                              Oya godk shoi ane mn godk asai oylta 😍   \n",
              "4                                                E unata kukku koo??🙂   \n",
              "\n",
              "   Feeling  Emotion  Label  \n",
              "0      sad    anger      1  \n",
              "1    anger  neutral      1  \n",
              "2    happy    happy      0  \n",
              "3  neutral    happy      0  \n",
              "4    anger  neutral      1  "
            ]
          },
          "metadata": {},
          "execution_count": 10
        }
      ]
    },
    {
      "cell_type": "code",
      "source": [
        "#Feelings in the dataset\n",
        "print(\"Out of {} rows, {} are Anger, {} are Suprise, {} are Happy, {} are Sad, {} are Disgust, {} are Neutral\".format(len(hateSpeechData),\n",
        "                                                       len(hateSpeechData[hateSpeechData['Feeling']=='anger']),\n",
        "                                                       len(hateSpeechData[hateSpeechData['Feeling']=='suprise']),\n",
        "                                                       len(hateSpeechData[hateSpeechData['Feeling']=='happy']),\n",
        "                                                       len(hateSpeechData[hateSpeechData['Feeling']=='sad']),\n",
        "                                                       len(hateSpeechData[hateSpeechData['Feeling']=='disgust']),\n",
        "                                                       len(hateSpeechData[hateSpeechData['Feeling']=='neutral'])))"
      ],
      "metadata": {
        "colab": {
          "base_uri": "https://localhost:8080/"
        },
        "id": "xvkcUnrHl5YC",
        "outputId": "189950f7-709b-47e8-be48-d6c005d7bedb"
      },
      "execution_count": null,
      "outputs": [
        {
          "output_type": "stream",
          "name": "stdout",
          "text": [
            "Out of 583 rows, 331 are Anger, 0 are Suprise, 44 are Happy, 33 are Sad, 5 are Disgust, 165 are Neutral\n"
          ]
        }
      ]
    },
    {
      "cell_type": "code",
      "source": [
        "#Emotions in the dataset\n",
        "print(\"Out of {} rows, {} are Anger, {} are Suprise, {} are Happy, {} are Sad,{} are Disgust, {} are Neutral\".format(len(hateSpeechData),\n",
        "                                                       len(hateSpeechData[hateSpeechData['Emotion']=='anger']),\n",
        "                                                       len(hateSpeechData[hateSpeechData['Emotion']=='suprise']),\n",
        "                                                       len(hateSpeechData[hateSpeechData['Emotion']=='happy']),\n",
        "                                                       len(hateSpeechData[hateSpeechData['Emotion']=='sad']),\n",
        "                                                       len(hateSpeechData[hateSpeechData['Emotion']=='disgust']),\n",
        "                                                       len(hateSpeechData[hateSpeechData['Emotion']=='neutral'])))"
      ],
      "metadata": {
        "colab": {
          "base_uri": "https://localhost:8080/"
        },
        "id": "wH1MX_R5mMS3",
        "outputId": "2015e4cc-caf2-4ceb-d444-5618cc5c69c0"
      },
      "execution_count": null,
      "outputs": [
        {
          "output_type": "stream",
          "name": "stdout",
          "text": [
            "Out of 583 rows, 255 are Anger, 0 are Suprise, 49 are Happy, 14 are Sad,5 are Disgust, 250 are Neutral\n"
          ]
        }
      ]
    },
    {
      "cell_type": "code",
      "source": [
        "# Reading the dataset row by row\n",
        "from csv import reader\n",
        "# skip first line i.e. read header first and then iterate over each row od csv as a list\n",
        "with open('/content/drive/MyDrive/Colab Notebooks/FYP Implementations/March-test2.csv', 'r') as read_obj:\n",
        "    csv_reader = reader(read_obj)\n",
        "    header = next(csv_reader)\n",
        "    if header != None:\n",
        "        for row in csv_reader:\n",
        "            print(row)"
      ],
      "metadata": {
        "id": "EU-B2KJG_AFR",
        "colab": {
          "base_uri": "https://localhost:8080/"
        },
        "outputId": "24d5a5a4-662a-4598-97d9-6d9f014cb6cd"
      },
      "execution_count": null,
      "outputs": [
        {
          "output_type": "stream",
          "name": "stdout",
          "text": [
            "['baba hambuna gmn Me kahuti marilama yanna ona 😿', 'Sad', 'Anger', '1']\n",
            "['Mn hithuwe නිරුවතින් natana widihata oita වැඩිය ethi kiyala කට්ටිය', 'Anger', 'Neutral', '1']\n",
            "['BUDU SARANAI THUN DENATAMA', 'Happy', 'Happy', '0']\n",
            "['Oya godk shoi ane mn godk asai oylta 😍', 'Neutral', 'Happy', '0']\n",
            "['E unata kukku koo??🙂', 'Anger', 'Neutral', '1']\n",
            "['Oka fesbuk danne netuw u inna thanata gihin ahpn', 'Anger', 'Anger', '0']\n",
            "['Ita kalin oya irichcha nathi adumak aran denna kiyanna', 'Anger', 'Neutral', '1']\n",
            "['Post penawata අකමැති nm unfallow krapiywko බොරුවට bena bena inne unge account eke උඹලාට ඕනි post dan නෑනේ un 😂', 'Neutral', 'Anger', '0']\n",
            "['Godak lassanai.oyala dennata theruwan saranai.', 'Happy', 'Happy', '0']\n",
            "['Irichchi kalisan adan yanne kohomadaa', 'Neutral', 'Neutral', '0']\n",
            "['Apita pukd ithin', 'Anger', 'Anger', '1']\n",
            "['පකයො', 'Anger', 'Anger', '1']\n",
            "['Hakiyawa agya krnwa thawa adu padu hdgena hoda gmnk ynna kiyla wish krnwa Budusarani ❤️', 'Happy', 'Happy', '0']\n",
            "['Wadiya ragapanna apa..sobadarmaya hamotama akai..aka salli walin nawathwanna ba', 'Neutral', 'Neutral', '0']\n",
            "['pu*! Thiynaw kiyala pennwa 🤣😅', 'Anger', 'Neutral', '1']\n",
            "['Ballek badinna aththe', 'Anger', 'Anger', '1']\n",
            "['මේකිගෙ අම්මා බඩුවක් වෙන්න ඕන', 'Anger', 'Neutral', '1']\n",
            "['මේ පතෝල හුම්ති මට අප්පිරියයි .', 'Anger', 'Anger', '1']\n",
            "['මේ හු&$ට අලි පම්කකින් හුම්කවන්න ඕනි ', 'Anger', 'Anger', '1']\n",
            "['Pissu ganiyek', 'Anger', 'Anger', '1']\n",
            "['Pala hutti makabavila thota dekata namala puke aralath madi', 'Anger', 'Anger', '1']\n",
            "['thoge tattha thowa hadanavata wada sarame pihadgttanm hodai oita wada', 'Anger', 'Anger', '1']\n",
            "['Pathoola huththi', 'Anger', 'Anger', '1']\n",
            "['Hukanna hithenawa', 'Anger', 'Neutral', '1']\n",
            "['Ai mehema duk denne nanga 😢', 'Neutral', 'Sad', '0']\n",
            "['Pissu huthtak bn eka😂 ', 'Anger', 'Neutral', '0']\n",
            "['Happy birthday hutto❤', 'Happy', 'Happy', '0']\n",
            "['happy birthday... p^ako...  u hodin innawa huththo....,  ', 'Happy', 'Happy', '0']\n",
            "['mona hutt 😂 ', 'Neutral', 'Happy', '0']\n",
            "['ඌව දූශනේ කෙරෙව්වා නේද? 😂', 'Sad', 'Happy', '0']\n",
            "['thowa mn mekt mention kra bllo.. ghin ekt reply krpn', 'Neutral', 'Neutral', '0']\n",
            "['hari hari hari...gon bota', 'Sad', 'Anger', '1']\n",
            "['hammee satchel movements nam supiri whuththo try ekak danna one owwa karanna', 'Happy', 'Neutral', '0']\n",
            "['Uu marenna athi hutto 😲', 'Neutral', 'Surprise', '0']\n",
            "['ai whutto mawa mathaka nathda 😞', 'Neutral', 'Sad', '0']\n",
            "['Paduwe inna deepan hutto 😞', 'Anger', 'Neutral', '0']\n",
            "['mokada hutto', 'Neutral', 'Neutral', '0']\n",
            "[' ado gindara vatila hutto methans😂', 'Happy', 'Happy', '0']\n",
            "['hutto menna karanawanm weda 😍', 'Neutral', 'Surprise', '0']\n",
            "['Mekatda redeem karanna kiyala thiyenne man danne na ne hutto 😂😂😂😂', 'Neutral', 'Neutral', '0']\n",
            "['wtf hutto ganu wage adanne😡', 'Anger', 'Anger', '0']\n",
            "['masa dekakata kalin Valorant hodai dan narakai ? 😂 mewane hutto goc', 'Anger', 'Anger', '0']\n",
            "['othana ape anjanaya idiyanm 🤣 A site ekata eddi whutto whutto mehe waren pako menna mehe enwa huttoo mehe waren pakooo menna mehee warennn🤣🤣🤣', 'Happy', 'Happy', '0']\n",
            "['solo que lu hutto 🥴', 'Neutral', 'Neutral', '0']\n",
            "['card details update krna amthka una hutto dn hari ghin blpn😒', 'Neutral', 'Neutral', '0']\n",
            "['hutto me appata haminenna mention krla owwa dannepa hukanno', 'Neutral', 'Anger', '0']\n",
            "['hutto balana balana paarata hina yanawa wadiyeng 😂😂😂😂😂😂', 'Happy', 'Happy', '0']\n",
            "['hutto ekaaaaaaaa 🤣🤣🤣🔥🔥 amthimata phoenix🤣🤣🤣🤣🤣🤣 lemmi show how the bo..... 🤣🤣🤣', 'Happy', 'Happy', '0']\n",
            "['Limitless ජීවිතේ.....', 'Neutral', 'Neutral', '0']\n",
            "['Ai ane meya mehema loku puthek uth innawa neda.... Puduma asawal thiyenne me ganuntath..... ...😡', 'Neutral', 'Anger', '0']\n",
            "['ජොල් 😂', 'Anger', 'Neutral', '1']\n",
            "['Aki kukku wadiyen bonne sarangada babaada?', 'Anger', 'Neutral', '1']\n",
            "['තවත් නලු නිලියො ඉන්නවා. මේ වගේ රෙන්න යන එකත් කිය කියා බලෙන් famous වෙන්න දඟලන උන් දැක්කමයි😂 ඕම තමා ඉතිං හිස් මිනිස්සු නේද. Talented මිනිස්සු ඔච්චර උඩ පනින්නෙත් නෑනේ🤐🤐', 'Anger', 'Anger', '1']\n",
            "['කක්ක බරද් හැටිවිතර අර උමාලිගෙබ්ප.වුල කඩලා හොඳින් ඉන්නවා.ඒයි.යා\\nයසගෑනු අම්ප උබලට ඕවා පා ල් දෙන.වා ඉදකින් ජරා ගෑනු', 'Anger', 'Anger', '1']\n",
            "['මළවිකාර මේකිගේ 😠😠පිස්සු මොංගල් එකක් මට නම් දැන් පෙන්නන්න බැහැ 👺👺👺👺', 'Anger', 'Anger', '1']\n",
            "['අනේ ඕයි ඔය ඇති ඕක නවත්තවකො දැන්වත් මේකට එන්න බෑ එක්කො කොට්ට බදන් එක්කො තිපෝස බදාගෙන එක්කො දෙන්න එක්ක උඩ පනිනවා ඔනවට වඩා රගන්න යන්නත් එපා ලමය හම්බුනා කියලා', 'Sad', 'Anger', '1']\n",
            "['Theruwan Saranai !!\\nSuch an adorable picture ❤️', 'Happy', 'Happy', '0']\n",
            "['Wadak naha heluwa pennan natapu sercus kariyakta thana dunne godak kanagatui ape rate daksayata nawai thana thiyenne hodata a,,,,,,,,,, a ayatai', 'Neutral', 'Sad', '1']\n",
            "['Apiiriyai ubalanam', 'Anger', 'Anger', '1']\n",
            "['පොන්නයා ආවේ සෙවලයා වගේ චැට් කරන්න්න වේස බල්ලා', 'Anger', 'Anger', '1']\n",
            "['පොන්නාය උබ අහන එවට මම දැන් උත්තර දෙනන් ඔනේද', 'Neutral', 'Anger', '1']\n",
            "['පිස්සෙක් හුත්තෝ උබ', 'Neutral', 'Neutral', '1']\n",
            "['ඇරගන්න ආස හින්දනේ. ගල  කපාගන්නමයි දගලන්නෙ. කැරි පුකේ අමාරුවක් තියෙන්නෙ', 'Anger', 'Anger', '1']\n",
            "['උදව්වක් කරන්න පුලුවන්ද කියලා........තොට කරනෝ උදව්.......බල්ලෙක් ලව්වලා තොට අරිනවා දැනගනින්', 'Anger', 'Anger', '1']\n",
            "['මං හිතුවෙ වයස 27ට වැඩි කෙල්ලෙක් කියල. 🙈🙈🙈🙈', 'Neutral', 'Surprise', '0']\n",
            "['Ubla mktd anunge hostel asse giye...thamange wdk blgna idpn puka nodi', 'Anger', 'Anger', '0']\n",
            "['Ow huththo apith ohma thama Basice putha', 'Neutral', 'Anger', '0']\n",
            "['ජොක්කි ඇදන් ලැට් අස්සෙ හැන්ගිලා ඉන්න පක්කු😂 ', 'Anger', 'Neutral', '1']\n",
            "['කාමරේට යන්නෙ පිරිසිදු ඇතිව 😂😂', 'Sad', 'Neutral', '1']\n",
            "['Ublge gdr enne ne pako.salli tina panthiye appata hukola ganne.idpn ape anduwak hdnkn😡', 'Anger', 'Anger', '1']\n",
            "['Besica katha kynda epa', 'Neutral', 'Neutral', '0']\n",
            "['මොන හුයන්නක්ද බන් ඒ 🤣', 'Neutral', 'Surprise', '0']\n",
            "['Hariyta kiypn, katata denne', 'Anger', 'Anger', '1']\n",
            "['Ou hutto ganin oya hambakarana ewagen 🤣', 'Anger', 'Anger', '0']\n",
            "['ponna gon kaali form karanna epaalu😂 ', 'Anger', 'Neutral', '1']\n",
            "['Yna huththaka nagala plyn meke haminenne nathuwa😡', 'Sad', 'Anger', '1']\n",
            "['Hama huththagema reddwl tynw mu gwa', 'Anger', 'Neutral', '0']\n",
            "['huththo ponnayo..huknwda kypn api?', 'Anger', 'Anger', '1']\n",
            "['Kari ponnaya supiri wadayak denne', 'Sad', 'Anger', '1']\n",
            "['Seksi huththooo ', 'Happy', 'Happy', '0']\n",
            "['Pakayalaaaw Aye kalekata patan ganna wenne na', 'Neutral', 'Neutral', '0']\n",
            "['Mata pennane nane bn fb eke mekige huuttwal', 'Neutral', 'Surprise', '0']\n",
            "['ube මෝල් අමාරුවට ගල් තියෙන්නෙ ඒව ඉරපන්', 'Anger', 'Anger', '1']\n",
            "['Machan uba napunsakaya una kiyala anith minissunta apahasa karanna epa', 'Sad', 'Anger', '1']\n",
            "['උබ මහ ජරාගොඩක් පොන්නයා. පුකෙන් ඉන්න සලස්වන්නම්😡', 'Anger', 'Anger', '1']\n",
            "['Ammoo thamai puken yanaa wadan denne neh😂 ', 'Sad', 'Neutral', '1']\n",
            "['Ube nama kiiwa කැරි ආතල්. 😂 ', 'Surprise', 'Happy', '0']\n",
            "['Ponsi katahadak bn ennee😂 ', 'Sad', 'Neutral', '1']\n",
            "['Pissuda pako😂', 'Neutral', 'Happy', '0']\n",
            "['Mage yaluw  kiuwa oya lassani kiyala', 'Neutral', 'Happy', '0']\n",
            "['Awajathka pnnyo kiyana de ahapan', 'Anger', 'Anger', '1']\n",
            "['mn kiuve mariyan basic puta kiyala.', 'Sad', 'Anger', '1']\n",
            "['Api mchchr kyl apiw gththe ne sathi dkkt keri pakku', 'Neutral', 'Anger', '0']\n",
            "['දෙන්නම් බොලාට රෙන පුක හොයාගන්න බැරිවෙන්න කලුවරෙ ඉන්නම ගේමක්', 'Anger', 'Anger', '1']\n",
            "['Ado mona keri wdkd bn e😖 කාලකන්නිyek පත් උනාම මේම වෙනවලු😪😪', 'Anger', 'Anger', '1']\n",
            "['අනේ පොන්නයා උබ කට්ටිය ඉස්සරහා ගූ වෙලා බොක වෙලා ඉන්නෙ.....උබ පොන්නයා කියලා ඔක්කොම දන්නවා😡', 'Anger', 'Anger', '1']\n",
            "['Mn eda qwa ara naakiyata oka gon ponnaya 😏', 'Sad', 'Neutral', '1']\n",
            "['Sihiya nathiwennama shot eka hambenna ethi', 'Anger', 'Neutral', '1']\n",
            "['Besic dan welawa keeyada උබට කොලු විසේ ගහලා තියෙන්නෙ', 'Anger', 'Neutral', '0']\n",
            "['gal wesiye ponna comment danna epa', 'Anger', 'Anger', '1']\n",
            "['besica puthaa paduwe idapan mariyan uba', 'Anger', 'Anger', '1']\n",
            "['Besicaya, ube මොල් අමාරුව ගල් වලිමුයි දිමුතුගෙ බේරගනින්', 'Anger', 'Neutral', '1']\n",
            "['🤣😂😂හිමින් පලයන් හු$#%', 'Neutral', 'Neutral', '0']\n",
            "['සුදු මහත්තයා  දත් බුරුසුවක් අරන් දියම්', 'Neutral', 'Neutral', '0']\n",
            "['Dil Dil එයාගේ හැටි 😅😅 මොන කොල්ලද දන්නැ me වගේ කලු කැත හොල්මනකට කැමති උනේ 😅😅', 'Neutral', 'Neutral', '1']\n",
            "['kukku...... kukku..... thatha thatha😋', 'Anger', 'Neutral', '1']\n",
            "['කුක්කු කුක්කු තන්ගල පුච්චි තන්ගච්චී 🌚☹️', 'Neutral', 'Neutral', '1']\n",
            "['Whoththo දෙවැනි පාර දැක්කේ', 'Neutral', 'Neutral', '0']\n",
            "[' හුත්තෝ 😂', 'Happy', 'Neutral', '0']\n",
            "['Idakin wesi, kotu panapuwe result thama me', 'Anger', 'Anger', '1']\n",
            "['Gon baduwa wambatu aduranawada, daganin loku wain', 'Anger', 'Anger', '1']\n",
            "['Thota english therenne nathuwa mona reddakatada suddek akka video call giye ahawal aka pennagannada', 'Anger', 'Anger', '1']\n",
            "['Fuck you bitch', 'Anger', 'Anger', '1']\n",
            "['Munta mokata igannuda manda wesige ammata therena wachana 2,3 patta wesita threnne nane,api waradak karanawa machao.', 'Anger', 'Anger', '1']\n",
            "['ඇයි උට්ටෝ මාව mention කලේ උඹට ආස හිතුනනේ ගැලපෙන අය හමුවෙනවා ඒක ලොවේ ස්වභාව 😁😁🤭🤭', 'Neutral', 'Neutral', '0']\n",
            "['මැද ඉන්න කලු එකීට මෝල් ගහත් මදි වෙයි මයෙ හිතේ', 'Anger', 'Neutral', '1']\n",
            "['Enna ukakanna hodata kawannan', 'Anger', 'Neutral', '1']\n",
            "['Puke erala ne kauruth ekai oya', 'Anger', 'Neutral', '0']\n",
            "['Wesa paulwala mudukku wesiyooo', 'Anger', 'Anger', '1']\n",
            "['Munta hukowaganna tiyna asawak 😅', 'Anger', 'Neutral', '1']\n",
            "['Mm threesome netha 😐', 'Neutral', 'Neutral', '0']\n",
            "['Ane ukkamuko maru maru thun denama wedi na ane.ehema thama maru.ma hamuwanna', 'Neutral', 'Neutral', '1']\n",
            "['Mewne tik tok uththo', 'Neutral', 'Neutral', '0']\n",
            "['higannu bn\\n', 'Neutral', 'Neutral', '0']\n",
            "['Whotto😂', 'Happy', 'Neutral', '0']\n",
            "['දැන් අප්ප්ට හු$$$ ගනිල්ලා😂😂😂', 'Anger', 'Neutral', '1']\n",
            "['Ekage muna balagena hukaa ganilla', 'Anger', 'Neutral', '1']\n",
            "['මොකද්ද බන් හු#ත්තිගෙ නලේ කියන්නෙ🤣🤣', 'Neutral', 'Neutral', '1']\n",
            "['ටකොගනිල්ලා 🤒 🤮🖕 ඇන්ටි', 'Anger', 'Anger', '1']\n",
            "['නට මූන බලන #@$ගන්න පුලුවන් කියලා දැනගත්දි වයස කියද', 'Anger', 'Neutral', '1']\n",
            "['Ubal whoksganilla', 'Anger', 'Anger', '1']\n",
            "['කක්කි ගොඩක්', 'Neutral', 'Neutral', '1']\n",
            "['වකෘති ලිංගික අසහනකාරයා උබ. විකෘති ලිංගික අසහනයෙන් ඉන්න එකෙක්', 'Anger', 'Neutral', '1']\n",
            "['උබ හිතන්නෙ මොනවගේ දේවල්ද. නොදන්න දේවල් කතා කරන්න එපා පොන්නයා', 'Anger', 'Anger', '1']\n",
            "['කැරියා වගේ නේවි එකට ගහන්න කතා කරන්නෙ.......එ ත් කෝල් එකකට අන්සර් කරන්න බය කොන්ද පුකේ තියෙන පොන්නයෙක්', 'Anger', 'Anger', '1']\n",
            "['තෝ කෞද පරයා මුන් දෙන්නා කියන්න. සර් කිව්වහම උබට කොල්ලො ගහනවා වගේද පෙන්නෙ............', 'Anger', 'Anger', '1']\n",
            "['රෙද්දක් තියෙයිනම් මෙහෙම ගෲප් වලට එයිද පරයෝ', 'Anger', 'Anger', '1']\n",
            "['කෞද හුත්තෝ තොට ලින්ක් එක දැම්මේ', 'Neutral', 'Anger', '0']\n",
            "['Umbeda umbe bade lamayek innwa hukagatta nisa', 'Anger', 'Anger', '1']\n",
            "['Taukanna wate gihin hukagena', 'Anger', 'Anger', '1']\n",
            "['මොනාද ගෑනි වගේ ඩිලිට් කරන්නේ ඊයා', 'Anger', 'Neutral', '1']\n",
            "['Yakow hinenuth penne ekige #$#$ 😂', 'Neutral', 'Neutral', '0']\n",
            "['Policiya piti passe. Ammat hukana justice.', 'Anger', 'Anger', '1']\n",
            "['Wadak thyna dyk hoyapan huththo. Tho pala ynna', 'Neutral', 'Anger', '1']\n",
            "['Harpn Hutto hika gawuna ekata oma idala ballek wage marila yai😅🍭', 'Anger', 'Neutral', '1']\n",
            "['Buddhi kollo gahnna blanne pool nawala krla 😂😂😂', 'Anger', 'Neutral', '1']\n",
            "['Poyata gahamu atheda bn', 'Neutral', 'Neutral', '0']\n",
            "['Parana awa danna epa hutto 😂😂😂', 'Neutral', 'Neutral', '0']\n",
            "['Uba hukaaagnn epaa wesige puthaaaa', 'Anger', 'Anger', '1']\n",
            "['Na bn කැරොලිනා ජූරි. Asainee', 'Neutral', 'Neutral', '0']\n",
            "['Buddi dan wate yanawane dan ara kolla ekka sellam karanne', 'Neutral', 'Neutral', '0']\n",
            "['Mta epa wela tynne dnnm uwa u kollokaaryek ban', 'Neutral', 'Sad', '1']\n",
            "['ගහන වෙලාවට කතා කරන්න එපා යකෝ😂😂😂', 'Neutral', 'Neutral', '0']\n",
            "['හම්බෙයි පම්කක්', 'Neutral', 'Neutral', '0']\n",
            "['Idapu kella mathakd😋 Ow cht karno', 'Neutral', 'Neutral', '0']\n",
            "['කෙල බේරෙන්නඔන්න මෙන්න', 'Neutral', 'Neutral', '0']\n",
            "['හුට්ටො වලලාපන්', 'Neutral', 'Anger', '1']\n",
            "['ane hutta hamadama kiynva vitharai ubalata arakat baa hutto', 'Neutral', 'Anger', '0']\n",
            "['Hai fuckers👀 alut eka baluwadaaaa', 'Neutral', 'Neutral', '0']\n",
            "['Uba wage kollo ghana un meke na bn😂', 'Anger', 'Neutral', '1']\n",
            "['Mona huttwld fuck me wenne', 'Neutral', 'Neutral', '0']\n",
            "['Me mon huynnkda ?', 'Neutral', 'Anger', '0']\n",
            "['🤣 kamathi un try krpn e huttita', 'Anger', 'Neutral', '1']\n",
            "['ඇට නෑ. Balls thiyenne hukgnepa 😎', 'Neutral', 'Neutral', '0']\n",
            "['Hutto ekiw අනවශ්\\u200dය lesa පාවිච්චි karanna epa harida gon hutti', 'Anger', 'Anger', '1']\n",
            "['මේකිට වඩා අපේ එකාගෙ බූබ්ස් හොදයි😂', 'Anger', 'Neutral', '1']\n",
            "['උබ එවපු එකනේ හුට්ටො එකී', 'Neutral', 'Anger', '0']\n",
            "['Ghin chuu krla nida ganin ponnayo', 'Anger', 'Anger', '1']\n",
            "['Moda hukannek wenna epa Cariyo innawd', 'Anger', 'Anger', '1']\n",
            "['Ane ammta hukapn😂', 'Anger', 'Anger', '1']\n",
            "['හායි බිචස්  මට අප්පිරියයි', 'Neutral', 'Anger', '0']\n",
            "['Inbox wren hukana widiya pennannnmm', 'Anger', 'Anger', '1']\n",
            "['mu owa edit karapuwa mn huknn giyeee na', 'Neutral', 'Anger', '0']\n",
            "['Ona huttak daapn hutto mata adla nee', 'Neutral', 'Anger', '0']\n",
            "['Sirwatma me kella patta lassani neh hutto', 'Neutral', 'Happy', '0']\n",
            "['me hutti aunty knk wage neh hut*&@', 'Anger', 'Anger', '1']\n",
            "['Baduwk ghnna asd ponzzz', 'Anger', 'Neutral', '1']\n",
            "['Pakayalaaaw Seksi huththooo', 'Anger', 'Neutral', '1']\n",
            "['Ada sape aththe baduwakut set karagna😂', 'Neutral', 'Neutral', '0']\n",
            "['Ane uba hukhn Ub pnnyk tmai', 'Anger', 'Anger', '1']\n",
            "['Me ape gewal gawa ekek kellek genalla bn gedra. mn kari huttita line eka danna inne', 'Neutral', 'Neutral', '0']\n",
            "['Ow bn wesa ponnayek unm Gon kariya', 'Anger', 'Anger', '1']\n",
            "['Uba kello amaruwe danawa nee wate gihin', 'Neutral', 'Neutral', '1']\n",
            "['Mu badu ghla hutto katawt kiynpa😂', 'Neutral', 'Neutral', '0']\n",
            "['Ane plyn bn ynna ,horu wage inna un thamai wal kariyo', 'Anger', 'Anger', '0']\n",
            "['Amo amo camikage sudu ammiya😂', 'Neutral', 'Neutral', '0']\n",
            "['Meki Ghnawai dunnoth', 'Anger', 'Neutral', '1']\n",
            "['Mta ariyda kiylda ahuwe Ariy mta ponnya', 'Anger', 'Anger', '1']\n",
            "['U mata puke ariwida danne na ne', 'Neutral', 'Neutral', '0']\n",
            "['Mole pennala පුක පලාගත්තා නෙ අන්තිමට', 'Anger', 'Neutral', '1']\n",
            "['pada bahinna dnne kariyage', 'Anger', 'Anger', '1']\n",
            "['Usaviye akkata asai wgeeee akkata kypn loku karala dewi', 'Anger', 'Neutral', '1']\n",
            "['Ekynne walkame giyath watura gahala gnnwa kylada 😂', 'Anger', 'Neutral', '1']\n",
            "['borunee Me ponnaya hama huttatama arinna yno', 'Anger', 'Anger', '1']\n",
            "['Ane htto ubaa arinn dnno pyya', 'Anger', 'Anger', '1']\n",
            "['Uba harano ne kollonge payyawl allnna', 'Anger', 'Neutral', '1']\n",
            "['Boobs loku wenne na ehema', 'Neutral', 'Neutral', '0']\n",
            "['Bijja lokuda lollo bassano danaganin', 'Anger', 'Anger', '1']\n",
            "['Arino mee huttita kari wesi', 'Anger', 'Anger', '1']\n",
            "['Surgery karala pnnyage loku krnnath puluwan podi karannath puluwan', 'Anger', 'Anger', '1']\n",
            "['Meki kollekda kellekdsa bn habai kari pumka', 'Anger', 'Neutral', '1']\n",
            "['danna lbbk kata krpn bn.Uba ekge maha ewunda ponnyo', 'Anger', 'Anger', '1']\n",
            "['Besicaputho paduwe indapn aragnetuwa ', 'Anger', 'Anger', '1']\n",
            "['Anna ara kariya nam sape innawa😂', 'Neutral', 'Happy', '0']\n",
            "['Ponnayek mu nam Hoda kane parak dena asai pau hutto uba 🤣', 'Anger', 'Anger', '1']\n",
            "['Mu dipu gon moral danne apine.ponnaya wage idiye', 'Anger', 'Anger', '1']\n",
            "['Wesa Paniya wage comment dna eka gana kiwwe', 'Anger', 'Anger', '1']\n",
            "['Set krpnko labbo kari wada ewa', 'Neutral', 'Neutral', '0']\n",
            "['Jungi horad hutto uba😂', 'Anger', 'Neutral', '1']\n",
            "['Hutto oke mu heluwenne inne wate yawamuda 🤣', 'Anger', 'Neutral', '0']\n",
            "['Gon ponnyo ara wesige num ekak tynwd kollo', 'Neutral', 'Neutral', '1']\n",
            "['උබටත් හුත්තෝ ඕනෙ නැති පකක් නෑ', 'Anger', 'Anger', '0']\n",
            "['Kaiyya witarai pakayage kollo kryek', 'Anger', 'Anger', '1']\n",
            "['Oya dn dapu ss yawannada patiyo 🤣', 'Neutral', 'Neutral', '1']\n",
            "['Puk poddk pennpn ', 'Anger', 'Neutral', '1']\n",
            "['ඌ කෙල්ලොන්ට පෙන්න අරන් යන බොරු මෙව්වා එකත් ඔනේ හැබැයි', 'Neutral', 'Neutral', '0']\n",
            "['Ane ponna wesiy ubata msg krnna ona nm wena kollek set krgninko haminenne natuwa methana', 'Anger', 'Anger', '1']\n",
            "['ඇන්ටි පාරක් ලයින් උන් නැද්ද ජංගි හොරා', 'Anger', 'Anger', '1']\n",
            "['පොඩ්ඩක් save kara ganna daanawa mekige num eka kmthi kenk ganna \\U0001f972', 'Neutral', 'Neutral', '0']\n",
            "['5g joint kalla daaganin gahanna', 'Neutral', 'Neutral', '0']\n",
            "['mn gahuvath gahuvath gahnne uuu ekka vithrai ai umbta aulda', 'Neutral', 'Anger', '0']\n",
            "['ado ekii nmm maruu bn 4tos dannm hitapnkoo ammaa', 'Neutral', 'Neutral', '0']\n",
            "['leak onadaaa ????????????', 'Neutral', 'Neutral', '0']\n",
            "['daapanko huththo full vedio ', 'Neutral', 'Neutral', '0']\n",
            "['Salli deela ekkan ghin tinne mole wesiwa', 'Anger', 'Anger', '0']\n",
            "['appa supiri aa eka nn', 'Neutral', 'Happy', '0']\n",
            "['Mona gon huththkd ee', 'Anger', 'Anger', '0']\n",
            "['කව්ද හු#තො පිසාචයාට ෆොන් දුන්නෙ', 'Anger', 'Anger', '0']\n",
            "['mu nm manussayek wenna ba😂', 'Neutral', 'Neutral', '0']\n",
            "['tik tok thahanam kirimata kalaya awith ', 'Neutral', 'Neutral', '0']\n",
            "['balangoda manawaya wage dakke ', 'Anger', 'Neutral', '1']\n",
            "['me dws wala fb eke monwa baluwath oawamane tynne', 'Neutral', 'Neutral', '0']\n",
            "['haththikke kolu bagayak netha me😂', 'Anger', 'Neutral', '1']\n",
            "['Suddith balnwa me mona whttkd kiyl 😂', 'Anger', 'Neutral', '0']\n",
            "['Kanen k$@i wisikka wenna gahapu paara', 'Neutral', 'Neutral', '0']\n",
            "['Kauda bn thota aiya kiyapu p@%$ya 😂😂', 'Anger', 'Anger', '1']\n",
            "['mona whuththakda me ?', 'Anger', 'Anger', '0']\n",
            "['mata me wage po*&%%@ w@#$*@ puthala pennanna baaa. ', 'Anger', 'Anger', '1']\n",
            "['Pa*& vedi tibillak ne bn eka 🤣💔', 'Anger', 'Neutral', '0']\n",
            "['Oita wada hodai uba agilla aragena p&^ @ gha ganin', 'Anger', 'Anger', '1']\n",
            "['Ane mnda me gaanu kalin kolla marunata passe ganak nathiwa wena ekekge ange elluna hati, thuh Nodakin, w$%', 'Anger', 'Anger', '1']\n",
            "['Ane whoththiye danna labbak kiyahn ganiye', 'Anger', 'Anger', '1']\n",
            "['Mun nam patta badu tikk ammapa', 'Anger', 'Anger', '1']\n",
            "['අනේ පවු dan oyaaa kohomath baduwe wela inne aiyooooooo salli .', 'Anger', 'Neutral', '1']\n",
            "['Nagga bn 🥺🙈👈', 'Anger', 'Neutral', '1']\n",
            "['Meki dakkama wadagena gahnna hithenne bn', 'Anger', 'Neutral', '1']\n",
            "['patta than deka nehh, ammoh', 'Anger', 'Neutral', '1']\n",
            "['Game gahnna barinm hu*&^% game nogaha inna ona,', 'Anger', 'Anger', '1']\n",
            "['Mona karumayakda mnda pau denna enwa, gon Pa*&^%', 'Anger', 'Anger', '1']\n",
            "['Ka%^$ gahnna bari unata skin nam thinwa😂', 'Sad', 'Happy', '0']\n",
            "['Lontha p*&^%, mun wage un neh team ekata set wenne', 'Anger', 'Anger', '1']\n",
            "['muta hariyata hu*&^ puluwanda dnne na, moda ka%^%', 'Anger', 'Anger', '1']\n",
            "['dn kale hari kellek innwada mnda, okkoma ka&^ badu inne', 'Neutral', 'Anger', '1']\n",
            "['whokanna bari kari pakaya, huththa athule chu keruwa', 'Anger', 'Anger', '1']\n",
            "['Me we*&^ puthage ata thalanna ona', 'Anger', 'Anger', '1']\n",
            "['ai whoththo muta wena ganiyek idiye nadda, awurudu 11 lamayek ekka sex krnne', 'Neutral', 'Anger', '0']\n",
            "['e kellath hoda baduwak wenn athi', 'Anger', 'Anger', '1']\n",
            "['Tik tok baddak 😅', 'Anger', 'Anger', '1']\n",
            "['redde pihidagnna ona whoththawal ehema nokarama mu wage ka*&^ inno thamai', 'Anger', 'Anger', '1']\n",
            "['pissu hu*& neh mu 😅', 'Neutral', 'Anger', '0']\n",
            "['kimba ibinna asai hu*&^', 'Anger', 'Anger', '1']\n",
            "['aiyo allata madi mirikala lokukaranna annada😈', 'Anger', 'Neutral', '1']\n",
            "['eeeeeya katha ganu appiriya karanawa', 'Anger', 'Neutral', '1']\n",
            "['Shik appiriyai. 😡😡😡', 'Anger', 'Anger', '1']\n",
            "['Mekiwa dhakkidhdi mata withara dha apiriya hithenneh😰🤢🤢🤢🤢🤮🤮🤮', 'Anger', 'Neutral', '1']\n",
            "['පයිය මැදින් දාල ගලක් කපන්නත් අමාරුයි පයියෙ ලෙලි යාවි කටු වලට 😂😂😂😂', 'Anger', 'Neutral', '1']\n",
            "['gon huththi 😂', 'Anger', 'Anger', '1']\n",
            "['මෙව දෙක්කහම ගෙනු එපා වෙනව අප්ප චික් කියල හිතෙනව', 'Sad', 'Anger', '1']\n",
            "['ඉදකිම් විතරක් කිහිල්ල සිංහරාජේ වගේ කිම්බ ඇති ඇමර්සන් වගේ😂😂', 'Anger', 'Neutral', '1']\n",
            "['oyata katata Danna hitanawa', 'Anger', 'Neutral', '1']\n",
            "['paka thama Danna wenne😂', 'Anger', 'Neutral', '1']\n",
            "['Wesa huthti', 'Anger', 'Anger', '1']\n",
            "['දානව පම්කක්😅', 'Anger', 'Neutral', '0']\n",
            "['අඩේ.තෝ මැරියකෝ.හුත්තියේ', 'Anger', 'Anger', '1']\n",
            "[' pala huth** yanna', 'Anger', 'Anger', '1']\n",
            "['Ane podi kukku 2 da Dan hodata hellanawa', 'Anger', 'Neutral', '1']\n",
            "['Nedakin padangu belli to pala maradanata ganika wadeta', 'Anger', 'Anger', '1']\n",
            "['Mooll utta😏', 'Anger', 'Anger', '1']\n",
            "['tik tok eke baduwak wenna epa manika', 'Anger', 'Neutral', '1']\n",
            "['මළමිනියක් wage 😂😂😂', 'Anger', 'Neutral', '1']\n",
            "['සරමෙ පිහිය දාගන්න ඕන ජාන එලියට අපුවාම මෙහෙම දෙවල් බලාපොරොත්තු වෙන්න වෙනවා බන් ඉටත් 2000 පස්සේ ඉපදුන උන්ගෙන් මිට වඩා දෙයක් බලාපොරොත්තු වෙන්න බැහැ බන්', 'Anger', 'Anger', '1']\n",
            "['හරියට හිකුවොත් මැරිල වැටෙනව😂', 'Anger', 'Neutral', '1']\n",
            "['Ubata natanna therenne na yako😡😡😡', 'Anger', 'Anger', '1']\n",
            "['me hutthiwath bandanagare danna one httiwa', 'Anger', 'Anger', '1']\n",
            "['mata hitheynawa oyata diwa danna', 'Anger', 'Neutral', '1']\n",
            "['Toge puke arala katata dila ara kudu suda ahinsaka kello amaruwe damma to. Wage wesa hutiyekuta hukala atarinna ona', 'Anger', 'Anger', '1']\n",
            "['oyage kimbath horakankarai', 'Anger', 'Neutral', '1']\n",
            "['ammoo oyage baduva levakanna one ', 'Anger', 'Neutral', '1']\n",
            "['හුත්ත හොරා', 'Anger', 'Anger', '1']\n",
            "['මොන වේසා හුත්තියක්ද මන්ද .', 'Anger', 'Anger', '1']\n",
            "['මොල් හුත්තක්', 'Anger', 'Anger', '1']\n",
            "['pissude huthiyo', 'Anger', 'Anger', '1']\n",
            "['ඔල්මාද බඩු වන්නේ හලෝ', 'Anger', 'Anger', '1']\n",
            "['Samaposha tikak vat kapiya huttiye 😁🥰', 'Anger', 'Neutral', '1']\n",
            "['ammoo kukku deka uranna mata', 'Anger', 'Neutral', '1']\n",
            "['Akka tharha venna apa oya puka kadicca kadiyek vage 🤪🤪', 'Anger', 'Neutral', '1']\n",
            "['gihilla puka wanala ganak hamba karaganna balapan huththige ganikawa', 'Anger', 'Anger', '1']\n",
            "['me ubata redi naththan kiyapn mama redi yaryk arn dennam 😳', 'Neutral', 'Neutral', '0']\n",
            "['Me patta belli lagaka unnanm asuchi gahanawa wesa belliyo heluwa pennagana', 'Anger', 'Anger', '1']\n",
            "['huthi aduma hariyata adaganin balu huthi', 'Anger', 'Anger', '1']\n",
            "['kukku2 den niyama gana', 'Anger', 'Neutral', '1']\n",
            "['ඔය blouse එක අරන් අපේ ගෙදර වරෙන්😏 මන් ඕක හරියට අන්දවන්න😅ගොන් ගෑනි😂', 'Anger', 'Neutral', '0']\n",
            "['oyage puke gahanna asaai', 'Anger', 'Neutral', '1']\n",
            "['puke ariyama maru hode', 'Anger', 'Neutral', '1']\n",
            "['puka sudhu dha menika 😉😉\\n\\n', 'Anger', 'Neutral', '1']\n",
            "['ammooo meyage kukku dekai gal dekai 😳😳😳', 'Anger', 'Surprise', '1']\n",
            "['Eh huththo uba nam pattai', 'Happy', 'Happy', '0']\n",
            "['Happy birthday whutto', 'Happy', 'Happy', '0']\n",
            "['congrats whotto', 'Happy', 'Happy', '0']\n",
            "['eka supurii hutto', 'Happy', 'Happy', '0']\n",
            "['Athal ganna epa pakoo 😁', 'Happy', 'Happy', '0']\n",
            "['Balu huttita hana hatama gahapiya 😡', 'Anger', 'Anger', '1']\n",
            "['Sakkilima wesige putek, heti balapn p@!&*age. kannama Apu apathayek 🖕 ', 'Anger', 'Anger', '1']\n",
            "['Amu wesiyak 🤢', 'Anger', 'Anger', '1']\n",
            "['Huththata english dnne neththang sinhalen katha karapan whuththo 😂', 'Anger', 'Neutral', '0']\n",
            "['Mun okkom badu boruwata baila gahanawa 😅', 'Neutral', 'Neutral', '0']\n",
            "['Ubala thama dawasakatat ganu.. p&*%N hina ithin mewata...😅', 'Anger', 'Neutral', '1']\n",
            "['Monoda bn me English ane huke\\t', 'Anger', 'Neutral', '1']\n",
            "['Lankawe dan badui horui minimaruwoi mankolla karayoi tamai inne dan', 'Neutral', 'Neutral', '0']\n",
            "['Ammpa me wesiyont lajja nane🤮', 'Anger', 'Anger', '1']\n",
            "['ammage redda. pala belli konakata. dannttn waren kiyala denna 😠', 'Anger', 'Anger', '1']\n",
            "['Gon badu form karanna epa', 'Anger', 'Neutral', '0']\n",
            "['Gon huththiyek 🖕 ', 'Anger', 'Anger', '1']\n",
            "['එකි අරුට කියලා ඇරගේන දැන් එනවා so so kiyann .අනේ පවු dan oyaaa kohomath baduwe wela inne aiyooooooo salli .', 'Anger', 'Neutral', '1']\n",
            "['Lankawe inna අලුත් නළුනිළි යන්ට kiyanna wachana na.gon part මේවාට danawa😂', 'Neutral', 'Neutral', '0']\n",
            "['main sponsor ,manager එක්ක හුකලා තමයි videos වලට එන්නෙ නැතුව උබල නිකං එන්නේ නෑනේ..මිනිස්සු දන්නවා බං උඹලා ගැන කොච්චර පොෂ් වෙන්න හැදුවත් වැඩක් නෑ 😅', 'Anger', 'Neutral', '1']\n",
            "['පට්ට බඩු..මේව පාරෙ යද්දි ගල් ගහන්න ඕන...වැරදි කරල කොච්චර හංගන්න හැදුවත් බෑ ගොන් වේසියේ...උඹලගෙ ජීවිත වලට උඹල respect කරන් නැත්නම්..වැරදි ලෝකෙන් හංගල අනිත් මිනිස්සුන්ගෙ ගෞරවය දිනා ගන්න උඹලට බෑ.', 'Anger', 'Anger', '1']\n",
            "['balan giyama meya piumita wada gonek ne.HE HE HE .........🤣', 'Anger', 'Neutral', '1']\n",
            "['Ponna wesike pakayo dannek mona vihiluda mewa mawata hodai kiyanne modayo thani kunuharpa 🖕 ', 'Anger', 'Anger', '1']\n",
            "['Oyaa police kariyawa gennala diyankkoo. Marannaa. Ponna hetta', 'Anger', 'Anger', '1']\n",
            "['පලයං ගොන් ඇඩ්මින් යන්න...uba cricket danna ekek neme bola.kalisama adaganada post eka damme', 'Anger', 'Anger', '1']\n",
            "['Ane huka tamai pakya match 20ka wtra lakunj ghnnetuwa ekaka ghuwa kyl puka denwa gotha ponnaya', 'Anger', 'Anger', '1']\n",
            "['මම දන්නව ප# උබ මේකෙ comment කියවන්න එනව කියල එදා ඉල්ලන් ගිය ජොකා. ගෙනත් දීපන් හු*## cll ගත්තට answer කරන්නෙත් නෑ.. උබ අහුවෙයන් .. 🤣😂😁', 'Neutral', 'Anger', '0']\n",
            "['ටව්කන්න යකෝ මෙන්න සම්මාන දෙනවනම් මිනිස්සු  ❤️😍 හොදම නළුවා, නිළිය, ප්\\u200dරසන්ටර් And ඩිරෙක්ටර් ඉරාජ් උබ අනිවා සම්මානයක් ගත යුතුයි සහෝ.', 'Happy', 'Happy', '0']\n",
            "['ponnayo raja wela.... ewith inna okkoma wesiyone.... thane eliye dagen... puka dila modeling karala prasidda unama un hari genu kiyala hithan inne.... keri badu.... owa dekkama negala thiyena paiyath bahinawa', 'Anger', 'Anger', '1']\n",
            "['Rata kanne desapaluwoi.badapu dawasema wateyana wesa badui.nodakin', 'Neutral', 'Anger', '1']\n",
            "['Yko meka magulkda????pita rata wthe ohoma na ...ape lankawe minisu godake wenase 😲🥺', 'Neutral', 'Surprise', '0']\n",
            "['Ara kaushi wesa haththa hithan inna akita witharai tanak thiyanna kiya wena gahnunta nathi widiyata mun wage vesa badu aa lankawe anith ghanun eliya dagana inna', 'Anger', 'Anger', '1']\n",
            "['Dan kale lankave kello mehemada?! Iya lajjai', 'Sad', 'Neutral', '1']\n",
            "['Menna ratawal menna minissu. ape ratawal wala inna jathin thunema gothrikayo tika manussayo karala inna wenawa', 'Neutral', 'Sad', '0']\n",
            "['Niwadu wage newi pko😂\\n\\n', 'Neutral', 'Happy', '0']\n",
            "['Bahukapan whotto 😂', 'Neutral', 'Neutral', '0']\n",
            "['Mn paweno huttoooo  😂', 'Happy', 'Happy', '0']\n",
            "['Kana bona ewath aparade hutta thota bonna kanna dila 😂', 'Neutral', 'Neutral', '0']\n",
            "['Kari wada karanna lasthi wenna epa pakayoooooo  😢☹️', 'Neutral', 'Sad', '1']\n",
            "['Kari ponnaya tho hukaaapiya😠', 'Neutral', 'Anger', '1']\n",
            "['Kari pontiya api ktha karama ba, wena un ekka nm yawi puka palagena hari', 'Neutral', 'Anger', '0']\n",
            "['mun wage kalakanni innakan ratawal diunukarana be ', 'Anger', 'Neutral', '1']\n",
            "['thopi wage lamainta me athmedi hena wadina ona', 'Anger', 'Anger', '1']\n",
            "['mewata loku baladarin waga kiyanna ona mun okkoma ekai mahajana mudal nasthi karana kalakanni balu heththa', 'Neutral', 'Anger', '1']\n",
            "['Dakina dakina ekage ata deka suppu karapan gihin cari wesi. Me wesitanm hodak sidda wenne nehe. Hena gahapan', 'Anger', 'Anger', '1']\n",
            "['Thota hena gahapan thoge balu patawuntath .. Balu weesi', 'Anger', 'Anger', '1']\n",
            "['Henama gahapiya wesa ballita', 'Anger', 'Anger', '1']\n",
            "['Mekita dan miniha nathuwa aduwak wena ekak ne', 'Anger', 'Neutral', '1']\n",
            "['SATHUTU NAM PUKA DEEPAN WESA BADUWA', 'Anger', 'Anger', '1']\n",
            "['Ponnayo danne kellek aduwa gaman laga inna kollekta Allan gahanna witharai.', 'Neutral', 'Anger', '0']\n",
            "['Kimbak eduwoth ape untath amma thaththawath penne na', 'Neutral', 'Anger', '0']\n",
            "['Karima dance eka\\n', 'Neutral', 'Neutral', '0']\n",
            "['hithan inne Hena kariya kiyala', 'Anger', 'Neutral', '1']\n",
            "['Apith manussyo hutto', 'Neutral', 'Anger', '0']\n",
            "['Melo rahak nah hutto', 'Anger', 'Neutral', '1']\n",
            "['Kariyage Hena kata Ponnayo', 'Anger', 'Anger', '1']\n",
            "['Ubatth ona nathi huttak na ne paca', 'Anger', 'Anger', '0']\n",
            "['Okata dana gassala toku aninna one Pakayta', 'Anger', 'Anger', '1']\n",
            "['Kari kata thoge moda Punsiriya', 'Anger', 'Anger', '1']\n",
            "['Modayo dakala natnam balaganna', 'Sad', 'Neutral', '1']\n",
            "['Pucath hina wenawa', 'Sad', 'Neutral', '1']\n",
            "['Huttak karanwa payya', 'Anger', 'Anger', '1']\n",
            "['Haminiyan gihilla ganiyek ekka', 'Anger', 'Neutral', '1']\n",
            "['Bahukapn paraya', 'Anger', 'Anger', '1']\n",
            "['Thoth ghn nidaganin hutto', 'Anger', 'Anger', '1']\n",
            "['Ane pako mn ehemada bijjo kiwwe', 'Anger', 'Anger', '1']\n",
            "['Oya wesa ballage Bijja thalana ona', 'Anger', 'Anger', '1']\n",
            "['Mko pontiya uba? Kariya da uba??', 'Anger', 'Anger', '1']\n",
            "['පිස්සු හුත්තිලා, මුන් වගේ උන් නිසා හොඳ කෙල්ලන්වත් දූෂණය කරන්න නාකි ඉතිං දුවනවා කියපන්කෝ!!! ', 'Anger', 'Neutral', '1']\n",
            "['Cari wesi.. Me cari wesige puke arinna one miriskudu daala balu wesita. Katu kohila alayak bessuwanam kakul 2ka depeththata karala huththa athulata me huththita mita wada sathutak lebei.', 'Sad', 'Anger', '1']\n",
            "['Lamainge thathalage nam mathaka thiyagnin, wesiyekuta ballek Hu@#$^ hambuna ganikawa.', 'Anger', 'Anger', '1']\n",
            "['Hoda Baduwak meki nam', 'Anger', 'Neutral', '1']\n",
            "['Meki nma yako loweth ganikawak ', 'Anger', 'Neutral', '1']\n",
            "['Langadima walalenna wewi takaran wesa huththita', 'Anger', 'Anger', '1']\n",
            "['Hodama athal eka kiynne wesi wesima thamai mokk unath', 'Anger', 'Neutral', '1']\n",
            "['Hodata mirikanwa athi me huththige, balapan yako size eka.', 'Sad', 'Neutral', '1']\n",
            "['හොරෙන් බෝට්ටුවෙන් ගිහින්, එකෙක්ට කියලා හු#ගත්තම ඔහොම දේවල් කියවෙනවා ගෑණියේ', 'Anger', 'Anger', '1']\n",
            "['Hoda deyak piligann bari awajathaka ponna harak patiya', 'Anger', 'Anger', '1']\n",
            "['හුත්තෙ මයිල්ද', 'Anger', 'Neutral', '1']\n",
            "['හුත්තේ හුකලා මෙිිකිට', 'Anger', 'Neutral', '1']\n",
            "['Huththiye uba ipadune lankawe kiyala mathaka thyagnin, pare yana ballek huaka hari', 'Anger', 'Anger', '1']\n",
            "['හුත්ති තොට කොරොනා හැදිලා පොලොවෙ පස් කොටාපං තොගේ කිමිබ කපනෝ ළග හිටියනමි.තොගෙ අමිමට හුකාපං පටිට හුත්ති', 'Anger', 'Anger', '1']\n",
            "['Huththa welenwada corona nisa gedarata wela idala.', 'Anger', 'Neutral', '1']\n",
            "['Huka&%nin wesi', 'Anger', 'Anger', '1']\n",
            "['Hu*apan', 'Anger', 'Anger', '1']\n",
            "['Huakanna denna barida', 'Anger', 'Neutral', '1']\n",
            "['Hukagththane landadima babek wet wei ehenm', 'Anger', 'Neutral', '1']\n",
            "['Ado wesi !!', 'Anger', 'Anger', '1']\n",
            "['Aniwaren me wesi iskole gihin na', 'Sad', 'Neutral', '1']\n",
            "['Ane ammata huk@#$A* patta wesi', 'Anger', 'Anger', '1']\n",
            "['Aniwaren badu pot ekaka inna ekiyak thamai, corona asse badu gahnna bariwa mol wela aththe', 'Anger', 'Anger', '1']\n",
            "['Thamuse nam corona hadila marenn ona, kalakanni', 'Anger', 'Anger', '1']\n",
            "['Tho nam sirwatama ponnayek aise ', 'Anger', 'Anger', '1']\n",
            "['Ane ithaliye inna unta kiyala hukag^&* gon wesi', 'Anger', 'Anger', '1']\n",
            "['Oyage kathata wamane yanna enawa', 'Sad', 'Neutral', '1']\n",
            "['Ane kar@ thambiya, mun danna labba', 'Anger', 'Anger', '1']\n",
            "['අපෝ මුට දීල තියනවා අම්මට හැම්නෙන්න. අපිට කියන්න දෙයක් ඉතිරි වෙලා නැහැ .', 'Anger', 'Anger', '1']\n",
            "['අප්පට හැමනියං බලු වේසි..', 'Anger', 'Anger', '1']\n",
            "['අම්මට හුකපන්', 'Anger', 'Anger', '1']\n",
            "['අම්මට හුකපන් පට්ට වේසි..උබ පරට්ටිගේ හුත්ත අහන්න ඕන නෑ.', 'Anger', 'Anger', '1']\n",
            "['අම්මට හුකමු', 'Anger', 'Anger', '1']\n",
            "['අම්මට හුකහන් වේස බැල්ලි..උබල වගේ හුත්තියො හින්ද තමයි ලංකාවට කෙලවෙන්නෙ', 'Anger', 'Anger', '1']\n",
            "['අම්මට හුකහන් හුත්ති', 'Anger', 'Anger', '1']\n",
            "['අම්මට හුකාපන් ෙවසි', 'Anger', 'Anger', '1']\n",
            "['One na thoge mala miniya', 'Neutral', 'Anger', '1']\n",
            "['Othana walaliyan gon wesi', 'Anger', 'Anger', '1']\n",
            "['Ochchara ithaliyata adre nm sinahalen katha krnne ai yako', 'Neutral', 'Anger', '0']\n",
            "['kata comod ekk wage', 'Sad', 'Neutral', '1']\n",
            "['Sirwtama lat katak tinne', 'Sad', 'Neutral', '1']\n",
            "['Taukanna mekiwa lngadima walalanooo', 'Anger', 'Anger', '1']\n",
            "['mekige mole hoda nadda koheda', 'Anger', 'Neutral', '1']\n",
            "['Okige hati katha krana widiyen hithagnna ahaki', 'Anger', 'Anger', '1']\n",
            "['kata balu puka wage', 'Anger', 'Anger', '1']\n",
            "['kata wahagena pala moda wesi', 'Anger', 'Anger', '1']\n",
            "['Sirwtama huth*& mata uba gana patta sathutui bn❤️😍', 'Happy', 'Happy', '0']\n",
            "['Eh huththo trip ekk plan karapan pako', 'Neutral', 'Neutral', '0']\n",
            "['Eka patta huththo ❤️😍', 'Happy', 'Happy', '0']\n",
            "['Mu pa^&*a wage kari talk dunnata supiri dial ekk', 'Neutral', 'Neutral', '0']\n",
            "['Muge nam bn boru kaiya withrai melo mgulk kraganna baaa', 'Sad', 'Neutral', '1']\n",
            "['Kaud me hu... muta try krnne iya mta appiriyai muwa thota coronwth hdil mren n ne 😁😁', 'Anger', 'Anger', '1']\n",
            "['Hutto meki patta lassnai nehh mokk unath', 'Happy', 'Neutral', '0']\n",
            "['Oyalat hama dema free neda..apat thama nikan hal kilo ekk wt hambenne wat nette🥺', 'Neutral', 'Sad', '0']\n",
            "['Ubala higganno kiyalath hithenawa\\n', 'Anger', 'Neutral', '1']\n",
            "['Genawanm kala bila paduwe hitahan ban apiriyayi 🤮', 'Anger', 'Anger', '1']\n",
            "['Balan giyama mun denna kana tharamak kanne pinata ne.. Api hodai ne..', 'Anger', 'Neutral', '1']\n",
            "['Mekige natilla wadiwela thiyenne mewa kalada koheda', 'Neutral', 'Neutral', '1']\n",
            "['Paduwe hitapnko wada nodi hama kakka godkm video karala dan nathuwa 🤣🤣🤣🤣', 'Anger', 'Anger', '1']\n",
            "['Promotion advertising කියන්නෙ සාමාන්\\u200dය දෙයක් ( දන්න තරමින්) පිනට කෑමක් නෙමේ. ඒව කෙටි කාලීන වෙළද උපක්\\u200dරම .', 'Neutral', 'Neutral', '0']\n",
            "['Nikan hamba wena badu , pada show nanda 😬', 'Anger', 'Neutral', '1']\n",
            "['Arakku nedda 😁', 'Neutral', 'Neutral', '0']\n",
            "['අනේ මන්දා මෙහෙම පිනට කන උන් set එකක්', 'Anger', 'Neutral', '1']\n",
            "['Ane pissu ne Dinakshie Priyasad me ahinska minissunta kanda ntuwa inna atre owa odar krla genda ko salli', 'Neutral', 'Anger', '1']\n",
            "['දිනක්ශී කියන්නේ හරිම හොද නිහතමානී කෙනෙක් අකමැති නම් නොබලා ඉන්න ඕනේ බොරුවට නහිනවා', 'Happy', 'Neutral', '0']\n",
            "['Nodakin බැල්ලි උදේ පාන්දර', 'Anger', 'Anger', '1']\n",
            "['Paka thama', 'Anger', 'Anger', '1']\n",
            "['පුකට. නිකං ඉදිද්දි පොල්ලක් තියලා ඉද ගත්තොත් පුකේ හිලට සෙට් කරලා එක බහිද? බැස්සොත් එක මගෙ ජිවිතෙට ලොකු ප්\\u200dරශ්නයක් වෙයිද', 'Neutral', 'Neutral', '0']\n",
            "['E kaleta wadiya nam dan lassanai pin patai😍❤..vikara karala kettu wenna nam epa🥺', 'Happy', 'Happy', '0']\n",
            "['Dan thamai oya godak lassana...', 'Happy', 'Happy', '0']\n",
            "['Ekaleta wada dn nam godak lassanaaai 🤓💜️🌸\\n', 'Happy', 'Happy', '0']\n",
            "['උඹලගෙ රෙද්දවල් හොයනාට වඩා වැඩ අපිට තියෙනව බන්..', 'Neutral', 'Anger', '0']\n",
            "['Murderer', 'Anger', 'Anger', '1']\n",
            "['My favorite actress ❤️', 'Happy', 'Happy', '0']\n",
            "['Absolutely beautiful', 'Happy', 'Happy', '0']\n",
            "['Looks pretty as always', 'Happy', 'Happy', '0']\n",
            "['සුදු මැණිකේ 😌👍', 'Neutral', 'Neutral', '0']\n",
            "['ඔයා මාව පිස්සෙක් කරනවනේ😍', 'Happy', 'Happy', '0']\n",
            "['Meki hithagena inne hena model  kiyala', 'Sad', 'Neutral', '1']\n",
            "['Hina wenna epa amanussa tirisano 🤣🤣', 'Neutral', 'Happy', '0']\n",
            "['Samajeta barak hutto mun 😂😂', 'Anger', 'Neutral', '1']\n",
            "['Pakayo🤣🤣', 'Neutral', 'Happy', '1']\n",
            "['Ane umbe ammata huka*& patta wesi', 'Anger', 'Anger', '1']\n",
            "['Ammapa baduth dakala tino me wage badu dakke ada ', 'Anger', 'Anger', '1']\n",
            "['meki nm patta eladenak, lassna withrai mole na binduwak', 'Anger', 'Anger', '1']\n",
            "['Thoi thoge lamai nui okkoma marila palayan ', 'Anger', 'Anger', '1']\n",
            "['Balapan muta raul ghakwath na, sirwtama ponna patai', 'Anger', 'Neutral', '1']\n",
            "['අනේ පඩ වේසි ලංකාවේ ඉපදිලා වෙන රටකට ගිහින් හුකාගෙන ලංකාවට බනින්න එපා. තෝ ලංකාවට එන්නත් එපා. අවොත් පුකෙන් යවන්නේ', 'Anger', 'Anger', '1']\n",
            "['Pala huththo yanna, lankwata enna denne na thopi wage we%^ badu walata aith', 'Anger', 'Anger', '1']\n",
            "['අනේ පලයං හුත්####යේ තෝ ඉපදිච්ච රටට ඕම ගරානවනම් තොගේ පවුල් ජීවිතයගෙන අමුතුවෙන් කියන්න ඔනිනෙ වැ###යේ ගෑනියෙක් උනාම ඔයට වඩා කල්පනා කාරී වෙන්න ඕනී උඹ අන්න එක විතරක් මතක තියා ගනීන්', 'Anger', 'Anger', '1']\n",
            "['Ane palayan yanna gon wassi', 'Anger', 'Anger', '1']\n",
            "['Ane ponna huththo tho danna paka, thopiwa wala danne naa kelinma gini thiyanawa ammapa', 'Anger', 'Anger', '1']\n",
            "['oya nkn aunty knk wage', 'Sad', 'Neutral', '1']\n",
            "['eka eka widiyata  photo gahala dammama hithn inne hena model kiyalada', 'Neutral', 'Anger', '0']\n",
            "['Awurudu 20 k welath athi hila wawak wage, gon baduwa', 'Anger', 'Anger', '1']\n",
            "['Mu hora dosthara kenekda', 'Neutral', 'Neutral', '0']\n",
            "['Budusaranai oyata', 'Happy', 'Happy', '0']\n",
            "['Ado huththo ubala travel karana than dakkama patta asa hitheno', 'Happy', 'Happy', '0']\n",
            "['Henama gahapn', 'Anger', 'Anger', '1']\n",
            "['Hodata allanwa athi patta huththige, size eka dakkama kiynn puluwan', 'Anger', 'Anger', '1']\n",
            "['Balu huththi', 'Anger', 'Anger', '1']\n",
            "['Balu we%^ appata hukwanna ona, marila palayan we$%', 'Anger', 'Anger', '1']\n",
            "['E ballo athl gnepa pako, lajjai ban  😂', 'Neutral', 'Happy', '0']\n",
            "['Hutho daganin e game eka, eka patta yako ❤️', 'Neutral', 'Neutral', '0']\n",
            "['Whuththo me kella ubata wada hodta gahno bn game eka, kar&^% ubata thamai bari   😂', 'Neutral', 'Neutral', '0']\n",
            "['Baduwk wage', 'Anger', 'Anger', '1']\n",
            "['Meki baduwak', 'Sad', 'Anger', '1']\n",
            "['Kari wesi', 'Anger', 'Anger', '1']\n",
            "['Baninna kunuharpa na me Hu^%!$ta', 'Anger', 'Anger', '1']\n",
            "['Uba nam bath kana harakek ban  😂', 'Sad', 'Neutral', '1']\n",
            "['Balapan huththo aruta an awillada kiyala, mee harak patiyek', 'Anger', 'Neutral', '1']\n",
            "['Pa*awal katata aran, kate loku wesige', 'Anger', 'Anger', '1']\n",
            "['Ponni', 'Anger', 'Anger', '1']\n",
            "['ponna we*&ge puthek', 'Anger', 'Anger', '1']\n",
            "['pu&^ amaruwa harida dn', 'Anger', 'Neutral', '1']\n",
            "['Pu&^ dilama pu&^ size eka balapan ', 'Anger', 'Anger', '1']\n",
            "['Puka sududa', 'Anger', 'Neutral', '1']\n",
            "['Ammmata yako me huththige puke loku', 'Anger', 'Surprise', '1']\n",
            "['Puka denepa oya', 'Anger', 'Anger', '1']\n",
            "['Pissu yakek aise mu nam. 😂', 'Neutral', 'Neutral', '0']\n",
            "['whuththo muta pissu thada welada mnda patta kills tikak gaththa. ammoh suprii hodeee ❤️', 'Happy', 'Happy', '0']\n",
            "['Pissek   😂', 'Neutral', 'Neutral', '0']\n",
            "['ganiye ubata pissu nam gihin beheth tikak ganin apata pau nodi', 'Anger', 'Anger', '1']\n",
            "['පිස්සු හුත්තියක්', 'Anger', 'Anger', '1']\n",
            "['පිස්සු හුත්ති...', 'Anger', 'Anger', '1']\n",
            "['හුට්ටෝ උබෙ ඔලුවත් ගිනි ගන්නවා', 'Neutral', 'Neutral', '0']\n",
            "['හුම්තො', 'Neutral', 'Neutral', '0']\n",
            "['ඕයි ඕයි මෙයා අඩනවා පව් බන්....', 'Sad', 'Sad', '0']\n",
            "['අනේ ඔයා අඩනවද අඩන්න එපා මගේ පපුව රිදෙනවා වගේ', 'Sad', 'Sad', '0']\n",
            "['බැක් සයිඩ් දාලද කොහෙද..', 'Anger', 'Neutral', '1']\n",
            "['ඇඩුන්නැත්තන් උබලා තිරිසනු', 'Sad', 'Neutral', '0']\n",
            "['අමෝ අමෝ කැම්රියෙක් 🙏😊', 'Neutral', 'Neutral', '1']\n",
            "['උබේ දත් ටිකනම් සුපිරීයි බන්.', 'Neutral', 'Neutral', '0']\n",
            "['Eeiyaa... Kolu karayekda koheda..', 'Disgust', 'Disgust', '1']\n",
            "['Ammo kawda bn me besige badda', 'Anger', 'Neutral', '1']\n",
            "['App එකක් කරපු හදියක්😂.දක්ෂයින්ට තැන නෑ ලංකාවෙ☹️☹️', 'Neutral', 'Neutral', '1']\n",
            "['Ane me mona magulakda me', 'Neutral', 'Neutral', '0']\n",
            "['හම්නේ හම්නේ මේවනේ gocs', 'Neutral', 'Neutral', '0']\n",
            "['Wede hoadata karala', 'Happy', 'Happy', '0']\n",
            "['කොට මොඩ්ල් ලග පිකප්', 'Neutral', 'Neutral', '0']\n",
            "['කොට කෙල්ලො හුරතල්', 'Happy', 'Neutral', '0']\n",
            "['Enm bomca oya ganath kathakrnna weno', 'Neutral', 'Neutral', '0']\n",
            "['Hed massag ekak body massag ekak on a nam adu mudalata karala dennam Namathi nam katha keranna 0770549819 galle', 'Neutral', 'Neutral', '0']\n",
            "['Oyala maha janathavata kiya නිම karanna be බුදු saranai නිදුක් නිරෝගී සම්පත් ලැබේවා seyaluma denata බුදු saranai', 'Happy', 'Happy', '0']\n",
            "['තොපි වගෙ මන්ද මානසික ලදරුවො. අනිවාර්යයෙන්ම උබලයි පවුලටම මොංගල් එකනෙ ඔහොම හැසිරෙන්නේ උබ කෙල්ලෙක් නෙද තො බදින එකා උබට වඩා මොංගල් වෙන්න ඕනෙ', 'Anger', 'Anger', '1']\n",
            "['කටට පොඩ්ඩක් ගන්න බෑද', 'Neutral', 'Neutral', '1']\n",
            "['Poya dawasewath me lamaita sil tikak rakaganna denoko', 'Neutral', 'Neutral', '0']\n",
            "['Mata ube puke danna asi ban', 'Neutral', 'Neutral', '1']\n",
            "['Nodakin wesi', 'Anger', 'Anger', '1']\n",
            "['සැපක් ගමුත😂😂😂🤭', 'Neutral', 'Neutral', '0']\n",
            "['ubath asai ne wahal ballek wenna', 'Anger', 'Neutral', '1']\n",
            "['React krnn thiyna emoji godta 🤮 👈 menna me emoji eka dnna barida dnne na😂', 'Disgust', 'Disgust', '0']\n",
            "['පුපට පයින් 2ක් දෙන්න හිතෙනවා සික්', 'Disgust', 'Disgust', '1']\n",
            "['Iya hebei', 'Disgust', 'Disgust', '1']\n",
            "['සුපිරියක් තමා. මාකටින් වැඩ්ඩො තමා👌', 'Happy', 'Happy', '0']\n",
            "['Anti oya pumban inna wa wage penna 😅😅😅', 'Neutral', 'Neutral', '1']\n",
            "['puke arinna kwrut ndda kellek. huttata diwa dagnn asa aya inbox enna. aurudu 22i mata. sapa dennam ona tram. girls only. okkoma rahasigathai', 'Neutral', 'Neutral', '0']\n",
            "['MARU HABAY 😂', 'Neutral', 'Neutral', '0']\n",
            "['එතකොට පම්ක 😁😁😁😁😁', 'Neutral', 'Neutral', '0']\n",
            "['පිපිඤ්ඤා මාලුවක් වාගේ 😂💔', 'Neutral', 'Neutral', '0']\n",
            "['Diva dammatha 👀', 'Neutral', 'Neutral', '1']\n",
            "['omg🤣🤣🤣 ඔල්මාද බඩුවක්නෙ පුටුවක් බලලා වාඩි කරවන්නකො 😂😂🥴🥴', 'Happy', 'Neutral', '0']\n",
            "['මේ මේ මෙන්න කොලුකාර පාපතරයෝ උබ දාන්න කොලුකාරයව mention කරන්න මං කරොත් තරහ වෙයි 😂💔', 'Anger', 'Neutral', '1']\n",
            "['Aluth ballo jathiyak da koheda 🤣🤣🤣', 'Neutral', 'Neutral', '1']\n",
            "['Cerima attac 😂', 'Happy', 'Neutral', '0']\n",
            "['කම්වුද ඔම්තන කොම්ලා මම්ට තේරෙම්නෙ නෑ🤣🤣🤣🤣🤣🤣🤣🤣😄😄😄', 'Neutral', 'Neutral', '1']\n",
            "['sessy krnv nethe 😂', 'Neutral', 'Neutral', '1']\n",
            "['කිරි මයිල් තියෙන මේ පොඩි එකා කාගෙද....මොකාද මුගේන් ඕකිව ඉල්ලුව තැරි දාර ගොන් වස්සා ....🤣🤣🤣🤣🤣🤣🤪🤪🤪🤪🤪🤭🤭🤭🤭🤣🤣🤣🤣🤣', 'Anger', 'Anger', '1']\n",
            "['ඔකිව දෙකට නමල්. ගහගනින් පුතෙ පුකේ.💔🤦😹🖐️', 'Anger', 'Anger', '1']\n",
            "['Mokedda me athagala bbalapan yata tiyenne mokadda kiyala', 'Anger', 'Anger', '1']\n",
            "['දැක්කා දැක්කා මචාංං😂', 'Neutral', 'Neutral', '0']\n",
            "['දැක්කේ නෑ අර අක්කා පෙන්නුවනේ 🙂', 'Neutral', 'Neutral', '0']\n",
            "['Oka inbox dn puluwnd🤧', 'Neutral', 'Neutral', '0']\n",
            "['Negga👍', 'Neutral', 'Neutral', '0']\n",
            "['Hodata inna pirimi, kolu karayo wenwa mu nisa kwdahri🙂', 'Anger', 'Neutral', '1']\n",
            "['deiyane deialyane oyalage area eka peththa netha mea yaaalu 🌚🙄', 'Surprise', 'Surprise', '0']\n",
            "['Thonam walalunawe 🤣🤣', 'Anger', 'Neutral', '1']\n",
            "['අම්මට ඩිස්කේ කෞද😂 හුත්තෝ මේ😪 ලන්තෑරුම....😒😒', 'Surprise', 'Neutral', '1']\n",
            "['Bike eka : Ado mage watinakamth mu nathi karanwa🙂', 'Anger', 'Neutral', '1']\n",
            "['Paw bn asarana jeevtha mewwa.😂😂😂😂😂...apita katha unata unta hena lassnata penwa athi nh', 'Sad', 'Neutral', '1']\n",
            "['Munwa hoyagena gihilla gal gahala meruwath madi. Munge දෙමව්පියන් paw', 'Anger', 'Anger', '1']\n",
            "['kukku tibbata wadak muna awul nam', 'Neutral', 'Neutral', '1']\n",
            "['Kakka godak😒😑✌️', 'Disgust', 'Disgust', '1']\n",
            "['Loking gorgeous😍 😘❤❤❤👌👍🏁', 'Happy', 'Happy', '0']\n",
            "['මෙච්චර Qualification තිබිලත් රෝහිත රාජපක්ෂ උබට තාම රස්සාවක් නෑනෙ…… 🤦🏽🤦🏽', 'Anger', 'Neutral', '1']\n",
            "['ඔව් ඉතින් අපි ගෙවනවා පින්ගුත්තරයා ආතල් ගන්නවා', 'Anger', 'Anger', '0']\n",
            "['මෙයාට නම් මොල හතකට වඩා තියනව වගෙයි..🌚 25 මෙයා ගේමු නේත 🖤', 'Anger', 'Neutral', '0']\n",
            "['Lorry talks less works - A better Slogan for you sir!', 'Anger', 'Anger', '1']\n",
            "['Mr.President, the people are eager to change the government, including you, not the climate.', 'Anger', 'Anger', '1']\n",
            "['සැර් අපිට දීපු සහන පැකේජයට තෑන්ක්ස්...', 'Happy', 'Neutral', '0']\n",
            "['Good Luck President My Cuntry 🇱🇰🇱🇰🇱🇰🇱🇰🇱🇰🇱🇰🇱🇰 Congratulations Sir ❤️❤️❤️', 'Happy', 'Happy', '0']\n",
            "['I see a big failure walking around', 'Sad', 'Sad', '1']\n",
            "['Loku adambarayak danenwa sir jathyanthare amathanawa.. nadayo horakapuwa eliwela jathyanthare nama yanwa', 'Anger', 'Anger', '1']\n",
            "['කිරිපිටි කියද , දැන් ශැපද 😂🤣🤣🤣😂😂🤣🤣', 'Anger', 'Anger', '1']\n",
            "['me gani ipadila tinne lankawe newe machan, ahu una nm bella kadala maranne bn.', 'Anger', 'Anger', '1']\n",
            "['ඕක ගහගනින් පුකේ 😂🙏', 'Anger', 'Neutral', '1']\n",
            "['ඔක එකිට දීපන් හුත්තෙ ගහගන්න කියල කැරියා මින කැදයෙක්ද බන් ම්ව්ව්', 'Anger', 'Anger', '1']\n",
            "['ඔකගහගනින් උබේ කිම්බේ', 'Anger', 'Anger', '1']\n",
            "['හුකපන් උබ පකය😂😂😂', 'Anger', 'Neutral', '1']\n",
            "['අමොහ් පුක 😂😂😂😂😂😂', 'Surprise', 'Surprise', '1']\n",
            "['හදවත කලිසම අස්සෙ දාගනින්😁', 'Neutral', 'Neutral', '1']\n",
            "['පුක පලාගන්නද හදන්නෙ මැට්ටො😅😅', 'Neutral', 'Neutral', '1']\n",
            "['ආ ඔය කොල්ල තමා ස්පා එකට ආවේ මාත් හිටියෙ එහා රූම් එකේ 😅', 'Neutral', 'Neutral', '1']\n",
            "['Meya nikan transgender kenek wage', 'Surprise', 'Neutral', '1']\n",
            "['Thamuse nam pattama modai yako😅', 'Anger', 'Neutral', '0']\n",
            "['Mata nam sirwaatama epa wela tinne me huththa, mala panino yako', 'Neutral', 'Sad', '0']\n",
            "['Ammapa oi me kari game eka uninstall krno mn redda epa wela oi tinne mata', 'Neutral', 'Sad', '0']\n",
            "['Mata nam marenn hitheno bn, mona kaurmyakda me gewanne', 'Neutral', 'Sad', '0']\n",
            "['Epa weno bn aith campus yanna gyama, redda coronawath hadenne nane', 'Neutral', 'Sad', '0']\n"
          ]
        }
      ]
    },
    {
      "cell_type": "markdown",
      "source": [
        "# **C L E A N I N G ✌**"
      ],
      "metadata": {
        "id": "FenJqxp6ArSj"
      }
    },
    {
      "cell_type": "code",
      "source": [
        "import pandas as pd\n",
        "import emoji as emj\n",
        "\n",
        "EMOJIS = emj.UNICODE_EMOJI[\"en\"]\n",
        "\n",
        "#Move emojies to another column\n",
        "def add_emoji_column(df):\n",
        "  emoji_column = \"\"\n",
        "  for emoji in EMOJIS:\n",
        "    if emoji in df:\n",
        "      emoji_column = emoji_column + emoji\n",
        "  return emoji_column"
      ],
      "metadata": {
        "id": "V6CJ4o79Af8I"
      },
      "execution_count": null,
      "outputs": []
    },
    {
      "cell_type": "code",
      "source": [
        "hateSpeechData['emoji']=hateSpeechData['Text'].apply(lambda x : add_emoji_column(x))\n",
        "hateSpeechData.head()"
      ],
      "metadata": {
        "id": "Q2j6Mwv8skqC"
      },
      "execution_count": null,
      "outputs": []
    },
    {
      "cell_type": "code",
      "source": [
        "# Remove Emojies from the text\n",
        "def remove_emojies(df):\n",
        "  cleaned_emojies = \"\"\n",
        "  for emoji in EMOJIS:\n",
        "    if emoji in df:\n",
        "      df = df.replace(emoji, \" \")\n",
        "  return df"
      ],
      "metadata": {
        "id": "t2XLIa_MAf1w"
      },
      "execution_count": null,
      "outputs": []
    },
    {
      "cell_type": "code",
      "source": [
        "hateSpeechData['emoji_cleaned_text']=hateSpeechData['Text'].apply(lambda x : remove_emojies(x))\n",
        "hateSpeechData.head() "
      ],
      "metadata": {
        "id": "dtZFTySbs0Vm"
      },
      "execution_count": null,
      "outputs": []
    },
    {
      "cell_type": "code",
      "source": [
        "#Sinhala Unicode -> Romanized Sinhala\n",
        "def sinhalaToSinglish(inputDf):\n",
        "  for index in range(len(inputDf)):\n",
        "      currTokenList = inputDf['emoji_cleaned_text'].values[index]\n",
        "      singlishTokenList = []\n",
        "      for token in currTokenList:\n",
        "        singlishTokenList.append(unidecode(token))\n",
        "        inputDf['emoji_cleaned_text'].values[index] = \"\".join(singlishTokenList);\n",
        "  return inputDf"
      ],
      "metadata": {
        "id": "Jpwxs53wAfuE"
      },
      "execution_count": null,
      "outputs": []
    },
    {
      "cell_type": "code",
      "source": [
        "sinhalaToSinglish(hateSpeechData)\n",
        "hateSpeechData.head()"
      ],
      "metadata": {
        "id": "CtA6_fEps8E_"
      },
      "execution_count": null,
      "outputs": []
    },
    {
      "cell_type": "code",
      "source": [
        "hateSpeechData['emoji_cleaned_text'] = hateSpeechData['emoji_cleaned_text'].str.lower()"
      ],
      "metadata": {
        "id": "LRA_w2WHKhEy"
      },
      "execution_count": null,
      "outputs": []
    },
    {
      "cell_type": "code",
      "source": [
        "#Remove URLs\n",
        "def urlRemoving(inputDf):\n",
        "  for i in range(len(inputDf)):\n",
        "    currentPhase= inputDf['emoji_cleaned_text'].values[i]\n",
        "    inputDf['emoji_cleaned_text'].values[i] = re.sub(r'\\w+:\\/{2}[\\d\\w-]+(\\.[\\d\\w-]+)*(?:(?:\\/[^\\s/]*))*', '', currentPhase)\n",
        "  return inputDf "
      ],
      "metadata": {
        "id": "kZQ3Ck0fAflz"
      },
      "execution_count": null,
      "outputs": []
    },
    {
      "cell_type": "code",
      "source": [
        "#Training Dataset\n",
        "urlRemoving(hateSpeechData)\n",
        "hateSpeechData.head()"
      ],
      "metadata": {
        "id": "O31g2pY5tMm6"
      },
      "execution_count": null,
      "outputs": []
    },
    {
      "cell_type": "code",
      "source": [
        "# Clean training data and testing data\n",
        "# remove html tags\n",
        "def remove_tags(string):\n",
        "    result = re.sub('<.*?>','',string)\n",
        "    return result\n",
        "\n",
        "# remove line seperators\n",
        "def remove_line_seperators(string):\n",
        "    result=re.sub(\"\\\\n\", \"\", string)\n",
        "    return result\n",
        "\n",
        "# remove repeated characters\n",
        "def remove_repeated_characters(text):\n",
        "    regex_pattern = re.compile(r'(.)\\1+')\n",
        "    clean_text = regex_pattern.sub(r'\\1\\1', text)\n",
        "    return clean_text\n",
        "\n",
        "# # seperate digit with text\n",
        "# def separate_digit_text(text):\n",
        "#     regex_patter = re.compile(r'([\\d]+)([a-zA-Z]+)')\n",
        "#     clean_text = regex_patter.sub(r'\\1 \\2', text)\n",
        "#     return clean_text\n",
        "\n",
        "# remove punctuations\n",
        "def remove_punctuations(text):\n",
        "    test_punc_removed = [(ch if ch not in string.punctuation else \" \") for ch in text ]\n",
        "    test_punc_removed_join = ''.join(test_punc_removed)\n",
        "    return test_punc_removed_join\n",
        "\n",
        "# remove extra space\n",
        "def remove_extra_space(text):\n",
        "    clean_text = ' '.join(text.strip().split())\n",
        "    return clean_text\n",
        "\n",
        "# clean all text\n",
        "def cleantext(text):\n",
        "    text_cleaned= remove_line_seperators(\n",
        "            remove_extra_space(\n",
        "                remove_punctuations(\n",
        "                    remove_repeated_characters(remove_tags(text)            \n",
        "                            )\n",
        "                        )\n",
        "                    )\n",
        "                )\n",
        "    # text_cleaned=separate_digit_text(text_cleaned)\n",
        "    return text_cleaned"
      ],
      "metadata": {
        "id": "54-oYeQAAkb-"
      },
      "execution_count": null,
      "outputs": []
    },
    {
      "cell_type": "code",
      "source": [
        "#clean training data\n",
        "hateSpeechData['comments_fixed']=hateSpeechData['emoji_cleaned_text'].apply(lambda cw : cleantext(cw))\n",
        "hateSpeechData.head()"
      ],
      "metadata": {
        "id": "ggiYiF4WAlNg"
      },
      "execution_count": null,
      "outputs": []
    },
    {
      "cell_type": "markdown",
      "source": [
        "# **T O K E N I Z E**"
      ],
      "metadata": {
        "id": "j_xjYqSpPyOI"
      }
    },
    {
      "cell_type": "code",
      "source": [
        "def tokenize(text):\n",
        "    tokens = re.split('\\W+', text)\n",
        "    return tokens"
      ],
      "metadata": {
        "id": "P3Xahd0dLixQ"
      },
      "execution_count": null,
      "outputs": []
    },
    {
      "cell_type": "code",
      "source": [
        "#Tokenize training data\n",
        "trainingData['body_text_tokenized'] = trainingData['comments_fixed'].apply(lambda x: tokenize(x.lower()))\n",
        "trainingData.head()"
      ],
      "metadata": {
        "id": "fw5du-SCL090"
      },
      "execution_count": null,
      "outputs": []
    },
    {
      "cell_type": "code",
      "source": [
        "#Tokenize testing data\n",
        "testingData['body_text_tokenized'] = testingData['comments_fixed'].apply(lambda x: tokenize(x.lower()))\n",
        "testingData.head()"
      ],
      "metadata": {
        "id": "vuKoy1SvMfgG"
      },
      "execution_count": null,
      "outputs": []
    },
    {
      "cell_type": "markdown",
      "source": [
        "# **S T O P__W O R D__R E M O V A L**"
      ],
      "metadata": {
        "id": "B2VUuHZBPso3"
      }
    },
    {
      "cell_type": "code",
      "source": [
        "# function to count the total tokens\n",
        "def getTotalTokens(token_set):\n",
        "    count = 0\n",
        "    for tSet in token_set:\n",
        "        count += len(tSet)\n",
        "    return count"
      ],
      "metadata": {
        "id": "LJgPLSmjvMFj"
      },
      "execution_count": null,
      "outputs": []
    },
    {
      "cell_type": "code",
      "source": [
        "# function to count the total unique tokens\n",
        "def getTotalUniqueTokens(token_set):\n",
        "    count = 0\n",
        "    for tSet in token_set:\n",
        "        uniqueTokens = set(tSet)\n",
        "        count += len(uniqueTokens)\n",
        "    return count"
      ],
      "metadata": {
        "id": "HpRPSot-KwKR"
      },
      "execution_count": null,
      "outputs": []
    },
    {
      "cell_type": "code",
      "source": [
        "#-------------------------COMPARE REMOVING AND WITHOUT REMOVING----------------------------\n",
        "#Remove Stop words\n",
        "stopword = ['dha', 'ya', 'mea', 'ea', 'haa', 'ma', 'bawa', 'nam', 'dhe', 'shdhaha', 'yi',\n",
        "                                'shaha', 'lesa', 'hoo', 'aetha', 'nisa', 'meama', 'wa', 'gaena', 'wisin', 'wita',\n",
        "                                'ema', 'thula', 'kota', 'yuthu', 'washayen', 'no', 'pilibadha', 'anuwa', 'eheth',\n",
        "                                'pasu', 'eak', 'mean', 'sita', 'neatha', 'weani', 'nea', 'wada', 'bohoa', 'etha',\n",
        "                                'naehea', 'thawath', 'bawata', 'pamanak', 'yam', 'samaga', 'matha', 'sae', 'namuth',\n",
        "                                'peara', 'maha', 'weatha', 'pamana', 'samaga', 'nowea', 'magin', 'enam', 'weanuwen',\n",
        "                                'yatathea', 'saema', 'pasuwa', 'thamayi', 'dhakwa', 'nowa', 'siyalu', 'yaeyi',\n",
        "                                'aethaem', 'yanu', 'waenuwen', 'haema', 'pinisa', 'patan', 'sahitha', 'hari',\n",
        "                                'aethulu', 'wagae', 'paridhi', 'pawa', 'thawa', 'samaharu', 'samahara', 'eath',\n",
        "                                'wena', 'baewin', 'pahala', 'wadaath', 'haera', 'pita', 'eweni', 'aa', 'ehala',\n",
        "                                'thulin', 'ekka', 'aadhi', 'mulu', 'sambandhayean', 'peawathi', 'oya', 'wath',\n",
        "                                'pamani', 'wen', 'pura', 'ona', 'epa', 'ewita', 'hewath', 'yanuwen', 'meawaeni',\n",
        "                                'ow', 'ethi', 'tika', 'ihatha', 'kara', 'kisiyam', 'aeyi', 'kisima', 'ara', 'heyin',\n",
        "                                'kisidhu', 'hata', 'anek', 'idhiri', 'thek', 'waenuwata', 'haetiyata', 'yata',\n",
        "                                'dhaeyi', 'mokadha', 'maghin', 'baew', 'an', 'ona', 'laga', 'uth', 'haraha',\n",
        "                                'asala', 'baehaera', 'hoth', 'ekthara', 'uda', 'athurin', 'klhi', 'ayuru', 'noyek',\n",
        "                                'atharin', 'ammea', 'aethuluwa', 'hariyatama', 'ethana', 'ehaata', 'kawara',\n",
        "                                'wanaahi', 'osseama', 'naethinam', 'udhesa', 'naedha', 'baehae', 'misa', 'haeti',\n",
        "                                'wata', 'bae', 'etharam', 'thawadhuratath', 'thawa', 'thuru', 'idhiriyae',\n",
        "                                'edhiriyae', 'hariyata', 'ebadhu', 'naethdha', 'naedhdha', 'anea', 'mona',\n",
        "                                'ethamath', 'ithamath', 'ethakota', 'aneakuth', 'awata', 'aetha', 'meabadhu',\n",
        "                                'lath', 'thulata', 'kohomadha', 'kumana', 'lesin', 'badhu', 'oonaema', 'sahagatha',\n",
        "                                'lagata', 'wethata', 'waenidhaa', 'onea', 'passea', 'thissea', 'saeti', 'baegin',\n",
        "                                'sesu',\n",
        "                                'bohoma', 'kotharam', 'aethath', 'yanuwen', 'koyi', 'upa', 'yae', 'kotharam', 'o',\n",
        "                                'anith', 'onna', 'naethahoth', 'witharak', 'kawdha', 'hugak', 'naetheyi', 'pitatha',\n",
        "                                'saema', 'nisama', 'passea', 'seaka', 'ewan', 'monawadha', 'samagama', 'thawadha',\n",
        "                                'sadha', 'haebaeyi', 'atharin', 'lesata', 'dhigata', 'mandha', 'namuth', 'namudhu',\n",
        "                                'eheanam', 'kepa', 'emagin', 'idhin', 'mokakdha', 'dhigea', 'witaka', 'meani',\n",
        "                                'sambandhawa', 'nohoth', 'anna', 'monawadha', 'harima', 'naethinam', 'atharaata',\n",
        "                                'pitathata', 'wan', 'yatin', 'wagea', 'nisath', 'pahalata', 'anya', 'eha', 'witama',\n",
        "                                'vitama', 'noyekuth', 'withara',\n",
        "                                'ihalin', 'iwatha', 'nomethiwa', 'hudeak', 'meaweni', 'waethin', 'weni', 'waewa',\n",
        "                                'andhamin', 'meanma', 'was', 'kiipa', 'kochchra', 'methaenin', 'methena',\n",
        "                                'idhiripita', 'purama', 'witaka', 'athishaya', 'dhepasa', 'peareadha', 'aethulata',\n",
        "                                'atharea', 'yamkisi', 'aassithawa', 'thak', 'koa', 'uda', 'meatha', 'ehalata',\n",
        "                                'dhenatamath', 'wenama', 'arabeaya', 'rahitha', 'pitin', 'paahea', 'aethinam',\n",
        "                                'aeththam', 'atharam', 'kuwuruth', 'paridhdhen', 'watea', 'keabadhu', 'kothek',\n",
        "                                'naththam', 'hindha', 'pasupasa', 'meha', 'ladheyi', 'paasa', 'pawa', 'perata',\n",
        "                                'waediputa', 'aethin', 'ethek', 'vina', 'maedhin', 'idhiriyean', 'pitupasa',\n",
        "                                'samaga', 'mae', 'la', 'maenawi', 'sampanna', 'athurean', 'meathram',\n",
        "                                'obbata', 'nomilea', 'arabaya', 'abiyasa', 'idhiripasa', 'enamuth',\n",
        "                                'mathin''issaraha', 'echchrara', 'ekko', 'behi', 'magin', 'magini', 'ketuwa',\n",
        "                                'misak', 'eheamyi', 'hindha', 'idhin', 'lagin', 'asalin', 'dho''kelinma',\n",
        "                                'virahitha', 'mathata', 'asalata', 'atharahura',\n",
        "                                'mealagata', 'kethek', 'kola', 'ayyo', 'nomilea', 'ethanata', 'mulata', 'lu',\n",
        "                                'samagi', 'che', 'nithi', 'wenidha', 'apoyi', 'ochchrata', 'aaubowan', 'huga',\n",
        "                                'wanathuru', 'pamanata', 'pahathata', 'ewaka', 'pasakin', 'aethulea', 'yatathata',\n",
        "                                'yabadha', 'nan',\n",
        "                                'shik', 'shek', 'usi', 'anan', 'manan', 'ananmanan', 'ahaa', 'adhdharata',\n",
        "                                'monayam', 'athana', 'aethule', 'aethulen', 'pahathin', 'virahithawa', 'aayi',\n",
        "                                'enayin', 'samagin', 'obbehi', 'othana', 'ammo', 'sha', 'neathahoth', 'atharamaga',\n",
        "                                'asabada', 'yabadhawa', 'seakwa', 'atharamaga', 'obben', 'adhdhara',\n",
        "                                'achchrara', 'dhoho', 'chi', 'chik', 'adho', 'soshae', 'ethira', 'koyibata', 'ohea',\n",
        "                                'oh', 'adhomeyi', 'uhu', 'uu', 'u', 'otharam', 'abiyasin', 'appachchiyea', 'ado',\n",
        "                                'aane', 'ane', 'hindhama', 'ha', 'hapura', 'latha', 'ohe', 'an', 'ankisi', 'hurea',\n",
        "                                'uuyi', 'adhdharin', 'embala', 'abiyasa', 'abiyasata',\n",
        "                                'uuh', 'shi', 'sisi', 'koyibata', 'satapata', 'abiyesa', 'heleyiya', 'sata',\n",
        "                                'satata'\n",
        "\n",
        "                                ]\n",
        "\n",
        "def remove_stopwords(tokenized_list):\n",
        "    text = [word for word in tokenized_list if word not in stopword]\n",
        "    #text =\" \".join( [word for word in tokenized_list if word not in stopword])\n",
        "    return text"
      ],
      "metadata": {
        "id": "v_b4uEpFOqGU"
      },
      "execution_count": null,
      "outputs": []
    },
    {
      "cell_type": "code",
      "source": [
        "#Stop word removal testing data\n",
        "hateSpeechData['body_text_nostop'] = hateSpeechData['body_text_tokenized'].apply(lambda x: remove_stopwords(x))\n",
        "hateSpeechData.head(100)"
      ],
      "metadata": {
        "id": "C7OmDzR8O_R7"
      },
      "execution_count": null,
      "outputs": []
    },
    {
      "cell_type": "markdown",
      "source": [
        "# **V E C T O R I Z I N G**"
      ],
      "metadata": {
        "id": "ZogKeffiK7q_"
      }
    },
    {
      "cell_type": "markdown",
      "source": [
        "# **Count Vectorizer**"
      ],
      "metadata": {
        "id": "CIKb1_WNrnvH"
      }
    },
    {
      "cell_type": "code",
      "source": [
        "from sklearn.feature_extraction.text import TfidfVectorizer\n",
        "\n",
        "count_vect_sample = CountVectorizer()\n",
        "X_counts_sample = count_vect_sample.fit_transform(hateSpeechData['body_text_nostop'])\n",
        "print(X_counts_sample.shape)\n",
        "print(count_vect_sample.get_feature_names())"
      ],
      "metadata": {
        "id": "v-65YS_vp930"
      },
      "execution_count": null,
      "outputs": []
    },
    {
      "cell_type": "code",
      "source": [
        "X_counts_sample"
      ],
      "metadata": {
        "id": "gT2BxvqnsY_N"
      },
      "execution_count": null,
      "outputs": []
    },
    {
      "cell_type": "code",
      "source": [
        "X_counts_df = pd.DataFrame(X_counts_sample.toarray())\n",
        "X_counts_df"
      ],
      "metadata": {
        "id": "815WVJDbseBF"
      },
      "execution_count": null,
      "outputs": []
    },
    {
      "cell_type": "code",
      "source": [
        "X_counts_df.columns = count_vect_sample.get_feature_names()\n",
        "X_counts_df"
      ],
      "metadata": {
        "id": "JohyZPVPsjhr"
      },
      "execution_count": null,
      "outputs": []
    },
    {
      "cell_type": "markdown",
      "source": [
        "# **N-Grams + Count Vectorizer**"
      ],
      "metadata": {
        "id": "ykLzspt0szaG"
      }
    },
    {
      "cell_type": "markdown",
      "source": [
        "***Using Unigrams***"
      ],
      "metadata": {
        "id": "TOjNs_mFu1mq"
      }
    },
    {
      "cell_type": "code",
      "source": [
        "from sklearn.feature_extraction.text import CountVectorizer\n",
        "\n",
        "unigram_vectorizer = CountVectorizer(ngram_range=(1,1))\n",
        "X_countsUni = unigram_vectorizer.fit_transform(hateSpeechData['body_text_nostop'])\n",
        "print(X_countsUni.shape)\n",
        "print(unigram_vectorizer.get_feature_names())"
      ],
      "metadata": {
        "id": "vaJfLf4zuqwy"
      },
      "execution_count": null,
      "outputs": []
    },
    {
      "cell_type": "code",
      "source": [
        "X_counts_dfUni = pd.DataFrame(X_countsUni.toarray())\n",
        "X_counts_dfUni"
      ],
      "metadata": {
        "id": "esUj0pnu0XG2"
      },
      "execution_count": null,
      "outputs": []
    },
    {
      "cell_type": "code",
      "source": [
        "X_counts_dfUni.columns = unigram_vectorizer.get_feature_names()\n",
        "X_counts_dfUni"
      ],
      "metadata": {
        "id": "3p7UMPeV0zgs"
      },
      "execution_count": null,
      "outputs": []
    },
    {
      "cell_type": "markdown",
      "source": [
        "***Using Bigrams***"
      ],
      "metadata": {
        "id": "dowJHLU-uWBS"
      }
    },
    {
      "cell_type": "code",
      "source": [
        "from sklearn.feature_extraction.text import CountVectorizer\n",
        "\n",
        "bigram_vectorizer = CountVectorizer(ngram_range=(2,2))\n",
        "X_countsBi = bigram_vectorizer.fit_transform(hateSpeechData['body_text_nostop'])\n",
        "print(X_countsBi.shape)\n",
        "print(bigram_vectorizer.get_feature_names())"
      ],
      "metadata": {
        "id": "wkQY_nGPtR-b"
      },
      "execution_count": null,
      "outputs": []
    },
    {
      "cell_type": "code",
      "source": [
        "X_counts_dfBi = pd.DataFrame(X_countsBi.toarray())\n",
        "X_counts_dfBi"
      ],
      "metadata": {
        "id": "Q9Ucst8a0XhO"
      },
      "execution_count": null,
      "outputs": []
    },
    {
      "cell_type": "code",
      "source": [
        "X_counts_dfBi.columns = bigram_vectorizer.get_feature_names()\n",
        "X_counts_dfBi"
      ],
      "metadata": {
        "id": "uloF-MsW00vO"
      },
      "execution_count": null,
      "outputs": []
    },
    {
      "cell_type": "markdown",
      "source": [
        "***Using Trigrams***"
      ],
      "metadata": {
        "id": "WUAXDSWFuKQw"
      }
    },
    {
      "cell_type": "code",
      "source": [
        "from sklearn.feature_extraction.text import CountVectorizer\n",
        "\n",
        "trigram_vectorizer = CountVectorizer(ngram_range=(3,3))\n",
        "X_countsTri= trigram_vectorizer.fit_transform(hateSpeechData['body_text_nostop'])\n",
        "print(X_countsTri.shape)\n",
        "print(trigram_vectorizer.get_feature_names())"
      ],
      "metadata": {
        "id": "YitTXVUNtul2"
      },
      "execution_count": null,
      "outputs": []
    },
    {
      "cell_type": "code",
      "source": [
        "X_counts_dfTri = pd.DataFrame(X_countsTri.toarray())\n",
        "X_counts_dfTri"
      ],
      "metadata": {
        "id": "XIqoyHGy0X6Q"
      },
      "execution_count": null,
      "outputs": []
    },
    {
      "cell_type": "code",
      "source": [
        "X_counts_dfTri.columns = trigram_vectorizer.get_feature_names()\n",
        "X_counts_dfTri"
      ],
      "metadata": {
        "id": "n5gQU8RY01wd"
      },
      "execution_count": null,
      "outputs": []
    },
    {
      "cell_type": "markdown",
      "source": [
        "# ***Bag Of Words***"
      ],
      "metadata": {
        "id": "xxOq_g_qpx9I"
      }
    },
    {
      "cell_type": "code",
      "source": [
        "# bag of words\n",
        "from sklearn.feature_extraction.text import CountVectorizer\n",
        "BOWvectorizer = CountVectorizer()\n",
        "singlish_bag_of_words_X = BOWvectorizer.fit_transform(list(hateSpeechData['body_text_nostop']))"
      ],
      "metadata": {
        "id": "nXq8M50oeMeL"
      },
      "execution_count": null,
      "outputs": []
    },
    {
      "cell_type": "code",
      "source": [
        "print(singlish_bag_of_words_X)"
      ],
      "metadata": {
        "id": "sDPSUKskikcP"
      },
      "execution_count": null,
      "outputs": []
    },
    {
      "cell_type": "code",
      "source": [
        "singlish_bag_of_words_y = list(hateSpeechData.Label)\n",
        "print(singlish_bag_of_words_y)"
      ],
      "metadata": {
        "id": "iBrj_dnAj5bO"
      },
      "execution_count": null,
      "outputs": []
    },
    {
      "cell_type": "code",
      "source": [
        "# encoding labels\n",
        "from sklearn import preprocessing\n",
        "le = preprocessing.LabelEncoder()\n",
        "singlish_bag_of_words_y = le.fit_transform(singlish_bag_of_words_y)"
      ],
      "metadata": {
        "id": "tzDaMrExkE3j"
      },
      "execution_count": null,
      "outputs": []
    },
    {
      "cell_type": "code",
      "source": [
        "# train test split\n",
        "from sklearn.model_selection import train_test_split\n",
        "\n",
        "# singlish dataset\n",
        "X_train_singlish, X_test_singlish, y_train_singlish, y_test_singlish = train_test_split(singlish_bag_of_words_X, singlish_bag_of_words_y, test_size=0.2, random_state=42)"
      ],
      "metadata": {
        "id": "z2GsmIp6nhYI"
      },
      "execution_count": null,
      "outputs": []
    },
    {
      "cell_type": "markdown",
      "source": [
        "***Logistic Regression Model***"
      ],
      "metadata": {
        "id": "lLGCJ7hyoYh4"
      }
    },
    {
      "cell_type": "code",
      "source": [
        "# Logistic Regression Model for singlish\n",
        "from sklearn.linear_model import LogisticRegression\n",
        "logreg_singlish = LogisticRegression()\n",
        "logreg_singlish.fit(X_train_singlish, y_train_singlish)"
      ],
      "metadata": {
        "id": "VThB75Vtnpsw"
      },
      "execution_count": null,
      "outputs": []
    },
    {
      "cell_type": "code",
      "source": [
        "singlish_prediction = logreg_singlish.predict(X_test_singlish)"
      ],
      "metadata": {
        "id": "jRRI45zynyrX"
      },
      "execution_count": null,
      "outputs": []
    },
    {
      "cell_type": "code",
      "source": [
        "print(\"Accuracy for singlish dataset:\", logreg_singlish.score(X_test_singlish, y_test_singlish))"
      ],
      "metadata": {
        "id": "p_CsvgKpn02_"
      },
      "execution_count": null,
      "outputs": []
    },
    {
      "cell_type": "code",
      "source": [
        "# precision, recall and fscore\n",
        "from sklearn.metrics import precision_recall_fscore_support\n",
        "p, r, f, s =  precision_recall_fscore_support(y_test_singlish, singlish_prediction, average='macro')\n",
        "print(\"Precision for singlish dataset:\", p)\n",
        "print(\"Recall for singlish dataset:\", r)\n",
        "print(\"F score for singlish dataset:\", f)"
      ],
      "metadata": {
        "id": "M5MQ4RMUn3zp"
      },
      "execution_count": null,
      "outputs": []
    },
    {
      "cell_type": "code",
      "source": [
        "# confusion matrix\n",
        "from sklearn.metrics import plot_confusion_matrix\n",
        "plot_confusion_matrix(logreg_singlish, X_test_singlish, y_test_singlish)"
      ],
      "metadata": {
        "id": "L8f-AaRhoDPE"
      },
      "execution_count": null,
      "outputs": []
    },
    {
      "cell_type": "markdown",
      "source": [
        "***Naive Bayes Classifier***"
      ],
      "metadata": {
        "id": "i6Jwv50FyONe"
      }
    },
    {
      "cell_type": "code",
      "source": [
        "from sklearn.naive_bayes import MultinomialNB\n",
        "#Naive Bayes Classifier\n",
        "clf = MultinomialNB()\n",
        "clf.fit(X_train_singlish, y_train_singlish)"
      ],
      "metadata": {
        "id": "EraikBlQwrme"
      },
      "execution_count": null,
      "outputs": []
    },
    {
      "cell_type": "code",
      "source": [
        "singlish_prediction = clf.predict(X_test_singlish)"
      ],
      "metadata": {
        "id": "kJ6lAlmWxc4u"
      },
      "execution_count": null,
      "outputs": []
    },
    {
      "cell_type": "code",
      "source": [
        "print(\"Accuracy for singlish dataset:\", logreg_singlish.score(X_test_singlish, y_test_singlish))"
      ],
      "metadata": {
        "id": "dXf_z_fBxhKj"
      },
      "execution_count": null,
      "outputs": []
    },
    {
      "cell_type": "code",
      "source": [
        "p, r, f, s =  precision_recall_fscore_support(y_test_singlish, singlish_prediction, average='macro')\n",
        "print(\"Precision for singlish dataset:\", p)\n",
        "print(\"Recall for singlish dataset:\", r)\n",
        "print(\"F score for singlish dataset:\", f)"
      ],
      "metadata": {
        "id": "a49DuCJNxkQR"
      },
      "execution_count": null,
      "outputs": []
    },
    {
      "cell_type": "code",
      "source": [
        "# confusion matrix\n",
        "plot_confusion_matrix(logreg_singlish, X_test_singlish, y_test_singlish)"
      ],
      "metadata": {
        "id": "8Hup1cNTxnLa"
      },
      "execution_count": null,
      "outputs": []
    }
  ]
}